{
  "nbformat": 4,
  "nbformat_minor": 0,
  "metadata": {
    "colab": {
      "provenance": [],
      "gpuType": "T4",
      "include_colab_link": true
    },
    "kernelspec": {
      "name": "python3",
      "display_name": "Python 3"
    },
    "language_info": {
      "name": "python"
    },
    "accelerator": "GPU"
  },
  "cells": [
    {
      "cell_type": "markdown",
      "metadata": {
        "id": "view-in-github",
        "colab_type": "text"
      },
      "source": [
        "<a href=\"https://colab.research.google.com/github/nandaglhp/MachineLearning_Quiz2/blob/main/05_AnandaGP_Quiz2_OCR_CNN.ipynb\" target=\"_parent\"><img src=\"https://colab.research.google.com/assets/colab-badge.svg\" alt=\"Open In Colab\"/></a>"
      ]
    },
    {
      "cell_type": "markdown",
      "source": [
        "# Data Diri Mahasiswa\n",
        "\n",
        "Nama: Ananda Galih Pratiwi\n",
        "\n",
        "Kelas: TI-3F\n",
        "\n",
        "Absen: 05\n",
        "\n",
        "NIM: 2141720045"
      ],
      "metadata": {
        "id": "akRDgqiX_Np9"
      }
    },
    {
      "cell_type": "markdown",
      "source": [
        "# Import Library"
      ],
      "metadata": {
        "id": "fLV1Z5_Za3Ni"
      }
    },
    {
      "cell_type": "markdown",
      "source": [
        "Tahap ini melibatkan impor semua pustaka dan modul yang diperlukan untuk pengembangan dan pelatihan model CNN. Pustaka ini digunakan untuk berbagai tujuan seperti pemrosesan gambar, pembuatan model, evaluasi, dan visualisasi, dll."
      ],
      "metadata": {
        "id": "5h1yqtA0ocwP"
      }
    },
    {
      "cell_type": "code",
      "execution_count": 1,
      "metadata": {
        "id": "TUhYpAeEarrV"
      },
      "outputs": [],
      "source": [
        "import tensorflow as tf  # Mengimpor library TensorFlow untuk machine learning.\n",
        "import numpy as np  # Mengimpor library NumPy untuk operasi numerik.\n",
        "import pandas as pd  # Mengimpor library Pandas untuk manipulasi data.\n",
        "import matplotlib.pyplot as plt  # Mengimpor library Matplotlib untuk visualisasi data.\n",
        "import seaborn as sns  # Mengimpor library Seaborn untuk visualisasi data statistik.\n",
        "from sklearn.preprocessing import LabelBinarizer  # Mengimpor LabelBinarizer untuk encoding variabel target.\n",
        "from sklearn.model_selection import train_test_split  # Mengimpor train_test_split untuk membagi data menjadi set pelatihan dan pengujian.\n",
        "from sklearn.metrics import classification_report  # Mengimpor classification_report untuk mengevaluasi klasifikasi model.\n",
        "import zipfile  # Mengimpor library zipfile untuk bekerja dengan file zip."
      ]
    },
    {
      "cell_type": "markdown",
      "source": [
        "# Load Dataset"
      ],
      "metadata": {
        "id": "N95oXMaTcnMH"
      }
    },
    {
      "cell_type": "markdown",
      "source": [
        "## Load MNIST"
      ],
      "metadata": {
        "id": "dT8TY908cpCK"
      }
    },
    {
      "cell_type": "markdown",
      "source": [
        "Proses load dataset MNIST akan melibatkan penggunaan pustaka atau fungsi yang tersedia dalam pustaka seperti Keras atau TensorFlow untuk mengambil dataset dari sumbernya dan memuatnya ke dalam lingkungan pengembangan seperti Google Colab."
      ],
      "metadata": {
        "id": "xn1AFP9mpLIm"
      }
    },
    {
      "cell_type": "code",
      "source": [
        "# Mengimpor dataset MNIST dari library TensorFlow Keras\n",
        "from tensorflow.keras.datasets import mnist"
      ],
      "metadata": {
        "id": "OIZx2pkUcfDe"
      },
      "execution_count": 2,
      "outputs": []
    },
    {
      "cell_type": "code",
      "source": [
        "# Memuat data latih dan data uji dari dataset MNIST ke dalam variabel\n",
        "# Variabel train_data dan train_labels berisi data gambar dan label-labelnya untuk data latih\n",
        "# Variabel test_data dan test_labels berisi data gambar dan label-labelnya untuk data uji\n",
        "(train_data, train_labels), (test_data, test_labels) = mnist.load_data()"
      ],
      "metadata": {
        "id": "3GLkzBi6czj4",
        "outputId": "1996c25d-e3fd-4740-86d5-af25b0a4b9dc",
        "colab": {
          "base_uri": "https://localhost:8080/"
        }
      },
      "execution_count": 3,
      "outputs": [
        {
          "output_type": "stream",
          "name": "stdout",
          "text": [
            "Downloading data from https://storage.googleapis.com/tensorflow/tf-keras-datasets/mnist.npz\n",
            "11490434/11490434 [==============================] - 2s 0us/step\n"
          ]
        }
      ]
    },
    {
      "cell_type": "code",
      "source": [
        "# Check shape data\n",
        "(train_data.shape, test_data.shape)"
      ],
      "metadata": {
        "id": "oVQTyPgAc5Zw",
        "outputId": "ba59873a-5b9b-4b80-d38f-e726dbf5ea7a",
        "colab": {
          "base_uri": "https://localhost:8080/"
        }
      },
      "execution_count": 4,
      "outputs": [
        {
          "output_type": "execute_result",
          "data": {
            "text/plain": [
              "((60000, 28, 28), (10000, 28, 28))"
            ]
          },
          "metadata": {},
          "execution_count": 4
        }
      ]
    },
    {
      "cell_type": "code",
      "source": [
        "# Check shape labels\n",
        "(train_labels.shape, test_labels.shape)"
      ],
      "metadata": {
        "id": "grUhLPwJc-un",
        "outputId": "4d5fb0e1-b8e7-4ca7-ff4f-01e47f55c7c2",
        "colab": {
          "base_uri": "https://localhost:8080/"
        }
      },
      "execution_count": 5,
      "outputs": [
        {
          "output_type": "execute_result",
          "data": {
            "text/plain": [
              "((60000,), (10000,))"
            ]
          },
          "metadata": {},
          "execution_count": 5
        }
      ]
    },
    {
      "cell_type": "code",
      "source": [
        "# Check each data shape --> should be 28*28\n",
        "train_data[0].shape"
      ],
      "metadata": {
        "id": "AwsTEu6xdNKX",
        "outputId": "ccb04059-ba25-4ab2-af8f-d91d5774a354",
        "colab": {
          "base_uri": "https://localhost:8080/"
        }
      },
      "execution_count": 6,
      "outputs": [
        {
          "output_type": "execute_result",
          "data": {
            "text/plain": [
              "(28, 28)"
            ]
          },
          "metadata": {},
          "execution_count": 6
        }
      ]
    },
    {
      "cell_type": "code",
      "source": [
        "# Check the label\n",
        "train_labels.shape"
      ],
      "metadata": {
        "id": "KHZesdnBdXKX",
        "outputId": "0f1e684b-dea5-46c1-d9e1-0727d43e461a",
        "colab": {
          "base_uri": "https://localhost:8080/"
        }
      },
      "execution_count": 7,
      "outputs": [
        {
          "output_type": "execute_result",
          "data": {
            "text/plain": [
              "(60000,)"
            ]
          },
          "metadata": {},
          "execution_count": 7
        }
      ]
    },
    {
      "cell_type": "markdown",
      "source": [
        "### Combine Train and Test Data"
      ],
      "metadata": {
        "id": "SYz8IjnOdfsV"
      }
    },
    {
      "cell_type": "markdown",
      "source": [
        "Pada dataset MNIST, terdapat dua set data: data latih (train) dan data uji (test). Kedua set data ini biasanya digunakan terpisah untuk keperluan latihan dan pengujian model.\n",
        "\n",
        "Namun, dalam beberapa kasus, ada kebutuhan untuk menggabungkan kedua set data menjadi satu dataset tunggal. Ini bisa dilakukan dengan tujuan tertentu, seperti untuk menggabungkan data latih dan data uji menjadi satu dataset yang lebih besar untuk pelatihan model yang lebih baik."
      ],
      "metadata": {
        "id": "JsbeZNc9pnzz"
      }
    },
    {
      "cell_type": "code",
      "source": [
        "# Menggabungkan data latih dan data uji dari dataset MNIST ke dalam satu array menggunakan np.vstack\n",
        "# Variabel digits_data akan berisi gabungan dari data gambar dari train_data dan test_data\n",
        "digits_data = np.vstack([train_data, test_data])\n",
        "# Menggabungkan label-label dari data latih dan data uji dari dataset MNIST ke dalam satu array menggunakan np.hstack\n",
        "# Variabel digits_labels akan berisi gabungan dari label-label dari train_labels dan test_labels\n",
        "digits_labels = np.hstack([train_labels, test_labels])"
      ],
      "metadata": {
        "id": "yacSZjdPdbhs"
      },
      "execution_count": 8,
      "outputs": []
    },
    {
      "cell_type": "code",
      "source": [
        "# Check data shape\n",
        "digits_data.shape"
      ],
      "metadata": {
        "id": "oRBvQNVUeHZn",
        "outputId": "c9452d97-14ed-411d-a6e2-66a0f85b2fed",
        "colab": {
          "base_uri": "https://localhost:8080/"
        }
      },
      "execution_count": 9,
      "outputs": [
        {
          "output_type": "execute_result",
          "data": {
            "text/plain": [
              "(70000, 28, 28)"
            ]
          },
          "metadata": {},
          "execution_count": 9
        }
      ]
    },
    {
      "cell_type": "code",
      "source": [
        "# Check label shape\n",
        "digits_labels.shape"
      ],
      "metadata": {
        "id": "MZbUcu0MeLSG",
        "outputId": "fcdd5134-c465-4add-f9eb-487ff23aae67",
        "colab": {
          "base_uri": "https://localhost:8080/"
        }
      },
      "execution_count": 10,
      "outputs": [
        {
          "output_type": "execute_result",
          "data": {
            "text/plain": [
              "(70000,)"
            ]
          },
          "metadata": {},
          "execution_count": 10
        }
      ]
    },
    {
      "cell_type": "code",
      "source": [
        "# Randomly checking the data\n",
        "# Menghasilkan indeks acak antara 0 dan jumlah total gambar dalam dataset `digits_data`\n",
        "idx = np.random.randint(0, digits_data.shape[0])\n",
        "# Menampilkan gambar dengan indeks yang dihasilkan secara acak menggunakan plt.imshow()\n",
        "# cmap='gray' digunakan untuk menampilkan gambar dalam skala abu-abu karena dataset MNIST adalah gambar grayscale\n",
        "plt.imshow(digits_data[idx], cmap='gray')\n",
        "# Menampilkan judul plot yang berisi kelas atau label dari gambar yang dipilih secara acak\n",
        "# Menggunakan str() untuk mengonversi label ke dalam string sebelum menambahkannya ke judul plot\n",
        "plt.title('Class: ' + str(digits_labels[idx]))"
      ],
      "metadata": {
        "id": "uqaiC0pGePF-",
        "outputId": "97fc96db-5954-4d92-b1a9-c402c3f7095f",
        "colab": {
          "base_uri": "https://localhost:8080/",
          "height": 469
        }
      },
      "execution_count": 11,
      "outputs": [
        {
          "output_type": "execute_result",
          "data": {
            "text/plain": [
              "Text(0.5, 1.0, 'Class: 2')"
            ]
          },
          "metadata": {},
          "execution_count": 11
        },
        {
          "output_type": "display_data",
          "data": {
            "text/plain": [
              "<Figure size 640x480 with 1 Axes>"
            ],
            "image/png": "[encoded data removed]"
          },
          "metadata": {}
        }
      ]
    },
    {
      "cell_type": "code",
      "source": [
        "# Check data distribution\n",
        "# Membuat DataFrame dari label-label (digits_labels) dengan satu kolom bernama 'Labels'\n",
        "df_labels = pd.DataFrame(digits_labels, columns=['Labels'])\n",
        "# Menggunakan Seaborn untuk membuat plot distribusi label menggunakan countplot\n",
        "# x='Labels' menunjukkan bahwa sumbu x akan berisi data dari kolom 'Labels' pada DataFrame\n",
        "sns.countplot(df_labels, x='Labels')"
      ],
      "metadata": {
        "id": "FrLWteorevqd",
        "outputId": "214775a5-6aef-4b13-9242-9006a4b53fa5",
        "colab": {
          "base_uri": "https://localhost:8080/",
          "height": 466
        }
      },
      "execution_count": 12,
      "outputs": [
        {
          "output_type": "execute_result",
          "data": {
            "text/plain": [
              "<Axes: xlabel='Labels', ylabel='count'>"
            ]
          },
          "metadata": {},
          "execution_count": 12
        },
        {
          "output_type": "display_data",
          "data": {
            "text/plain": [
              "<Figure size 640x480 with 1 Axes>"
            ],
            "image/png": "[encoded data removed]"
          },
          "metadata": {}
        }
      ]
    },
    {
      "cell_type": "markdown",
      "source": [
        "## Load Kaggle A-Z"
      ],
      "metadata": {
        "id": "uqeJT2ytogB_"
      }
    },
    {
      "cell_type": "markdown",
      "source": [
        "Dataset A-Z Handwritten Data adalah dataset yang berisi gambar tulisan tangan dari huruf A sampai Z. Setiap gambar menunjukkan satu huruf. Dataset ini dapat ditemukan di platform seperti Kaggle dan dapat digunakan untuk tugas-tugas pengenalan karakter atau OCR."
      ],
      "metadata": {
        "id": "kS15gxa9qQe1"
      }
    },
    {
      "cell_type": "code",
      "source": [
        "!wget https://iaexpert.academy/arquivos/alfabeto_A-Z.zip"
      ],
      "metadata": {
        "id": "tQ95CkdfjO7P",
        "outputId": "2a70eb4c-6843-47dc-fb9f-12a148f7c5ab",
        "colab": {
          "base_uri": "https://localhost:8080/"
        }
      },
      "execution_count": 13,
      "outputs": [
        {
          "output_type": "stream",
          "name": "stdout",
          "text": [
            "--2023-12-04 07:42:13--  https://iaexpert.academy/arquivos/alfabeto_A-Z.zip\n",
            "Resolving iaexpert.academy (iaexpert.academy)... 162.159.134.42\n",
            "Connecting to iaexpert.academy (iaexpert.academy)|162.159.134.42|:443... connected.\n",
            "HTTP request sent, awaiting response... 200 OK\n",
            "Length: 193643888 (185M) [application/zip]\n",
            "Saving to: ‘alfabeto_A-Z.zip’\n",
            "\n",
            "alfabeto_A-Z.zip    100%[===================>] 184.67M   103MB/s    in 1.8s    \n",
            "\n",
            "2023-12-04 07:42:15 (103 MB/s) - ‘alfabeto_A-Z.zip’ saved [193643888/193643888]\n",
            "\n"
          ]
        }
      ]
    },
    {
      "cell_type": "code",
      "source": [
        "# Extract zip file\n",
        "# Membuka file zip dengan mode 'read' (mode='r')\n",
        "zip_object = zipfile.ZipFile(file = 'alfabeto_A-Z.zip', mode = 'r')\n",
        "# Mengekstrak seluruh isi dari file zip ke dalam direktori saat ini (./)\n",
        "zip_object.extractall('./')\n",
        "# Menutup file zip setelah selesai diekstrak\n",
        "zip_object.close()"
      ],
      "metadata": {
        "id": "TobpFNSsojcv"
      },
      "execution_count": 14,
      "outputs": []
    },
    {
      "cell_type": "code",
      "source": [
        "# Membaca file CSV 'A_Z Handwritten Data.csv' dan menyimpannya ke dalam sebuah DataFrame dengan nama dataset_az\n",
        "# Kemudian, mengonversi tipe data di dalam DataFrame tersebut menjadi float32\n",
        "dataset_az = pd.read_csv('A_Z Handwritten Data.csv').astype('float32')\n",
        "# Menampilkan DataFrame dataset_az yang telah dibaca dan dikonversi tipenya\n",
        "dataset_az"
      ],
      "metadata": {
        "id": "ScBURU_4o5bB",
        "outputId": "12f9329d-d939-40ab-eb75-30c26e0747a5",
        "colab": {
          "base_uri": "https://localhost:8080/",
          "height": 443
        }
      },
      "execution_count": 15,
      "outputs": [
        {
          "output_type": "execute_result",
          "data": {
            "text/plain": [
              "           0  0.1  0.2  0.3  0.4  0.5  0.6  0.7  0.8  0.9  ...  0.639  0.640  \\\n",
              "0        0.0  0.0  0.0  0.0  0.0  0.0  0.0  0.0  0.0  0.0  ...    0.0    0.0   \n",
              "1        0.0  0.0  0.0  0.0  0.0  0.0  0.0  0.0  0.0  0.0  ...    0.0    0.0   \n",
              "2        0.0  0.0  0.0  0.0  0.0  0.0  0.0  0.0  0.0  0.0  ...    0.0    0.0   \n",
              "3        0.0  0.0  0.0  0.0  0.0  0.0  0.0  0.0  0.0  0.0  ...    0.0    0.0   \n",
              "4        0.0  0.0  0.0  0.0  0.0  0.0  0.0  0.0  0.0  0.0  ...    0.0    0.0   \n",
              "...      ...  ...  ...  ...  ...  ...  ...  ...  ...  ...  ...    ...    ...   \n",
              "372445  25.0  0.0  0.0  0.0  0.0  0.0  0.0  0.0  0.0  0.0  ...    0.0    0.0   \n",
              "372446  25.0  0.0  0.0  0.0  0.0  0.0  0.0  0.0  0.0  0.0  ...    0.0    0.0   \n",
              "372447  25.0  0.0  0.0  0.0  0.0  0.0  0.0  0.0  0.0  0.0  ...    0.0    0.0   \n",
              "372448  25.0  0.0  0.0  0.0  0.0  0.0  0.0  0.0  0.0  0.0  ...    0.0    0.0   \n",
              "372449  25.0  0.0  0.0  0.0  0.0  0.0  0.0  0.0  0.0  0.0  ...    0.0    0.0   \n",
              "\n",
              "        0.641  0.642  0.643  0.644  0.645  0.646  0.647  0.648  \n",
              "0         0.0    0.0    0.0    0.0    0.0    0.0    0.0    0.0  \n",
              "1         0.0    0.0    0.0    0.0    0.0    0.0    0.0    0.0  \n",
              "2         0.0    0.0    0.0    0.0    0.0    0.0    0.0    0.0  \n",
              "3         0.0    0.0    0.0    0.0    0.0    0.0    0.0    0.0  \n",
              "4         0.0    0.0    0.0    0.0    0.0    0.0    0.0    0.0  \n",
              "...       ...    ...    ...    ...    ...    ...    ...    ...  \n",
              "372445    0.0    0.0    0.0    0.0    0.0    0.0    0.0    0.0  \n",
              "372446    0.0    0.0    0.0    0.0    0.0    0.0    0.0    0.0  \n",
              "372447    0.0    0.0    0.0    0.0    0.0    0.0    0.0    0.0  \n",
              "372448    0.0    0.0    0.0    0.0    0.0    0.0    0.0    0.0  \n",
              "372449    0.0    0.0    0.0    0.0    0.0    0.0    0.0    0.0  \n",
              "\n",
              "[372450 rows x 785 columns]"
            ],
            "text/html": [
              "\n",
              "  <div id=\"df-1d8d72bd-445b-4d86-a2dc-13f5abec51f1\" class=\"colab-df-container\">\n",
              "    <div>\n",
              "<style scoped>\n",
              "    .dataframe tbody tr th:only-of-type {\n",
              "        vertical-align: middle;\n",
              "    }\n",
              "\n",
              "    .dataframe tbody tr th {\n",
              "        vertical-align: top;\n",
              "    }\n",
              "\n",
              "    .dataframe thead th {\n",
              "        text-align: right;\n",
              "    }\n",
              "</style>\n",
              "<table border=\"1\" class=\"dataframe\">\n",
              "  <thead>\n",
              "    <tr style=\"text-align: right;\">\n",
              "      <th></th>\n",
              "      <th>0</th>\n",
              "      <th>0.1</th>\n",
              "      <th>0.2</th>\n",
              "      <th>0.3</th>\n",
              "      <th>0.4</th>\n",
              "      <th>0.5</th>\n",
              "      <th>0.6</th>\n",
              "      <th>0.7</th>\n",
              "      <th>0.8</th>\n",
              "      <th>0.9</th>\n",
              "      <th>...</th>\n",
              "      <th>0.639</th>\n",
              "      <th>0.640</th>\n",
              "      <th>0.641</th>\n",
              "      <th>0.642</th>\n",
              "      <th>0.643</th>\n",
              "      <th>0.644</th>\n",
              "      <th>0.645</th>\n",
              "      <th>0.646</th>\n",
              "      <th>0.647</th>\n",
              "      <th>0.648</th>\n",
              "    </tr>\n",
              "  </thead>\n",
              "  <tbody>\n",
              "    <tr>\n",
              "      <th>0</th>\n",
              "      <td>0.0</td>\n",
              "      <td>0.0</td>\n",
              "      <td>0.0</td>\n",
              "      <td>0.0</td>\n",
              "      <td>0.0</td>\n",
              "      <td>0.0</td>\n",
              "      <td>0.0</td>\n",
              "      <td>0.0</td>\n",
              "      <td>0.0</td>\n",
              "      <td>0.0</td>\n",
              "      <td>...</td>\n",
              "      <td>0.0</td>\n",
              "      <td>0.0</td>\n",
              "      <td>0.0</td>\n",
              "      <td>0.0</td>\n",
              "      <td>0.0</td>\n",
              "      <td>0.0</td>\n",
              "      <td>0.0</td>\n",
              "      <td>0.0</td>\n",
              "      <td>0.0</td>\n",
              "      <td>0.0</td>\n",
              "    </tr>\n",
              "    <tr>\n",
              "      <th>1</th>\n",
              "      <td>0.0</td>\n",
              "      <td>0.0</td>\n",
              "      <td>0.0</td>\n",
              "      <td>0.0</td>\n",
              "      <td>0.0</td>\n",
              "      <td>0.0</td>\n",
              "      <td>0.0</td>\n",
              "      <td>0.0</td>\n",
              "      <td>0.0</td>\n",
              "      <td>0.0</td>\n",
              "      <td>...</td>\n",
              "      <td>0.0</td>\n",
              "      <td>0.0</td>\n",
              "      <td>0.0</td>\n",
              "      <td>0.0</td>\n",
              "      <td>0.0</td>\n",
              "      <td>0.0</td>\n",
              "      <td>0.0</td>\n",
              "      <td>0.0</td>\n",
              "      <td>0.0</td>\n",
              "      <td>0.0</td>\n",
              "    </tr>\n",
              "    <tr>\n",
              "      <th>2</th>\n",
              "      <td>0.0</td>\n",
              "      <td>0.0</td>\n",
              "      <td>0.0</td>\n",
              "      <td>0.0</td>\n",
              "      <td>0.0</td>\n",
              "      <td>0.0</td>\n",
              "      <td>0.0</td>\n",
              "      <td>0.0</td>\n",
              "      <td>0.0</td>\n",
              "      <td>0.0</td>\n",
              "      <td>...</td>\n",
              "      <td>0.0</td>\n",
              "      <td>0.0</td>\n",
              "      <td>0.0</td>\n",
              "      <td>0.0</td>\n",
              "      <td>0.0</td>\n",
              "      <td>0.0</td>\n",
              "      <td>0.0</td>\n",
              "      <td>0.0</td>\n",
              "      <td>0.0</td>\n",
              "      <td>0.0</td>\n",
              "    </tr>\n",
              "    <tr>\n",
              "      <th>3</th>\n",
              "      <td>0.0</td>\n",
              "      <td>0.0</td>\n",
              "      <td>0.0</td>\n",
              "      <td>0.0</td>\n",
              "      <td>0.0</td>\n",
              "      <td>0.0</td>\n",
              "      <td>0.0</td>\n",
              "      <td>0.0</td>\n",
              "      <td>0.0</td>\n",
              "      <td>0.0</td>\n",
              "      <td>...</td>\n",
              "      <td>0.0</td>\n",
              "      <td>0.0</td>\n",
              "      <td>0.0</td>\n",
              "      <td>0.0</td>\n",
              "      <td>0.0</td>\n",
              "      <td>0.0</td>\n",
              "      <td>0.0</td>\n",
              "      <td>0.0</td>\n",
              "      <td>0.0</td>\n",
              "      <td>0.0</td>\n",
              "    </tr>\n",
              "    <tr>\n",
              "      <th>4</th>\n",
              "      <td>0.0</td>\n",
              "      <td>0.0</td>\n",
              "      <td>0.0</td>\n",
              "      <td>0.0</td>\n",
              "      <td>0.0</td>\n",
              "      <td>0.0</td>\n",
              "      <td>0.0</td>\n",
              "      <td>0.0</td>\n",
              "      <td>0.0</td>\n",
              "      <td>0.0</td>\n",
              "      <td>...</td>\n",
              "      <td>0.0</td>\n",
              "      <td>0.0</td>\n",
              "      <td>0.0</td>\n",
              "      <td>0.0</td>\n",
              "      <td>0.0</td>\n",
              "      <td>0.0</td>\n",
              "      <td>0.0</td>\n",
              "      <td>0.0</td>\n",
              "      <td>0.0</td>\n",
              "      <td>0.0</td>\n",
              "    </tr>\n",
              "    <tr>\n",
              "      <th>...</th>\n",
              "      <td>...</td>\n",
              "      <td>...</td>\n",
              "      <td>...</td>\n",
              "      <td>...</td>\n",
              "      <td>...</td>\n",
              "      <td>...</td>\n",
              "      <td>...</td>\n",
              "      <td>...</td>\n",
              "      <td>...</td>\n",
              "      <td>...</td>\n",
              "      <td>...</td>\n",
              "      <td>...</td>\n",
              "      <td>...</td>\n",
              "      <td>...</td>\n",
              "      <td>...</td>\n",
              "      <td>...</td>\n",
              "      <td>...</td>\n",
              "      <td>...</td>\n",
              "      <td>...</td>\n",
              "      <td>...</td>\n",
              "      <td>...</td>\n",
              "    </tr>\n",
              "    <tr>\n",
              "      <th>372445</th>\n",
              "      <td>25.0</td>\n",
              "      <td>0.0</td>\n",
              "      <td>0.0</td>\n",
              "      <td>0.0</td>\n",
              "      <td>0.0</td>\n",
              "      <td>0.0</td>\n",
              "      <td>0.0</td>\n",
              "      <td>0.0</td>\n",
              "      <td>0.0</td>\n",
              "      <td>0.0</td>\n",
              "      <td>...</td>\n",
              "      <td>0.0</td>\n",
              "      <td>0.0</td>\n",
              "      <td>0.0</td>\n",
              "      <td>0.0</td>\n",
              "      <td>0.0</td>\n",
              "      <td>0.0</td>\n",
              "      <td>0.0</td>\n",
              "      <td>0.0</td>\n",
              "      <td>0.0</td>\n",
              "      <td>0.0</td>\n",
              "    </tr>\n",
              "    <tr>\n",
              "      <th>372446</th>\n",
              "      <td>25.0</td>\n",
              "      <td>0.0</td>\n",
              "      <td>0.0</td>\n",
              "      <td>0.0</td>\n",
              "      <td>0.0</td>\n",
              "      <td>0.0</td>\n",
              "      <td>0.0</td>\n",
              "      <td>0.0</td>\n",
              "      <td>0.0</td>\n",
              "      <td>0.0</td>\n",
              "      <td>...</td>\n",
              "      <td>0.0</td>\n",
              "      <td>0.0</td>\n",
              "      <td>0.0</td>\n",
              "      <td>0.0</td>\n",
              "      <td>0.0</td>\n",
              "      <td>0.0</td>\n",
              "      <td>0.0</td>\n",
              "      <td>0.0</td>\n",
              "      <td>0.0</td>\n",
              "      <td>0.0</td>\n",
              "    </tr>\n",
              "    <tr>\n",
              "      <th>372447</th>\n",
              "      <td>25.0</td>\n",
              "      <td>0.0</td>\n",
              "      <td>0.0</td>\n",
              "      <td>0.0</td>\n",
              "      <td>0.0</td>\n",
              "      <td>0.0</td>\n",
              "      <td>0.0</td>\n",
              "      <td>0.0</td>\n",
              "      <td>0.0</td>\n",
              "      <td>0.0</td>\n",
              "      <td>...</td>\n",
              "      <td>0.0</td>\n",
              "      <td>0.0</td>\n",
              "      <td>0.0</td>\n",
              "      <td>0.0</td>\n",
              "      <td>0.0</td>\n",
              "      <td>0.0</td>\n",
              "      <td>0.0</td>\n",
              "      <td>0.0</td>\n",
              "      <td>0.0</td>\n",
              "      <td>0.0</td>\n",
              "    </tr>\n",
              "    <tr>\n",
              "      <th>372448</th>\n",
              "      <td>25.0</td>\n",
              "      <td>0.0</td>\n",
              "      <td>0.0</td>\n",
              "      <td>0.0</td>\n",
              "      <td>0.0</td>\n",
              "      <td>0.0</td>\n",
              "      <td>0.0</td>\n",
              "      <td>0.0</td>\n",
              "      <td>0.0</td>\n",
              "      <td>0.0</td>\n",
              "      <td>...</td>\n",
              "      <td>0.0</td>\n",
              "      <td>0.0</td>\n",
              "      <td>0.0</td>\n",
              "      <td>0.0</td>\n",
              "      <td>0.0</td>\n",
              "      <td>0.0</td>\n",
              "      <td>0.0</td>\n",
              "      <td>0.0</td>\n",
              "      <td>0.0</td>\n",
              "      <td>0.0</td>\n",
              "    </tr>\n",
              "    <tr>\n",
              "      <th>372449</th>\n",
              "      <td>25.0</td>\n",
              "      <td>0.0</td>\n",
              "      <td>0.0</td>\n",
              "      <td>0.0</td>\n",
              "      <td>0.0</td>\n",
              "      <td>0.0</td>\n",
              "      <td>0.0</td>\n",
              "      <td>0.0</td>\n",
              "      <td>0.0</td>\n",
              "      <td>0.0</td>\n",
              "      <td>...</td>\n",
              "      <td>0.0</td>\n",
              "      <td>0.0</td>\n",
              "      <td>0.0</td>\n",
              "      <td>0.0</td>\n",
              "      <td>0.0</td>\n",
              "      <td>0.0</td>\n",
              "      <td>0.0</td>\n",
              "      <td>0.0</td>\n",
              "      <td>0.0</td>\n",
              "      <td>0.0</td>\n",
              "    </tr>\n",
              "  </tbody>\n",
              "</table>\n",
              "<p>372450 rows × 785 columns</p>\n",
              "</div>\n",
              "    <div class=\"colab-df-buttons\">\n",
              "\n",
              "  <div class=\"colab-df-container\">\n",
              "    <button class=\"colab-df-convert\" onclick=\"convertToInteractive('df-1d8d72bd-445b-4d86-a2dc-13f5abec51f1')\"\n",
              "            title=\"Convert this dataframe to an interactive table.\"\n",
              "            style=\"display:none;\">\n",
              "\n",
              "  <svg xmlns=\"http://www.w3.org/2000/svg\" height=\"24px\" viewBox=\"0 -960 960 960\">\n",
              "    <path d=\"M120-120v-720h720v720H120Zm60-500h600v-160H180v160Zm220 220h160v-160H400v160Zm0 220h160v-160H400v160ZM180-400h160v-160H180v160Zm440 0h160v-160H620v160ZM180-180h160v-160H180v160Zm440 0h160v-160H620v160Z\"/>\n",
              "  </svg>\n",
              "    </button>\n",
              "\n",
              "  <style>\n",
              "    .colab-df-container {\n",
              "      display:flex;\n",
              "      gap: 12px;\n",
              "    }\n",
              "\n",
              "    .colab-df-convert {\n",
              "      background-color: #E8F0FE;\n",
              "      border: none;\n",
              "      border-radius: 50%;\n",
              "      cursor: pointer;\n",
              "      display: none;\n",
              "      fill: #1967D2;\n",
              "      height: 32px;\n",
              "      padding: 0 0 0 0;\n",
              "      width: 32px;\n",
              "    }\n",
              "\n",
              "    .colab-df-convert:hover {\n",
              "      background-color: #E2EBFA;\n",
              "      box-shadow: 0px 1px 2px rgba(60, 64, 67, 0.3), 0px 1px 3px 1px rgba(60, 64, 67, 0.15);\n",
              "      fill: #174EA6;\n",
              "    }\n",
              "\n",
              "    .colab-df-buttons div {\n",
              "      margin-bottom: 4px;\n",
              "    }\n",
              "\n",
              "    [theme=dark] .colab-df-convert {\n",
              "      background-color: #3B4455;\n",
              "      fill: #D2E3FC;\n",
              "    }\n",
              "\n",
              "    [theme=dark] .colab-df-convert:hover {\n",
              "      background-color: #434B5C;\n",
              "      box-shadow: 0px 1px 3px 1px rgba(0, 0, 0, 0.15);\n",
              "      filter: drop-shadow(0px 1px 2px rgba(0, 0, 0, 0.3));\n",
              "      fill: #FFFFFF;\n",
              "    }\n",
              "  </style>\n",
              "\n",
              "    <script>\n",
              "      const buttonEl =\n",
              "        document.querySelector('#df-1d8d72bd-445b-4d86-a2dc-13f5abec51f1 button.colab-df-convert');\n",
              "      buttonEl.style.display =\n",
              "        google.colab.kernel.accessAllowed ? 'block' : 'none';\n",
              "\n",
              "      async function convertToInteractive(key) {\n",
              "        const element = document.querySelector('#df-1d8d72bd-445b-4d86-a2dc-13f5abec51f1');\n",
              "        const dataTable =\n",
              "          await google.colab.kernel.invokeFunction('convertToInteractive',\n",
              "                                                    [key], {});\n",
              "        if (!dataTable) return;\n",
              "\n",
              "        const docLinkHtml = 'Like what you see? Visit the ' +\n",
              "          '<a target=\"_blank\" href=https://colab.research.google.com/notebooks/data_table.ipynb>data table notebook</a>'\n",
              "          + ' to learn more about interactive tables.';\n",
              "        element.innerHTML = '';\n",
              "        dataTable['output_type'] = 'display_data';\n",
              "        await google.colab.output.renderOutput(dataTable, element);\n",
              "        const docLink = document.createElement('div');\n",
              "        docLink.innerHTML = docLinkHtml;\n",
              "        element.appendChild(docLink);\n",
              "      }\n",
              "    </script>\n",
              "  </div>\n",
              "\n",
              "\n",
              "<div id=\"df-4bb79223-2d28-4069-b17e-42da1898c157\">\n",
              "  <button class=\"colab-df-quickchart\" onclick=\"quickchart('df-4bb79223-2d28-4069-b17e-42da1898c157')\"\n",
              "            title=\"Suggest charts\"\n",
              "            style=\"display:none;\">\n",
              "\n",
              "<svg xmlns=\"http://www.w3.org/2000/svg\" height=\"24px\"viewBox=\"0 0 24 24\"\n",
              "     width=\"24px\">\n",
              "    <g>\n",
              "        <path d=\"M19 3H5c-1.1 0-2 .9-2 2v14c0 1.1.9 2 2 2h14c1.1 0 2-.9 2-2V5c0-1.1-.9-2-2-2zM9 17H7v-7h2v7zm4 0h-2V7h2v10zm4 0h-2v-4h2v4z\"/>\n",
              "    </g>\n",
              "</svg>\n",
              "  </button>\n",
              "\n",
              "<style>\n",
              "  .colab-df-quickchart {\n",
              "      --bg-color: #E8F0FE;\n",
              "      --fill-color: #1967D2;\n",
              "      --hover-bg-color: #E2EBFA;\n",
              "      --hover-fill-color: #174EA6;\n",
              "      --disabled-fill-color: #AAA;\n",
              "      --disabled-bg-color: #DDD;\n",
              "  }\n",
              "\n",
              "  [theme=dark] .colab-df-quickchart {\n",
              "      --bg-color: #3B4455;\n",
              "      --fill-color: #D2E3FC;\n",
              "      --hover-bg-color: #434B5C;\n",
              "      --hover-fill-color: #FFFFFF;\n",
              "      --disabled-bg-color: #3B4455;\n",
              "      --disabled-fill-color: #666;\n",
              "  }\n",
              "\n",
              "  .colab-df-quickchart {\n",
              "    background-color: var(--bg-color);\n",
              "    border: none;\n",
              "    border-radius: 50%;\n",
              "    cursor: pointer;\n",
              "    display: none;\n",
              "    fill: var(--fill-color);\n",
              "    height: 32px;\n",
              "    padding: 0;\n",
              "    width: 32px;\n",
              "  }\n",
              "\n",
              "  .colab-df-quickchart:hover {\n",
              "    background-color: var(--hover-bg-color);\n",
              "    box-shadow: 0 1px 2px rgba(60, 64, 67, 0.3), 0 1px 3px 1px rgba(60, 64, 67, 0.15);\n",
              "    fill: var(--button-hover-fill-color);\n",
              "  }\n",
              "\n",
              "  .colab-df-quickchart-complete:disabled,\n",
              "  .colab-df-quickchart-complete:disabled:hover {\n",
              "    background-color: var(--disabled-bg-color);\n",
              "    fill: var(--disabled-fill-color);\n",
              "    box-shadow: none;\n",
              "  }\n",
              "\n",
              "  .colab-df-spinner {\n",
              "    border: 2px solid var(--fill-color);\n",
              "    border-color: transparent;\n",
              "    border-bottom-color: var(--fill-color);\n",
              "    animation:\n",
              "      spin 1s steps(1) infinite;\n",
              "  }\n",
              "\n",
              "  @keyframes spin {\n",
              "    0% {\n",
              "      border-color: transparent;\n",
              "      border-bottom-color: var(--fill-color);\n",
              "      border-left-color: var(--fill-color);\n",
              "    }\n",
              "    20% {\n",
              "      border-color: transparent;\n",
              "      border-left-color: var(--fill-color);\n",
              "      border-top-color: var(--fill-color);\n",
              "    }\n",
              "    30% {\n",
              "      border-color: transparent;\n",
              "      border-left-color: var(--fill-color);\n",
              "      border-top-color: var(--fill-color);\n",
              "      border-right-color: var(--fill-color);\n",
              "    }\n",
              "    40% {\n",
              "      border-color: transparent;\n",
              "      border-right-color: var(--fill-color);\n",
              "      border-top-color: var(--fill-color);\n",
              "    }\n",
              "    60% {\n",
              "      border-color: transparent;\n",
              "      border-right-color: var(--fill-color);\n",
              "    }\n",
              "    80% {\n",
              "      border-color: transparent;\n",
              "      border-right-color: var(--fill-color);\n",
              "      border-bottom-color: var(--fill-color);\n",
              "    }\n",
              "    90% {\n",
              "      border-color: transparent;\n",
              "      border-bottom-color: var(--fill-color);\n",
              "    }\n",
              "  }\n",
              "</style>\n",
              "\n",
              "  <script>\n",
              "    async function quickchart(key) {\n",
              "      const quickchartButtonEl =\n",
              "        document.querySelector('#' + key + ' button');\n",
              "      quickchartButtonEl.disabled = true;  // To prevent multiple clicks.\n",
              "      quickchartButtonEl.classList.add('colab-df-spinner');\n",
              "      try {\n",
              "        const charts = await google.colab.kernel.invokeFunction(\n",
              "            'suggestCharts', [key], {});\n",
              "      } catch (error) {\n",
              "        console.error('Error during call to suggestCharts:', error);\n",
              "      }\n",
              "      quickchartButtonEl.classList.remove('colab-df-spinner');\n",
              "      quickchartButtonEl.classList.add('colab-df-quickchart-complete');\n",
              "    }\n",
              "    (() => {\n",
              "      let quickchartButtonEl =\n",
              "        document.querySelector('#df-4bb79223-2d28-4069-b17e-42da1898c157 button');\n",
              "      quickchartButtonEl.style.display =\n",
              "        google.colab.kernel.accessAllowed ? 'block' : 'none';\n",
              "    })();\n",
              "  </script>\n",
              "</div>\n",
              "    </div>\n",
              "  </div>\n"
            ]
          },
          "metadata": {},
          "execution_count": 15
        }
      ]
    },
    {
      "cell_type": "code",
      "source": [
        "# Get pixel data only\n",
        "alphabet_data = dataset_az.drop('0', axis=1)\n",
        "# Get labels only\n",
        "alphabet_labels = dataset_az['0']"
      ],
      "metadata": {
        "id": "dK6pP0b-o81T"
      },
      "execution_count": 16,
      "outputs": []
    },
    {
      "cell_type": "code",
      "source": [
        "# Check shape data\n",
        "alphabet_data.shape, alphabet_labels.shape"
      ],
      "metadata": {
        "id": "NllEoaiLpZhI",
        "outputId": "20dc8371-51da-47a8-b56c-b3ad9c1a7f00",
        "colab": {
          "base_uri": "https://localhost:8080/"
        }
      },
      "execution_count": 17,
      "outputs": [
        {
          "output_type": "execute_result",
          "data": {
            "text/plain": [
              "((372450, 784), (372450,))"
            ]
          },
          "metadata": {},
          "execution_count": 17
        }
      ]
    },
    {
      "cell_type": "code",
      "source": [
        "# Check shape labels\n",
        "alphabet_labels.shape"
      ],
      "metadata": {
        "id": "UvE88zSkpe5e",
        "outputId": "78735d44-5445-43f2-89e1-b6afb82196be",
        "colab": {
          "base_uri": "https://localhost:8080/"
        }
      },
      "execution_count": 18,
      "outputs": [
        {
          "output_type": "execute_result",
          "data": {
            "text/plain": [
              "(372450,)"
            ]
          },
          "metadata": {},
          "execution_count": 18
        }
      ]
    },
    {
      "cell_type": "code",
      "source": [
        "# Reshape pixel data to 28*28\n",
        "alphabet_data = np.reshape(alphabet_data.values, (alphabet_data.shape[0], 28, 28))\n",
        "# Check the result by its shape\n",
        "alphabet_data.shape"
      ],
      "metadata": {
        "id": "9xps-5kjpio_",
        "outputId": "90be0bbb-824e-47bf-ae00-c1c1cfcb33d7",
        "colab": {
          "base_uri": "https://localhost:8080/"
        }
      },
      "execution_count": 19,
      "outputs": [
        {
          "output_type": "execute_result",
          "data": {
            "text/plain": [
              "(372450, 28, 28)"
            ]
          },
          "metadata": {},
          "execution_count": 19
        }
      ]
    },
    {
      "cell_type": "code",
      "source": [
        "# Randomly checking A-Z dataset\n",
        "index = np.random.randint(0, alphabet_data.shape[0])\n",
        "plt.imshow(alphabet_data[index], cmap = 'gray')\n",
        "plt.title('Class: ' + str(alphabet_labels[index]));"
      ],
      "metadata": {
        "id": "tDTBbWSoqloX",
        "outputId": "90cb64f6-3e26-4311-bf07-4032fa8e981a",
        "colab": {
          "base_uri": "https://localhost:8080/",
          "height": 452
        }
      },
      "execution_count": 20,
      "outputs": [
        {
          "output_type": "display_data",
          "data": {
            "text/plain": [
              "<Figure size 640x480 with 1 Axes>"
            ],
            "image/png": "[encoded data removed]"
          },
          "metadata": {}
        }
      ]
    },
    {
      "cell_type": "code",
      "source": [
        "# Check data distribution\n",
        "# Membuat DataFrame dari label-label (alphabet_labels) dengan satu kolom bernama 'Labels'\n",
        "df_az_labels = pd.DataFrame({\n",
        "    'Labels': alphabet_labels.values\n",
        "})\n",
        "# Menggunakan Seaborn untuk membuat plot distribusi label menggunakan countplot\n",
        "# x='Labels' menunjukkan bahwa sumbu x akan berisi data dari kolom 'Labels' pada DataFrame\n",
        "sns.countplot(df_az_labels, x='Labels')"
      ],
      "metadata": {
        "id": "72frSp_uqrjm",
        "outputId": "d3cb4fab-1f0a-4a27-b869-e7cddec94cd6",
        "colab": {
          "base_uri": "https://localhost:8080/",
          "height": 468
        }
      },
      "execution_count": 21,
      "outputs": [
        {
          "output_type": "execute_result",
          "data": {
            "text/plain": [
              "<Axes: xlabel='Labels', ylabel='count'>"
            ]
          },
          "metadata": {},
          "execution_count": 21
        },
        {
          "output_type": "display_data",
          "data": {
            "text/plain": [
              "<Figure size 640x480 with 1 Axes>"
            ],
            "image/png": "[encoded data removed]"
          },
          "metadata": {}
        }
      ]
    },
    {
      "cell_type": "markdown",
      "source": [
        "## Combine Dataset (MNIST + Kaggel A-Z)"
      ],
      "metadata": {
        "id": "YZf14K79sdEC"
      }
    },
    {
      "cell_type": "markdown",
      "source": [
        "Langkah ini melibatkan penggabungan dataset MNIST (digit tulisan tangan) dan dataset Kaggle A-Z (huruf tulisan tangan) menjadi satu dataset yang lebih besar dan beragam. Tujuannya adalah untuk melatih model yang lebih kuat dan beragam dengan menyatukan informasi dari dua dataset yang berbeda."
      ],
      "metadata": {
        "id": "EO2rEo2mqjID"
      }
    },
    {
      "cell_type": "code",
      "source": [
        "# Check unique value from digits_labels (cek nilai unik dari digits_labels)\n",
        "np.unique(digits_labels)"
      ],
      "metadata": {
        "id": "9voZzZ8Krqk4",
        "outputId": "9880ca26-0fbf-40f1-dd21-c13aac993404",
        "colab": {
          "base_uri": "https://localhost:8080/"
        }
      },
      "execution_count": 22,
      "outputs": [
        {
          "output_type": "execute_result",
          "data": {
            "text/plain": [
              "array([0, 1, 2, 3, 4, 5, 6, 7, 8, 9], dtype=uint8)"
            ]
          },
          "metadata": {},
          "execution_count": 22
        }
      ]
    },
    {
      "cell_type": "code",
      "source": [
        "# Check unique value from alphabet_labels (cek nilai unik dari alphabet_labels)\n",
        "np.unique(alphabet_labels)"
      ],
      "metadata": {
        "id": "9ZzBJFKxs1AF",
        "outputId": "041c47b5-4cc5-4400-a5c7-7a4c039dfc0d",
        "colab": {
          "base_uri": "https://localhost:8080/"
        }
      },
      "execution_count": 23,
      "outputs": [
        {
          "output_type": "execute_result",
          "data": {
            "text/plain": [
              "array([ 0.,  1.,  2.,  3.,  4.,  5.,  6.,  7.,  8.,  9., 10., 11., 12.,\n",
              "       13., 14., 15., 16., 17., 18., 19., 20., 21., 22., 23., 24., 25.],\n",
              "      dtype=float32)"
            ]
          },
          "metadata": {},
          "execution_count": 23
        }
      ]
    },
    {
      "cell_type": "code",
      "source": [
        "# We already know that digits labels containt labels from 0-9 (10 labels)\n",
        "# We also know that alphabet labels start from 0-25 which represent A-Z\n",
        "# If we want to combine them, the A-Z labels should continuing the digits label\n",
        "\n",
        "alphabet_labels += 10 # Menambahkan 10 ke setiap label pada alphabet_labels\n",
        "# untuk melanjutkan dari 10 ke atas (untuk A-Z)"
      ],
      "metadata": {
        "id": "dM0GV8lIsnzf"
      },
      "execution_count": 24,
      "outputs": []
    },
    {
      "cell_type": "code",
      "source": [
        "# cek kembali nilai unik dari alphabet_labels\n",
        "np.unique(alphabet_labels)"
      ],
      "metadata": {
        "id": "42YKtJB-tQC6",
        "outputId": "bb2042b9-84b0-4b1a-c46e-2d7cb26e0f81",
        "colab": {
          "base_uri": "https://localhost:8080/"
        }
      },
      "execution_count": 25,
      "outputs": [
        {
          "output_type": "execute_result",
          "data": {
            "text/plain": [
              "array([10., 11., 12., 13., 14., 15., 16., 17., 18., 19., 20., 21., 22.,\n",
              "       23., 24., 25., 26., 27., 28., 29., 30., 31., 32., 33., 34., 35.],\n",
              "      dtype=float32)"
            ]
          },
          "metadata": {},
          "execution_count": 25
        }
      ]
    },
    {
      "cell_type": "code",
      "source": [
        "# Menggabungkan kedua dataset (alphabet_data dan digits_data)\n",
        "data = np.vstack([alphabet_data, digits_data])\n",
        "labels = np.hstack([alphabet_labels, digits_labels])"
      ],
      "metadata": {
        "id": "1ydXPXiItVVS"
      },
      "execution_count": 26,
      "outputs": []
    },
    {
      "cell_type": "code",
      "source": [
        "# Cek bentuk dari data yang telah digabungkan\n",
        "data.shape, labels.shape"
      ],
      "metadata": {
        "id": "-vYLoXFjuLz7",
        "outputId": "de02b87d-e261-4a24-8407-a8d65631b325",
        "colab": {
          "base_uri": "https://localhost:8080/"
        }
      },
      "execution_count": 27,
      "outputs": [
        {
          "output_type": "execute_result",
          "data": {
            "text/plain": [
              "((442450, 28, 28), (442450,))"
            ]
          },
          "metadata": {},
          "execution_count": 27
        }
      ]
    },
    {
      "cell_type": "code",
      "source": [
        "# Cek nilai-nilai yang unik dari labels yang baru digabungkan\n",
        "np.unique(labels)"
      ],
      "metadata": {
        "id": "biyM6WueuRG6",
        "outputId": "c024ea3f-6ada-44ed-c0b8-d73c1143f029",
        "colab": {
          "base_uri": "https://localhost:8080/"
        }
      },
      "execution_count": 28,
      "outputs": [
        {
          "output_type": "execute_result",
          "data": {
            "text/plain": [
              "array([ 0.,  1.,  2.,  3.,  4.,  5.,  6.,  7.,  8.,  9., 10., 11., 12.,\n",
              "       13., 14., 15., 16., 17., 18., 19., 20., 21., 22., 23., 24., 25.,\n",
              "       26., 27., 28., 29., 30., 31., 32., 33., 34., 35.], dtype=float32)"
            ]
          },
          "metadata": {},
          "execution_count": 28
        }
      ]
    },
    {
      "cell_type": "code",
      "source": [
        "# Mengonversi data menjadi float32\n",
        "data = np.array(data, dtype = 'float32')"
      ],
      "metadata": {
        "id": "vuEt24lhuVfy"
      },
      "execution_count": 29,
      "outputs": []
    },
    {
      "cell_type": "code",
      "source": [
        "# Since Convolutional need 3d data (including depth)\n",
        "# and our images only in 2d data (because in grayscale format)\n",
        "# we need to add \"the depth\" to the data\n",
        "data = np.expand_dims(data, axis=-1)\n",
        "\n",
        "# Cek bentuk dari data setelah ditambah dimensi kedalaman\n",
        "data.shape"
      ],
      "metadata": {
        "id": "UC6Vhz59ucdR",
        "outputId": "2b15029d-97e3-40b0-9cb0-7b04f6ed3989",
        "colab": {
          "base_uri": "https://localhost:8080/"
        }
      },
      "execution_count": 30,
      "outputs": [
        {
          "output_type": "execute_result",
          "data": {
            "text/plain": [
              "(442450, 28, 28, 1)"
            ]
          },
          "metadata": {},
          "execution_count": 30
        }
      ]
    },
    {
      "cell_type": "markdown",
      "source": [
        "# Preprocessing"
      ],
      "metadata": {
        "id": "xF71lXtSu3YE"
      }
    },
    {
      "cell_type": "markdown",
      "source": [
        "Langkah ini termasuk berbagai teknik untuk mempersiapkan data sebelum dimasukkan ke dalam model."
      ],
      "metadata": {
        "id": "LgXWFSWksGII"
      }
    },
    {
      "cell_type": "code",
      "source": [
        "# Normalisasi data\n",
        "# Membagi setiap nilai dalam variabel data dengan 255.0.\n",
        "data /= 255.0"
      ],
      "metadata": {
        "id": "kFjjP_JLuzbm"
      },
      "execution_count": 31,
      "outputs": []
    },
    {
      "cell_type": "code",
      "source": [
        "# Check range value of data\n",
        "# mengecek rentang nilai dari elemen-elemen pada indeks pertama dari variabel 'data'.\n",
        "data[0].min(), data[0].max()"
      ],
      "metadata": {
        "id": "zztStKZOu-Dy",
        "outputId": "02d85ff0-a63b-4ae2-cb35-92476aea537c",
        "colab": {
          "base_uri": "https://localhost:8080/"
        }
      },
      "execution_count": 32,
      "outputs": [
        {
          "output_type": "execute_result",
          "data": {
            "text/plain": [
              "(0.0, 1.0)"
            ]
          },
          "metadata": {},
          "execution_count": 32
        }
      ]
    },
    {
      "cell_type": "code",
      "source": [
        "# Enconde the labels\n",
        "# LabelBinarizer similar with OneHotEncoder\n",
        "# menggunakan LabelBinarizer untuk mengkodekan label-label dalam variabel 'labels'\n",
        "# menjadi bentuk biner. LabelBinarizer digunakan untuk mengubah label kategori menjadi representasi biner.\n",
        "le = LabelBinarizer()\n",
        "labels = le.fit_transform(labels)"
      ],
      "metadata": {
        "id": "s2C5yKEGu7vt"
      },
      "execution_count": 33,
      "outputs": []
    },
    {
      "cell_type": "code",
      "source": [
        "# Check labels shape\n",
        "# menampilkan bentuk (shape) dari variabel 'labels' setelah dilakukan proses\n",
        "# transformasi dengan LabelBinarizer.\n",
        "labels.shape"
      ],
      "metadata": {
        "id": "Bo1M5YEmvg5x",
        "outputId": "42cc6e24-4179-4908-c1b1-90570684e78b",
        "colab": {
          "base_uri": "https://localhost:8080/"
        }
      },
      "execution_count": 34,
      "outputs": [
        {
          "output_type": "execute_result",
          "data": {
            "text/plain": [
              "(442450, 36)"
            ]
          },
          "metadata": {},
          "execution_count": 34
        }
      ]
    },
    {
      "cell_type": "code",
      "source": [
        "# Check data with label binarizer's label\n",
        "plt.imshow(data[30000].reshape(28,28), cmap='gray')\n",
        "plt.title(str(labels[0]))\n",
        "# menampilkan gambar dari data pada indeks ke-30000 (asumsi data berbentuk\n",
        "# gambar dengan dimensi 28x28) beserta label biner yang sesuai."
      ],
      "metadata": {
        "id": "jCL5ipbsvjpw",
        "outputId": "6041336e-ca99-453c-e163-55ba4b5c426e",
        "colab": {
          "base_uri": "https://localhost:8080/",
          "height": 487
        }
      },
      "execution_count": 35,
      "outputs": [
        {
          "output_type": "execute_result",
          "data": {
            "text/plain": [
              "Text(0.5, 1.0, '[0 0 0 0 0 0 0 0 0 0 1 0 0 0 0 0 0 0 0 0 0 0 0 0 0 0 0 0 0 0 0 0 0 0 0 0]')"
            ]
          },
          "metadata": {},
          "execution_count": 35
        },
        {
          "output_type": "display_data",
          "data": {
            "text/plain": [
              "<Figure size 640x480 with 1 Axes>"
            ],
            "image/png": "[encoded data removed]"
          },
          "metadata": {}
        }
      ]
    },
    {
      "cell_type": "code",
      "source": [
        "# Since our data is not balance, we will handle it by giving weight for 'small' data\n",
        "\n",
        "# Check number of data for each labels first\n",
        "classes_total = labels.sum(axis = 0)\n",
        "classes_total\n",
        "\n",
        "# menghitung jumlah data untuk setiap label pertama dengan menjumlahkan\n",
        "# nilai-nilai pada setiap kolom dari variabel 'labels'."
      ],
      "metadata": {
        "id": "njDbZXKzvsx2",
        "outputId": "7b723073-5843-45d6-deef-b59d7361463c",
        "colab": {
          "base_uri": "https://localhost:8080/"
        }
      },
      "execution_count": 36,
      "outputs": [
        {
          "output_type": "execute_result",
          "data": {
            "text/plain": [
              "array([ 6903,  7877,  6990,  7141,  6824,  6313,  6876,  7293,  6825,\n",
              "        6958, 13869,  8668, 23409, 10134, 11440,  1163,  5762,  7218,\n",
              "        1120,  8493,  5603, 11586, 12336, 19010, 57825, 19341,  5812,\n",
              "       11566, 48419, 22495, 29008,  4182, 10784,  6272, 10859,  6076])"
            ]
          },
          "metadata": {},
          "execution_count": 36
        }
      ]
    },
    {
      "cell_type": "code",
      "source": [
        "# Check the biggest value of data\n",
        "classes_total.max()\n",
        "# menampilkan nilai maksimum dari jumlah data pada satu label tertentu."
      ],
      "metadata": {
        "id": "R1hHYtGLv_ZO",
        "outputId": "aaf87ef3-bdab-4a68-d7d8-bdbd26c7faaa",
        "colab": {
          "base_uri": "https://localhost:8080/"
        }
      },
      "execution_count": 37,
      "outputs": [
        {
          "output_type": "execute_result",
          "data": {
            "text/plain": [
              "57825"
            ]
          },
          "metadata": {},
          "execution_count": 37
        }
      ]
    },
    {
      "cell_type": "code",
      "source": [
        "# Create a weight for each data\n",
        "classes_weights = {}\n",
        "for i in range(0, len(classes_total)):\n",
        "  #print(i)\n",
        "  classes_weights[i] = classes_total.max() / classes_total[i]\n",
        "# membuat bobot untuk setiap data dengan mengiterasi setiap label dan menghitung\n",
        "# bobotnya berdasarkan perbandingan jumlah data terbanyak dengan jumlah data pada setiap label.\n",
        "\n",
        "# Check the weight for each data\n",
        "classes_weights\n",
        "# menampilkan bobot yang telah dihitung untuk setiap data."
      ],
      "metadata": {
        "id": "7TJFrxS2wFTO",
        "outputId": "9fe58675-93c6-4d62-bf97-6115f862a859",
        "colab": {
          "base_uri": "https://localhost:8080/"
        }
      },
      "execution_count": 38,
      "outputs": [
        {
          "output_type": "execute_result",
          "data": {
            "text/plain": [
              "{0: 8.376792698826597,\n",
              " 1: 7.340992763742541,\n",
              " 2: 8.272532188841202,\n",
              " 3: 8.097605377398123,\n",
              " 4: 8.473769050410317,\n",
              " 5: 9.15967052114684,\n",
              " 6: 8.409685863874346,\n",
              " 7: 7.928835870012341,\n",
              " 8: 8.472527472527473,\n",
              " 9: 8.310577752227651,\n",
              " 10: 4.169370538611291,\n",
              " 11: 6.671089063221043,\n",
              " 12: 2.4702037677816224,\n",
              " 13: 5.7060390763765545,\n",
              " 14: 5.0546328671328675,\n",
              " 15: 49.72055030094583,\n",
              " 16: 10.035577924331829,\n",
              " 17: 8.011221945137157,\n",
              " 18: 51.629464285714285,\n",
              " 19: 6.808548216178029,\n",
              " 20: 10.320364090665715,\n",
              " 21: 4.990937338166753,\n",
              " 22: 4.6875,\n",
              " 23: 3.0418200946870066,\n",
              " 24: 1.0,\n",
              " 25: 2.989762680316426,\n",
              " 26: 9.94924294562973,\n",
              " 27: 4.999567698426422,\n",
              " 28: 1.1942625828703608,\n",
              " 29: 2.5705712380529007,\n",
              " 30: 1.993415609487038,\n",
              " 31: 13.827116212338593,\n",
              " 32: 5.362110534124629,\n",
              " 33: 9.21954719387755,\n",
              " 34: 5.3250759738465785,\n",
              " 35: 9.51695194206715}"
            ]
          },
          "metadata": {},
          "execution_count": 38
        }
      ]
    },
    {
      "cell_type": "markdown",
      "source": [
        "# Penjelasan\n",
        "\n",
        "Proses normalisasi data ini bertujuan untuk mengubah rentang nilai setiap fitur data menjadi kisaran antara 0 hingga 1. Dengan melakukan normalisasi ini, perbedaan skala nilai antar fitur bisa disamakan, mempermudah model dalam mempelajari pola-pola yang ada dalam dataset. Misalnya, jika dataset berisi gambar, normalisasi akan mengubah intensitas piksel dari rentang 0 hingga 255 menjadi rentang 0 hingga 1, yang umumnya diperlukan dalam proses pelatihan model.\n",
        "\n",
        "Proses encoding label menggunakan Label Binarizer memiliki tujuan untuk mengonversi label kategori menjadi representasi biner. Hasil dari encoding ini akan memberikan representasi biner untuk setiap label yang ada dalam dataset. Representasi ini biasanya berbentuk matriks dengan jumlah baris yang sama dengan jumlah sampel data dan jumlah kolom yang sesuai dengan jumlah kelas atau label yang ada dalam dataset. Sebagai contoh, jika terdapat 3 kelas label, hasil encoding akan membentuk matriks dengan 3 kolom, masing-masing mewakili salah satu label dengan nilai biner 0 atau 1.\n",
        "\n",
        "Tampilan gambar yang ditampilkan merupakan representasi visual dari data. Gambar yang ditampilkan adalah gambar dari dataset yang memiliki label biner tertentu. Misalnya, menampilkan gambar yang sesuai dengan label biner [0, 1, 0] dari dataset, kita akan melihat visualisasi gambar yang sesuai dengan label biner tersebut.\n",
        "\n",
        "Bobot yang diberikan untuk setiap label bertujuan untuk menangani ketidakseimbangan dalam dataset. Bobot ini memberikan penekanan lebih pada data yang jumlahnya lebih sedikit. Dengan memberikan bobot ini, model machine learning cenderung lebih memperhatikan data yang kurang representatif agar dapat mempelajari pola yang ada secara lebih baik.\n",
        "\n",
        "Jadi, hasil dari proses preprocessing ini meliputi normalisasi data guna menyamakan skala nilai, encoding label dengan menggunakan Label Binarizer untuk mendapatkan representasi biner, serta penggunaan bobot untuk menangani ketidakseimbangan data yang memungkinkan model untuk belajar dari data yang kurang representatif."
      ],
      "metadata": {
        "id": "4p-QG8oVJXQF"
      }
    },
    {
      "cell_type": "markdown",
      "source": [
        "# Split Data to Train and Test\n",
        "\n",
        "> Indented block\n",
        "\n"
      ],
      "metadata": {
        "id": "VtDS1O6JwSQ5"
      }
    },
    {
      "cell_type": "markdown",
      "source": [
        "Dataset yang telah dimuat dibagi menjadi data latih (train) dan data uji (test). Data latih digunakan untuk melatih model, sedangkan data uji digunakan untuk menguji kinerja model yang telah dilatih."
      ],
      "metadata": {
        "id": "obNMYg0huwPU"
      }
    },
    {
      "cell_type": "code",
      "source": [
        "# Split Data to Train and Test\n",
        "# Memisahkan data menjadi data latih dan data uji\n",
        "# `train_test_split` akan membagi data dan labelnya menjadi data latih (train) dan data uji (test)\n",
        "# test_size = 0.2 menandakan proporsi data yang dialokasikan untuk data uji sebesar 20%\n",
        "# random_state = 1 digunakan untuk menghasilkan pembagian yang sama jika kode ini dijalankan lebih dari satu kali\n",
        "# stratify = labels bertujuan untuk memastikan proporsi kelas yang sama di antara data latih dan data uji\n",
        "X_train, X_test, y_train, y_test = train_test_split(data, labels, test_size=0.2, random_state=1, stratify=labels)"
      ],
      "metadata": {
        "id": "rV62GJySwM2z"
      },
      "execution_count": 39,
      "outputs": []
    },
    {
      "cell_type": "markdown",
      "source": [
        "## Create Data Augmentation"
      ],
      "metadata": {
        "id": "q7Hs5GwGxw4E"
      }
    },
    {
      "cell_type": "markdown",
      "source": [],
      "metadata": {
        "id": "Oyf1dv_hwpXY"
      }
    },
    {
      "cell_type": "code",
      "source": [
        "# Import library\n",
        "# Mengimpor library yang dibutuhkan untuk augmentasi data menggunakan ImageDataGenerator dari TensorFlow\n",
        "\n",
        "from tensorflow.keras.preprocessing.image import ImageDataGenerator"
      ],
      "metadata": {
        "id": "Xn1jiVn9x2Gx"
      },
      "execution_count": 40,
      "outputs": []
    },
    {
      "cell_type": "code",
      "source": [
        "# ImageDataGenerator akan menghasilkan variasi data baru dari data yang ada dengan menerapkan transformasi tertentu\n",
        "# Berbagai parameter seperti rotasi, zoom, pergeseran, dan flip horizontal bisa diterapkan pada gambar\n",
        "augmentation = ImageDataGenerator(rotation_range = 10, zoom_range=0.05, width_shift_range=0.1,\n",
        "                                  height_shift_range=0.1, horizontal_flip = False)"
      ],
      "metadata": {
        "id": "su41P3box6Zm"
      },
      "execution_count": 41,
      "outputs": []
    },
    {
      "cell_type": "markdown",
      "source": [
        "# Build CNN Model"
      ],
      "metadata": {
        "id": "GYwIT1TZw8SM"
      }
    },
    {
      "cell_type": "code",
      "source": [
        "# Import library\n",
        "\n",
        "# Import library yang diperlukan dari TensorFlow untuk membangun model\n",
        "from tensorflow.keras.models import Sequential\n",
        "from tensorflow.keras.layers import Conv2D, MaxPool2D, Flatten, Dense\n",
        "from tensorflow.keras.callbacks import ModelCheckpoint"
      ],
      "metadata": {
        "id": "nvQ2Ly4zwX8z"
      },
      "execution_count": 42,
      "outputs": []
    },
    {
      "cell_type": "code",
      "source": [
        "# Build the network\n",
        "# Membangun arsitektur jaringan neural\n",
        "\n",
        "network = Sequential()  # Membuat model sequential dari Keras\n",
        "\n",
        "# Menambahkan lapisan konvolusi pertama dengan 32 filter, ukuran kernel 3x3, fungsi aktivasi ReLU, dan input berukuran (28,28,1)\n",
        "network.add(Conv2D(filters=32, kernel_size=(3, 3), activation='relu', input_shape=(28, 28, 1)))\n",
        "\n",
        "# Menambahkan lapisan max pooling dengan ukuran pool 2x2\n",
        "network.add(MaxPool2D(pool_size=(2, 2)))\n",
        "\n",
        "# Menambahkan lapisan konvolusi kedua dengan 64 filter, ukuran kernel 3x3, fungsi aktivasi ReLU, dan padding 'same'\n",
        "network.add(Conv2D(filters=64, kernel_size=(3, 3), activation='relu', padding='same'))\n",
        "\n",
        "# Menambahkan lapisan max pooling dengan ukuran pool 2x2\n",
        "network.add(MaxPool2D(pool_size=(2, 2)))\n",
        "\n",
        "# Menambahkan lapisan konvolusi ketiga dengan 128 filter, ukuran kernel 3x3, fungsi aktivasi ReLU, dan padding 'valid'\n",
        "network.add(Conv2D(filters=128, kernel_size=(3, 3), activation='relu', padding='valid'))\n",
        "\n",
        "# Menambahkan lapisan max pooling dengan ukuran pool 2x2\n",
        "network.add(MaxPool2D(pool_size=(2, 2)))\n",
        "\n",
        "# Meratakan data ke dalam vektor satu dimensi\n",
        "network.add(Flatten())\n",
        "\n",
        "# Menambahkan lapisan dense (fully connected) dengan 64 neuron dan fungsi aktivasi ReLU\n",
        "network.add(Dense(64, activation='relu'))\n",
        "\n",
        "# Menambahkan lapisan dense (fully connected) dengan 128 neuron dan fungsi aktivasi ReLU\n",
        "network.add(Dense(128, activation='relu'))\n",
        "\n",
        "# Menambahkan lapisan output dengan 36 neuron (sesuai dengan jumlah kelas) dan fungsi aktivasi softmax\n",
        "network.add(Dense(36, activation='softmax'))\n",
        "\n",
        "# Mengompilasi model dengan categorical crossentropy sebagai fungsi loss, adam sebagai optimizer, dan mengukur akurasi sebagai metrik\n",
        "network.compile(loss='categorical_crossentropy', optimizer='adam', metrics=['accuracy'])\n"
      ],
      "metadata": {
        "id": "icRreUChxAwF"
      },
      "execution_count": 43,
      "outputs": []
    },
    {
      "cell_type": "code",
      "source": [
        "# melihat ringkasan atau struktur dari model jaringan\n",
        "network.summary()"
      ],
      "metadata": {
        "id": "nAuCYbRWxIKl",
        "outputId": "b629925d-be19-4b97-d1f5-d6d3d8606741",
        "colab": {
          "base_uri": "https://localhost:8080/"
        }
      },
      "execution_count": 44,
      "outputs": [
        {
          "output_type": "stream",
          "name": "stdout",
          "text": [
            "Model: \"sequential\"\n",
            "_________________________________________________________________\n",
            " Layer (type)                Output Shape              Param #   \n",
            "=================================================================\n",
            " conv2d (Conv2D)             (None, 26, 26, 32)        320       \n",
            "                                                                 \n",
            " max_pooling2d (MaxPooling2  (None, 13, 13, 32)        0         \n",
            " D)                                                              \n",
            "                                                                 \n",
            " conv2d_1 (Conv2D)           (None, 13, 13, 64)        18496     \n",
            "                                                                 \n",
            " max_pooling2d_1 (MaxPoolin  (None, 6, 6, 64)          0         \n",
            " g2D)                                                            \n",
            "                                                                 \n",
            " conv2d_2 (Conv2D)           (None, 4, 4, 128)         73856     \n",
            "                                                                 \n",
            " max_pooling2d_2 (MaxPoolin  (None, 2, 2, 128)         0         \n",
            " g2D)                                                            \n",
            "                                                                 \n",
            " flatten (Flatten)           (None, 512)               0         \n",
            "                                                                 \n",
            " dense (Dense)               (None, 64)                32832     \n",
            "                                                                 \n",
            " dense_1 (Dense)             (None, 128)               8320      \n",
            "                                                                 \n",
            " dense_2 (Dense)             (None, 36)                4644      \n",
            "                                                                 \n",
            "=================================================================\n",
            "Total params: 138468 (540.89 KB)\n",
            "Trainable params: 138468 (540.89 KB)\n",
            "Non-trainable params: 0 (0.00 Byte)\n",
            "_________________________________________________________________\n"
          ]
        }
      ]
    },
    {
      "cell_type": "code",
      "source": [
        "# Membuat label aktual\n",
        "name_labels = '0123456789'  # Mendefinisikan label dari angka 0 hingga 9\n",
        "\n",
        "# Menambahkan huruf besar dalam alfabet A-Z ke dalam variabel name_labels\n",
        "name_labels += 'ABCDEFGHIJKLMNOPQRSTUVWXYZ'\n",
        "\n",
        "# Mengonversi string menjadi list karakter dan menyimpannya di variabel name_labels\n",
        "name_labels = [l for l in name_labels]\n",
        "\n",
        "# Menampilkan label aktual yang telah dibuat\n",
        "print(name_labels)"
      ],
      "metadata": {
        "id": "o7Vc4ly2xMhk",
        "outputId": "a032cab2-26a0-480a-9285-c2a5c63003b5",
        "colab": {
          "base_uri": "https://localhost:8080/"
        }
      },
      "execution_count": 45,
      "outputs": [
        {
          "output_type": "stream",
          "name": "stdout",
          "text": [
            "['0', '1', '2', '3', '4', '5', '6', '7', '8', '9', 'A', 'B', 'C', 'D', 'E', 'F', 'G', 'H', 'I', 'J', 'K', 'L', 'M', 'N', 'O', 'P', 'Q', 'R', 'S', 'T', 'U', 'V', 'W', 'X', 'Y', 'Z']\n"
          ]
        }
      ]
    },
    {
      "cell_type": "markdown",
      "source": [
        "## Train model"
      ],
      "metadata": {
        "id": "DH7hSW38xX6e"
      }
    },
    {
      "cell_type": "code",
      "source": [
        "# Set model name, epoch, and batch size\n",
        "file_model = 'custom_ocr.model'  # Nama file untuk menyimpan model\n",
        "epochs = 20  # Jumlah iterasi melalui seluruh dataset yang akan dilakukan saat pelatihan\n",
        "batch_size = 128  # Jumlah sampel yang akan digunakan dalam satu iterasi"
      ],
      "metadata": {
        "id": "rNQ_-PY7xVRD"
      },
      "execution_count": 46,
      "outputs": []
    },
    {
      "cell_type": "code",
      "source": [
        "# Setup checkpoint\n",
        "# Mengatur callback ModelCheckpoint untuk menyimpan model dengan performa terbaik selama pelatihan\n",
        "checkpointer = ModelCheckpoint(file_model, monitor = 'val_loss', verbose = 1, save_best_only=True)"
      ],
      "metadata": {
        "id": "F8Orj5UQxdtr"
      },
      "execution_count": 47,
      "outputs": []
    },
    {
      "cell_type": "code",
      "source": [
        "# Fit the model\n",
        "history = network.fit(\n",
        "    augmentation.flow(X_train, y_train, batch_size=batch_size),  # Data augmentasi sebagai generator untuk data latih\n",
        "    validation_data=(X_test, y_test),  # Data validasi yang digunakan untuk mengevaluasi performa model\n",
        "    steps_per_epoch=len(X_train) // batch_size,  # Jumlah langkah per epoch yang dilakukan dalam setiap iterasi pelatihan\n",
        "    epochs=epochs,  # Jumlah iterasi melalui seluruh dataset\n",
        "    class_weight=classes_weights,  # Menentukan bobot kelas untuk menangani ketidakseimbangan data\n",
        "    verbose=1,  # Level detail output saat pelatihan\n",
        "    callbacks=[checkpointer]  # Daftar callback yang akan digunakan saat pelatihan\n",
        ")"
      ],
      "metadata": {
        "id": "enFAwiaxxkgx",
        "outputId": "302846e2-452c-4299-b839-940980603863",
        "colab": {
          "base_uri": "https://localhost:8080/"
        }
      },
      "execution_count": 48,
      "outputs": [
        {
          "output_type": "stream",
          "name": "stdout",
          "text": [
            "Epoch 1/20\n",
            "2765/2765 [==============================] - ETA: 0s - loss: 2.2221 - accuracy: 0.8223\n",
            "Epoch 1: val_loss improved from inf to 0.24608, saving model to custom_ocr.model\n",
            "2765/2765 [==============================] - 158s 52ms/step - loss: 2.2221 - accuracy: 0.8223 - val_loss: 0.2461 - val_accuracy: 0.9156\n",
            "Epoch 2/20\n",
            "2765/2765 [==============================] - ETA: 0s - loss: 0.9821 - accuracy: 0.9011\n",
            "Epoch 2: val_loss improved from 0.24608 to 0.19468, saving model to custom_ocr.model\n",
            "2765/2765 [==============================] - 174s 63ms/step - loss: 0.9821 - accuracy: 0.9011 - val_loss: 0.1947 - val_accuracy: 0.9304\n",
            "Epoch 3/20\n",
            "2764/2765 [============================>.] - ETA: 0s - loss: 0.8169 - accuracy: 0.9137\n",
            "Epoch 3: val_loss did not improve from 0.19468\n",
            "2765/2765 [==============================] - 154s 56ms/step - loss: 0.8169 - accuracy: 0.9136 - val_loss: 0.2430 - val_accuracy: 0.8943\n",
            "Epoch 4/20\n",
            "2764/2765 [============================>.] - ETA: 0s - loss: 0.7227 - accuracy: 0.9212\n",
            "Epoch 4: val_loss improved from 0.19468 to 0.19134, saving model to custom_ocr.model\n",
            "2765/2765 [==============================] - 135s 49ms/step - loss: 0.7226 - accuracy: 0.9212 - val_loss: 0.1913 - val_accuracy: 0.9214\n",
            "Epoch 5/20\n",
            "2765/2765 [==============================] - ETA: 0s - loss: 0.6529 - accuracy: 0.9275\n",
            "Epoch 5: val_loss did not improve from 0.19134\n",
            "2765/2765 [==============================] - 148s 53ms/step - loss: 0.6529 - accuracy: 0.9275 - val_loss: 0.2868 - val_accuracy: 0.8783\n",
            "Epoch 6/20\n",
            "2765/2765 [==============================] - ETA: 0s - loss: 0.6158 - accuracy: 0.9307\n",
            "Epoch 6: val_loss did not improve from 0.19134\n",
            "2765/2765 [==============================] - 156s 56ms/step - loss: 0.6158 - accuracy: 0.9307 - val_loss: 0.2456 - val_accuracy: 0.8973\n",
            "Epoch 7/20\n",
            "2764/2765 [============================>.] - ETA: 0s - loss: 0.5749 - accuracy: 0.9347\n",
            "Epoch 7: val_loss did not improve from 0.19134\n",
            "2765/2765 [==============================] - 144s 52ms/step - loss: 0.5749 - accuracy: 0.9347 - val_loss: 0.3346 - val_accuracy: 0.8680\n",
            "Epoch 8/20\n",
            "2765/2765 [==============================] - ETA: 0s - loss: 0.5530 - accuracy: 0.9367\n",
            "Epoch 8: val_loss improved from 0.19134 to 0.18917, saving model to custom_ocr.model\n",
            "2765/2765 [==============================] - 146s 53ms/step - loss: 0.5530 - accuracy: 0.9367 - val_loss: 0.1892 - val_accuracy: 0.9237\n",
            "Epoch 9/20\n",
            "2764/2765 [============================>.] - ETA: 0s - loss: 0.5313 - accuracy: 0.9391\n",
            "Epoch 9: val_loss did not improve from 0.18917\n",
            "2765/2765 [==============================] - 133s 48ms/step - loss: 0.5313 - accuracy: 0.9391 - val_loss: 0.3077 - val_accuracy: 0.8721\n",
            "Epoch 10/20\n",
            "2764/2765 [============================>.] - ETA: 0s - loss: 0.5098 - accuracy: 0.9393\n",
            "Epoch 10: val_loss did not improve from 0.18917\n",
            "2765/2765 [==============================] - 159s 58ms/step - loss: 0.5097 - accuracy: 0.9393 - val_loss: 0.2484 - val_accuracy: 0.8935\n",
            "Epoch 11/20\n",
            "2765/2765 [==============================] - ETA: 0s - loss: 0.4924 - accuracy: 0.9410\n",
            "Epoch 11: val_loss did not improve from 0.18917\n",
            "2765/2765 [==============================] - 142s 51ms/step - loss: 0.4924 - accuracy: 0.9410 - val_loss: 0.2761 - val_accuracy: 0.8788\n",
            "Epoch 12/20\n",
            "2765/2765 [==============================] - ETA: 0s - loss: 0.4797 - accuracy: 0.9414\n",
            "Epoch 12: val_loss did not improve from 0.18917\n",
            "2765/2765 [==============================] - 133s 48ms/step - loss: 0.4797 - accuracy: 0.9414 - val_loss: 0.2302 - val_accuracy: 0.8994\n",
            "Epoch 13/20\n",
            "2764/2765 [============================>.] - ETA: 0s - loss: 0.4667 - accuracy: 0.9430\n",
            "Epoch 13: val_loss did not improve from 0.18917\n",
            "2765/2765 [==============================] - 139s 50ms/step - loss: 0.4666 - accuracy: 0.9430 - val_loss: 0.2190 - val_accuracy: 0.9047\n",
            "Epoch 14/20\n",
            "2764/2765 [============================>.] - ETA: 0s - loss: 0.4619 - accuracy: 0.9440\n",
            "Epoch 14: val_loss improved from 0.18917 to 0.18253, saving model to custom_ocr.model\n",
            "2765/2765 [==============================] - 135s 49ms/step - loss: 0.4619 - accuracy: 0.9440 - val_loss: 0.1825 - val_accuracy: 0.9252\n",
            "Epoch 15/20\n",
            "2764/2765 [============================>.] - ETA: 0s - loss: 0.4489 - accuracy: 0.9453\n",
            "Epoch 15: val_loss did not improve from 0.18253\n",
            "2765/2765 [==============================] - 137s 50ms/step - loss: 0.4490 - accuracy: 0.9453 - val_loss: 0.2493 - val_accuracy: 0.9015\n",
            "Epoch 16/20\n",
            "2765/2765 [==============================] - ETA: 0s - loss: 0.4415 - accuracy: 0.9467\n",
            "Epoch 16: val_loss improved from 0.18253 to 0.17487, saving model to custom_ocr.model\n",
            "2765/2765 [==============================] - 133s 48ms/step - loss: 0.4415 - accuracy: 0.9467 - val_loss: 0.1749 - val_accuracy: 0.9307\n",
            "Epoch 17/20\n",
            "2764/2765 [============================>.] - ETA: 0s - loss: 0.4295 - accuracy: 0.9470\n",
            "Epoch 17: val_loss improved from 0.17487 to 0.14524, saving model to custom_ocr.model\n",
            "2765/2765 [==============================] - 138s 50ms/step - loss: 0.4295 - accuracy: 0.9470 - val_loss: 0.1452 - val_accuracy: 0.9485\n",
            "Epoch 18/20\n",
            "2765/2765 [==============================] - ETA: 0s - loss: 0.4262 - accuracy: 0.9472\n",
            "Epoch 18: val_loss improved from 0.14524 to 0.14106, saving model to custom_ocr.model\n",
            "2765/2765 [==============================] - 147s 53ms/step - loss: 0.4262 - accuracy: 0.9472 - val_loss: 0.1411 - val_accuracy: 0.9520\n",
            "Epoch 19/20\n",
            "2764/2765 [============================>.] - ETA: 0s - loss: 0.4166 - accuracy: 0.9477\n",
            "Epoch 19: val_loss improved from 0.14106 to 0.12209, saving model to custom_ocr.model\n",
            "2765/2765 [==============================] - 143s 52ms/step - loss: 0.4165 - accuracy: 0.9477 - val_loss: 0.1221 - val_accuracy: 0.9618\n",
            "Epoch 20/20\n",
            "2764/2765 [============================>.] - ETA: 0s - loss: 0.4076 - accuracy: 0.9495\n",
            "Epoch 20: val_loss did not improve from 0.12209\n",
            "2765/2765 [==============================] - 140s 50ms/step - loss: 0.4076 - accuracy: 0.9495 - val_loss: 0.1378 - val_accuracy: 0.9530\n"
          ]
        }
      ]
    },
    {
      "cell_type": "markdown",
      "source": [
        "# Penjelasan\n",
        "\n",
        "Hasil dari proses ini adalah pelatihan model jaringan saraf menggunakan teknik augmentasi data pada dataset pelatihan. Augmentasi data memungkinkan dataset asli diperluas dengan variasi tambahan, seperti rotasi, pergeseran, dan perbesaran gambar, yang diterapkan secara dinamis saat proses pelatihan. Data latih akan mengalir melalui langkah-langkah (batches) yang dibentuk oleh aliran data augmentasi.\n",
        "\n",
        "Selama proses pelatihan, model akan diperbarui secara berulang melalui jumlah epoch yang telah ditentukan. Setiap epoch merupakan satu iterasi melalui keseluruhan dataset latih. Dengan penggunaan bobot kelas, model diberi kesadaran lebih terhadap kelas-kelas yang jumlahnya lebih sedikit dalam dataset. Hal ini membantu model untuk lebih fokus dan memperoleh pemahaman yang lebih baik terhadap kelas-kelas yang kurang representatif.\n",
        "\n",
        "Hasil akhir dari pelatihan ini dapat diamati melalui objek history yang terbentuk. Objek ini berisi metrik yang diukur, seperti akurasi atau kehilangan (loss), yang terakumulasi selama proses pelatihan model. Melalui analisis dari objek history, kita dapat mengevaluasi performa dan tingkat pembelajaran model pada setiap iterasi (epoch) pelatihan.\n",
        "\n",
        "Secara keseluruhan, hasil yang diperoleh adalah melatih model jaringan saraf dengan memanfaatkan teknik augmentasi data untuk memperluas variasi dataset, penerapan bobot kelas untuk penekanan pada kelas-kelas minor, serta pemantauan dan evaluasi pelatihan model menggunakan callback yang mengamati performa selama proses pelatihan."
      ],
      "metadata": {
        "id": "34I1OEqxS89d"
      }
    },
    {
      "cell_type": "markdown",
      "source": [
        "# Evaluate Model"
      ],
      "metadata": {
        "id": "bM4mGoWL6jxk"
      }
    },
    {
      "cell_type": "markdown",
      "source": [
        "## Make a Single Prediction"
      ],
      "metadata": {
        "id": "ig0TiV6N7V29"
      }
    },
    {
      "cell_type": "markdown",
      "source": [],
      "metadata": {
        "id": "5pbMkmvg7V0i"
      }
    },
    {
      "cell_type": "code",
      "source": [
        "# make a prediction\n",
        "# Melakukan prediksi menggunakan model neural network terhadap data uji (X_test)\n",
        "# network.predict() digunakan untuk membuat prediksi\n",
        "# batch_size=batch_size menunjukkan ukuran batch yang digunakan saat melakukan prediksi\n",
        "predictions = network.predict(X_test, batch_size=batch_size)"
      ],
      "metadata": {
        "id": "WDJUSW-l6lEl",
        "outputId": "a544f8e3-8c4e-4f11-cfdc-8532b2969ee9",
        "colab": {
          "base_uri": "https://localhost:8080/"
        }
      },
      "execution_count": 49,
      "outputs": [
        {
          "output_type": "stream",
          "name": "stdout",
          "text": [
            "692/692 [==============================] - 3s 4ms/step\n"
          ]
        }
      ]
    },
    {
      "cell_type": "code",
      "source": [
        "# Menampilkan prediksi dari model untuk data dengan indeks ke-1 dari data uji (X_test)\n",
        "# predictions[1] digunakan untuk mengakses prediksi untuk data dengan indeks ke-1\n",
        "# Ini akan menampilkan probabilitas untuk setiap label\n",
        "predictions[1]"
      ],
      "metadata": {
        "id": "tQ5Ta4b96pEt",
        "outputId": "d0e0a72c-e54c-4fb4-d1d6-faf6ced688ed",
        "colab": {
          "base_uri": "https://localhost:8080/"
        }
      },
      "execution_count": 50,
      "outputs": [
        {
          "output_type": "execute_result",
          "data": {
            "text/plain": [
              "array([4.0517083e-16, 3.1485314e-11, 5.0986103e-13, 7.6542632e-15,\n",
              "       2.4521696e-13, 6.7521583e-15, 2.7132790e-21, 9.2577618e-10,\n",
              "       1.2370136e-14, 1.7075395e-14, 1.0139797e-12, 4.4692635e-13,\n",
              "       8.5919579e-12, 4.3905241e-10, 4.7535448e-12, 2.5645430e-14,\n",
              "       1.1722592e-12, 3.5266535e-14, 9.7299665e-01, 2.6985858e-02,\n",
              "       1.1794079e-14, 5.4055663e-11, 9.3254936e-18, 9.1725132e-18,\n",
              "       5.4629417e-09, 8.7371542e-12, 5.9631835e-18, 1.1823811e-14,\n",
              "       4.8273663e-10, 1.7500155e-05, 2.3730670e-11, 1.0879621e-19,\n",
              "       2.8097363e-18, 3.5879923e-12, 9.1040075e-12, 3.2937446e-09],\n",
              "      dtype=float32)"
            ]
          },
          "metadata": {},
          "execution_count": 50
        }
      ]
    },
    {
      "cell_type": "code",
      "source": [
        "# Menggunakan np.argmax() untuk mendapatkan label dengan nilai probabilitas tertinggi dari prediksi pada data dengan indeks ke-1 dari X_test\n",
        "np.argmax(predictions[1])"
      ],
      "metadata": {
        "id": "9THTrYAH64g8",
        "outputId": "9c0edaeb-1cf5-4db4-f1c1-00c6cc81f129",
        "colab": {
          "base_uri": "https://localhost:8080/"
        }
      },
      "execution_count": 51,
      "outputs": [
        {
          "output_type": "execute_result",
          "data": {
            "text/plain": [
              "18"
            ]
          },
          "metadata": {},
          "execution_count": 51
        }
      ]
    },
    {
      "cell_type": "code",
      "source": [
        "# Check label for 24\n",
        "name_labels[18]"
      ],
      "metadata": {
        "id": "pG6n2eTI6-Ly",
        "outputId": "be3c5d1e-5390-4b0b-b98f-0d5c88be3a69",
        "colab": {
          "base_uri": "https://localhost:8080/",
          "height": 36
        }
      },
      "execution_count": 52,
      "outputs": [
        {
          "output_type": "execute_result",
          "data": {
            "text/plain": [
              "'I'"
            ],
            "application/vnd.google.colaboratory.intrinsic+json": {
              "type": "string"
            }
          },
          "metadata": {},
          "execution_count": 52
        }
      ]
    },
    {
      "cell_type": "code",
      "source": [
        "# Check y_test label for 0\n",
        "y_test[1]"
      ],
      "metadata": {
        "id": "chDSvyYq7Bxq",
        "outputId": "f05c9944-c4c6-4452-dda8-19b5362b26b8",
        "colab": {
          "base_uri": "https://localhost:8080/"
        }
      },
      "execution_count": 53,
      "outputs": [
        {
          "output_type": "execute_result",
          "data": {
            "text/plain": [
              "array([0, 0, 0, 0, 0, 0, 0, 0, 0, 0, 0, 0, 0, 0, 0, 0, 0, 0, 1, 0, 0, 0,\n",
              "       0, 0, 0, 0, 0, 0, 0, 0, 0, 0, 0, 0, 0, 0])"
            ]
          },
          "metadata": {},
          "execution_count": 53
        }
      ]
    },
    {
      "cell_type": "code",
      "source": [
        "# Mencari indeks nilai tertinggi dari vektor label y_test pada indeks ke-1\n",
        "np.argmax(y_test[1])"
      ],
      "metadata": {
        "id": "BpoE99Us7KpZ",
        "outputId": "8ded0e8f-8e45-435c-e4e9-9edd6f174bb6",
        "colab": {
          "base_uri": "https://localhost:8080/"
        }
      },
      "execution_count": 54,
      "outputs": [
        {
          "output_type": "execute_result",
          "data": {
            "text/plain": [
              "18"
            ]
          },
          "metadata": {},
          "execution_count": 54
        }
      ]
    },
    {
      "cell_type": "code",
      "source": [
        "# Mencari label dari nilai tertinggi dalam vektor label y_test pada indeks ke-18\n",
        "name_labels[np.argmax(y_test[18])]"
      ],
      "metadata": {
        "id": "KjJRX1lC7Ppw",
        "outputId": "0b54ca83-9871-41c9-cbdd-f3a5f50cfe12",
        "colab": {
          "base_uri": "https://localhost:8080/",
          "height": 36
        }
      },
      "execution_count": 55,
      "outputs": [
        {
          "output_type": "execute_result",
          "data": {
            "text/plain": [
              "'S'"
            ],
            "application/vnd.google.colaboratory.intrinsic+json": {
              "type": "string"
            }
          },
          "metadata": {},
          "execution_count": 55
        }
      ]
    },
    {
      "cell_type": "markdown",
      "source": [
        "## Make an Evaluation on Test Data"
      ],
      "metadata": {
        "id": "_xFS3-cs7a0x"
      }
    },
    {
      "cell_type": "code",
      "source": [
        "# Mengevaluasi model neural network menggunakan data uji (X_test dan y_test)\n",
        "network.evaluate(X_test, y_test)"
      ],
      "metadata": {
        "id": "t-rko8WP7TYA",
        "outputId": "2a25678a-5e59-49c0-b5be-3cc92868158f",
        "colab": {
          "base_uri": "https://localhost:8080/"
        }
      },
      "execution_count": 56,
      "outputs": [
        {
          "output_type": "stream",
          "name": "stdout",
          "text": [
            "2766/2766 [==============================] - 10s 4ms/step - loss: 0.1378 - accuracy: 0.9530\n"
          ]
        },
        {
          "output_type": "execute_result",
          "data": {
            "text/plain": [
              "[0.13782824575901031, 0.95297771692276]"
            ]
          },
          "metadata": {},
          "execution_count": 56
        }
      ]
    },
    {
      "cell_type": "code",
      "source": [
        "# Print Classification Report\n",
        "print(classification_report(y_test.argmax(axis=1), predictions.argmax(axis=1), target_names = name_labels))"
      ],
      "metadata": {
        "id": "VkQtgoCq7gx2",
        "outputId": "48ca1485-7dbf-4e20-cc8f-6ba4bd849b67",
        "colab": {
          "base_uri": "https://localhost:8080/"
        }
      },
      "execution_count": 57,
      "outputs": [
        {
          "output_type": "stream",
          "name": "stdout",
          "text": [
            "              precision    recall  f1-score   support\n",
            "\n",
            "           0       0.37      0.72      0.48      1381\n",
            "           1       0.98      0.98      0.98      1575\n",
            "           2       0.89      0.99      0.93      1398\n",
            "           3       0.96      0.99      0.98      1428\n",
            "           4       0.89      0.96      0.92      1365\n",
            "           5       0.74      0.93      0.83      1263\n",
            "           6       0.95      0.98      0.97      1375\n",
            "           7       0.93      1.00      0.96      1459\n",
            "           8       0.98      0.99      0.98      1365\n",
            "           9       0.93      0.99      0.96      1392\n",
            "           A       1.00      0.99      0.99      2774\n",
            "           B       0.99      0.99      0.99      1734\n",
            "           C       0.99      0.98      0.99      4682\n",
            "           D       0.95      0.96      0.96      2027\n",
            "           E       0.99      0.98      0.99      2288\n",
            "           F       0.98      1.00      0.99       233\n",
            "           G       0.96      0.95      0.96      1152\n",
            "           H       0.99      0.95      0.97      1444\n",
            "           I       0.98      0.96      0.97       224\n",
            "           J       0.97      0.98      0.97      1698\n",
            "           K       0.96      0.99      0.97      1121\n",
            "           L       0.97      0.99      0.98      2317\n",
            "           M       0.99      1.00      0.99      2467\n",
            "           N       0.99      0.98      0.99      3802\n",
            "           O       0.96      0.84      0.90     11565\n",
            "           P       0.99      0.99      0.99      3868\n",
            "           Q       0.98      0.98      0.98      1162\n",
            "           R       0.99      0.99      0.99      2313\n",
            "           S       0.99      0.95      0.97      9684\n",
            "           T       1.00      0.98      0.99      4499\n",
            "           U       0.99      0.97      0.98      5801\n",
            "           V       0.97      1.00      0.98       836\n",
            "           W       0.95      1.00      0.97      2157\n",
            "           X       0.99      0.99      0.99      1254\n",
            "           Y       0.99      0.93      0.96      2172\n",
            "           Z       0.98      0.87      0.92      1215\n",
            "\n",
            "    accuracy                           0.95     88490\n",
            "   macro avg       0.95      0.96      0.95     88490\n",
            "weighted avg       0.96      0.95      0.96     88490\n",
            "\n"
          ]
        }
      ]
    },
    {
      "cell_type": "code",
      "source": [
        "# Menggunakan matplotlib untuk membuat plot nilai loss pada set data validasi\n",
        "# ('val_loss') untuk setiap epoch\n",
        "plt.plot(history.history['val_loss'])"
      ],
      "metadata": {
        "id": "mIETfqMu7nv1",
        "outputId": "54b76eec-8ce9-4003-acdd-e2f60e414e30",
        "colab": {
          "base_uri": "https://localhost:8080/",
          "height": 447
        }
      },
      "execution_count": 58,
      "outputs": [
        {
          "output_type": "execute_result",
          "data": {
            "text/plain": [
              "[<matplotlib.lines.Line2D at 0x7f538d885d20>]"
            ]
          },
          "metadata": {},
          "execution_count": 58
        },
        {
          "output_type": "display_data",
          "data": {
            "text/plain": [
              "<Figure size 640x480 with 1 Axes>"
            ],
            "image/png": "[encoded data removed]"
          },
          "metadata": {}
        }
      ]
    },
    {
      "cell_type": "code",
      "source": [
        "# Melihat kunci-kunci (keys) yang tersedia dalam variabel history.history\n",
        "history.history.keys()"
      ],
      "metadata": {
        "id": "mNUP1QP17vas",
        "outputId": "914391a4-f1ec-4104-e266-ea1086f1020d",
        "colab": {
          "base_uri": "https://localhost:8080/"
        }
      },
      "execution_count": 59,
      "outputs": [
        {
          "output_type": "execute_result",
          "data": {
            "text/plain": [
              "dict_keys(['loss', 'accuracy', 'val_loss', 'val_accuracy'])"
            ]
          },
          "metadata": {},
          "execution_count": 59
        }
      ]
    },
    {
      "cell_type": "code",
      "source": [
        "# Memvisualisasikan metrik 'val_accuracy' (akurasi pada set data validasi) dari\n",
        "# hasil pelatihan model\n",
        "plt.plot(history.history['val_accuracy'])"
      ],
      "metadata": {
        "id": "VwEZzjEa716s",
        "outputId": "34ab06b2-7352-4163-d28d-23ad993bc255",
        "colab": {
          "base_uri": "https://localhost:8080/",
          "height": 447
        }
      },
      "execution_count": 60,
      "outputs": [
        {
          "output_type": "execute_result",
          "data": {
            "text/plain": [
              "[<matplotlib.lines.Line2D at 0x7f538a739900>]"
            ]
          },
          "metadata": {},
          "execution_count": 60
        },
        {
          "output_type": "display_data",
          "data": {
            "text/plain": [
              "<Figure size 640x480 with 1 Axes>"
            ],
            "image/png": "[encoded data removed]"
          },
          "metadata": {}
        }
      ]
    },
    {
      "cell_type": "markdown",
      "source": [
        "\n",
        "\n",
        "# Save The Model"
      ],
      "metadata": {
        "id": "D0rviDyl79Bk"
      }
    },
    {
      "cell_type": "code",
      "source": [
        "# The result will show in colab directory\n",
        "network.save('network', save_format= 'h5')\n",
        "# Menyimpan model yang telah dilatih dalam format h5 dengan nama 'network'"
      ],
      "metadata": {
        "id": "QZ4ftlmq76nC",
        "outputId": "175d61d1-5540-47c1-e0db-20791ed3cca2",
        "colab": {
          "base_uri": "https://localhost:8080/"
        }
      },
      "execution_count": 61,
      "outputs": [
        {
          "output_type": "stream",
          "name": "stderr",
          "text": [
            "/usr/local/lib/python3.10/dist-packages/keras/src/engine/training.py:3079: UserWarning: You are saving your model as an HDF5 file via `model.save()`. This file format is considered legacy. We recommend using instead the native Keras format, e.g. `model.save('my_model.keras')`.\n",
            "  saving_api.save_model(\n"
          ]
        }
      ]
    },
    {
      "cell_type": "markdown",
      "source": [
        "# Testing on Real Image"
      ],
      "metadata": {
        "id": "A3EWZVrz0YDV"
      }
    },
    {
      "cell_type": "code",
      "source": [
        "# Import library\n",
        "from tensorflow.keras.models import load_model"
      ],
      "metadata": {
        "id": "1wUedJB-0Z_q"
      },
      "execution_count": 62,
      "outputs": []
    },
    {
      "cell_type": "code",
      "source": [
        "# Load saved network\n",
        "# Memuat kembali jaringan yang telah disimpan sebelumnya\n",
        "load_network = load_model('network')"
      ],
      "metadata": {
        "id": "D6E24QOm0hiB"
      },
      "execution_count": 63,
      "outputs": []
    },
    {
      "cell_type": "code",
      "source": [
        "# Check summary\n",
        "# Menampilkan ringkasan atau struktur dari model yang dimuat kembali\n",
        "load_network.summary()"
      ],
      "metadata": {
        "id": "0cB7lmOc0nlR",
        "outputId": "b31ba124-59db-4fdb-c3bd-070d40795c02",
        "colab": {
          "base_uri": "https://localhost:8080/"
        }
      },
      "execution_count": 64,
      "outputs": [
        {
          "output_type": "stream",
          "name": "stdout",
          "text": [
            "Model: \"sequential\"\n",
            "_________________________________________________________________\n",
            " Layer (type)                Output Shape              Param #   \n",
            "=================================================================\n",
            " conv2d (Conv2D)             (None, 26, 26, 32)        320       \n",
            "                                                                 \n",
            " max_pooling2d (MaxPooling2  (None, 13, 13, 32)        0         \n",
            " D)                                                              \n",
            "                                                                 \n",
            " conv2d_1 (Conv2D)           (None, 13, 13, 64)        18496     \n",
            "                                                                 \n",
            " max_pooling2d_1 (MaxPoolin  (None, 6, 6, 64)          0         \n",
            " g2D)                                                            \n",
            "                                                                 \n",
            " conv2d_2 (Conv2D)           (None, 4, 4, 128)         73856     \n",
            "                                                                 \n",
            " max_pooling2d_2 (MaxPoolin  (None, 2, 2, 128)         0         \n",
            " g2D)                                                            \n",
            "                                                                 \n",
            " flatten (Flatten)           (None, 512)               0         \n",
            "                                                                 \n",
            " dense (Dense)               (None, 64)                32832     \n",
            "                                                                 \n",
            " dense_1 (Dense)             (None, 128)               8320      \n",
            "                                                                 \n",
            " dense_2 (Dense)             (None, 36)                4644      \n",
            "                                                                 \n",
            "=================================================================\n",
            "Total params: 138468 (540.89 KB)\n",
            "Trainable params: 138468 (540.89 KB)\n",
            "Non-trainable params: 0 (0.00 Byte)\n",
            "_________________________________________________________________\n"
          ]
        }
      ]
    },
    {
      "cell_type": "code",
      "source": [
        "# Load Image\n",
        "import cv2\n",
        "from google.colab.patches import cv2_imshow\n",
        "\n",
        "# Membaca gambar dengan nama 'b_small.png' menggunakan OpenCV\n",
        "img = cv2.imread('b_small.png')\n",
        "\n",
        "# Menampilkan gambar menggunakan cv2_imshow dari Google Colab\n",
        "cv2_imshow(img)"
      ],
      "metadata": {
        "id": "hbnaTxZK07JW",
        "outputId": "913c635d-76a3-4dd1-95b4-759020c7875c",
        "colab": {
          "base_uri": "https://localhost:8080/",
          "height": 349
        }
      },
      "execution_count": 65,
      "outputs": [
        {
          "output_type": "error",
          "ename": "AttributeError",
          "evalue": "ignored",
          "traceback": [
            "\u001b[0;31m---------------------------------------------------------------------------\u001b[0m",
            "\u001b[0;31mAttributeError\u001b[0m                            Traceback (most recent call last)",
            "\u001b[0;32m<ipython-input-65-0deb9b65cb22>\u001b[0m in \u001b[0;36m<cell line: 9>\u001b[0;34m()\u001b[0m\n\u001b[1;32m      7\u001b[0m \u001b[0;34m\u001b[0m\u001b[0m\n\u001b[1;32m      8\u001b[0m \u001b[0;31m# Menampilkan gambar menggunakan cv2_imshow dari Google Colab\u001b[0m\u001b[0;34m\u001b[0m\u001b[0;34m\u001b[0m\u001b[0m\n\u001b[0;32m----> 9\u001b[0;31m \u001b[0mcv2_imshow\u001b[0m\u001b[0;34m(\u001b[0m\u001b[0mimg\u001b[0m\u001b[0;34m)\u001b[0m\u001b[0;34m\u001b[0m\u001b[0;34m\u001b[0m\u001b[0m\n\u001b[0m",
            "\u001b[0;32m/usr/local/lib/python3.10/dist-packages/google/colab/patches/__init__.py\u001b[0m in \u001b[0;36mcv2_imshow\u001b[0;34m(a)\u001b[0m\n\u001b[1;32m     16\u001b[0m       \u001b[0;34m(\u001b[0m\u001b[0mN\u001b[0m\u001b[0;34m,\u001b[0m \u001b[0mM\u001b[0m\u001b[0;34m,\u001b[0m \u001b[0;36m4\u001b[0m\u001b[0;34m)\u001b[0m \u001b[0;32mis\u001b[0m \u001b[0man\u001b[0m \u001b[0mNxM\u001b[0m \u001b[0mBGRA\u001b[0m \u001b[0mcolor\u001b[0m \u001b[0mimage\u001b[0m\u001b[0;34m.\u001b[0m\u001b[0;34m\u001b[0m\u001b[0;34m\u001b[0m\u001b[0m\n\u001b[1;32m     17\u001b[0m   \"\"\"\n\u001b[0;32m---> 18\u001b[0;31m   \u001b[0ma\u001b[0m \u001b[0;34m=\u001b[0m \u001b[0ma\u001b[0m\u001b[0;34m.\u001b[0m\u001b[0mclip\u001b[0m\u001b[0;34m(\u001b[0m\u001b[0;36m0\u001b[0m\u001b[0;34m,\u001b[0m \u001b[0;36m255\u001b[0m\u001b[0;34m)\u001b[0m\u001b[0;34m.\u001b[0m\u001b[0mastype\u001b[0m\u001b[0;34m(\u001b[0m\u001b[0;34m'uint8'\u001b[0m\u001b[0;34m)\u001b[0m\u001b[0;34m\u001b[0m\u001b[0;34m\u001b[0m\u001b[0m\n\u001b[0m\u001b[1;32m     19\u001b[0m   \u001b[0;31m# cv2 stores colors as BGR; convert to RGB\u001b[0m\u001b[0;34m\u001b[0m\u001b[0;34m\u001b[0m\u001b[0m\n\u001b[1;32m     20\u001b[0m   \u001b[0;32mif\u001b[0m \u001b[0ma\u001b[0m\u001b[0;34m.\u001b[0m\u001b[0mndim\u001b[0m \u001b[0;34m==\u001b[0m \u001b[0;36m3\u001b[0m\u001b[0;34m:\u001b[0m\u001b[0;34m\u001b[0m\u001b[0;34m\u001b[0m\u001b[0m\n",
            "\u001b[0;31mAttributeError\u001b[0m: 'NoneType' object has no attribute 'clip'"
          ]
        }
      ]
    },
    {
      "cell_type": "code",
      "source": [
        "# Check shape dari gambar\n",
        "img.shape"
      ],
      "metadata": {
        "id": "EfDOYN6D1OZ9"
      },
      "execution_count": null,
      "outputs": []
    },
    {
      "cell_type": "code",
      "source": [
        "# Mengonversi gambar ke skala abu-abu (grayscale)\n",
        "gray_img = cv2.cvtColor(img, cv2.COLOR_BGR2GRAY)\n",
        "\n",
        "# Check shape dari gambar grayscale\n",
        "gray_img.shape"
      ],
      "metadata": {
        "id": "7e6w1zaL1RW7"
      },
      "execution_count": null,
      "outputs": []
    },
    {
      "cell_type": "code",
      "source": [
        "# Pre-process\n",
        "# Binary Thresholding menggunakan metode Otsu\n",
        "value, thresh = cv2.threshold(gray_img, 0, 255, cv2.THRESH_BINARY + cv2.THRESH_OTSU)\n",
        "\n",
        "# Menampilkan hasil dari proses Binary Thresholding\n",
        "cv2_imshow(thresh)\n",
        "\n",
        "# Menampilkan nilai threshold yang dihitung oleh metode Otsu\n",
        "print(value)"
      ],
      "metadata": {
        "id": "9_al0IF01c3q"
      },
      "execution_count": null,
      "outputs": []
    },
    {
      "cell_type": "code",
      "source": [
        "# Meresize gambar agar sesuai dengan ukuran input jaringan (28*28)\n",
        "img_resize = cv2.resize(gray_img, (28,28))\n",
        "# Menampilkan gambar yang sudah di-resize\n",
        "cv2_imshow(img_resize)"
      ],
      "metadata": {
        "id": "dmjHswqd1wB5"
      },
      "execution_count": null,
      "outputs": []
    },
    {
      "cell_type": "code",
      "source": [
        "# Convert to float 32\n",
        "# and extend the dimension since network input shape is 28*28*1\n",
        "# Mengonversi gambar menjadi float32 dan melakukan normalisasi\n",
        "img_input = img_resize.astype('float32') / 255 # also perform normalization\n",
        "# Menambahkan dimensi ke gambar agar sesuai dengan input jaringan (28*28*1)\n",
        "img_input = np.expand_dims(img_input, axis=-1) # insert depth\n",
        "\n",
        "# Check shape dari gambar yang akan digunakan sebagai input jaringan\n",
        "img_input.shape"
      ],
      "metadata": {
        "id": "bZStKgUl2Kk_"
      },
      "execution_count": null,
      "outputs": []
    },
    {
      "cell_type": "code",
      "source": [
        "# Menambahkan dimensi \"jumlah data\" sebagai batch untuk input jaringan\n",
        "img_input = np.reshape(img_input, (1,28,28,1))\n",
        "img_input.shape"
      ],
      "metadata": {
        "id": "7Xs7JwKj2lxr"
      },
      "execution_count": null,
      "outputs": []
    },
    {
      "cell_type": "code",
      "source": [
        "# Melakukan prediksi menggunakan model jaringan yang telah dimuat sebelumnya\n",
        "prediction = load_network.predict(img_input)\n",
        "# Mendapatkan label prediksi dari hasil prediksi\n",
        "pred_label = np.argmax(prediction) # predict actual label\n",
        "pred_label"
      ],
      "metadata": {
        "id": "fZLWIWLs2yuX"
      },
      "execution_count": null,
      "outputs": []
    },
    {
      "cell_type": "code",
      "source": [
        "# Mengecek label untuk angka 6\n",
        "name_labels[6]"
      ],
      "metadata": {
        "id": "72Pl04hq3WNz"
      },
      "execution_count": null,
      "outputs": []
    },
    {
      "cell_type": "markdown",
      "source": [
        "# Kesimpulan\n",
        "\n",
        "1. Kinerja Model CNN: Model yang dikembangkan mampu dengan baik dalam mengenali karakter huruf dan angka. Hasil evaluasi pada data uji menunjukkan tingkat akurasi yang tinggi, menandakan kemampuan model dalam menggeneralisasi pada data yang tidak terlibat dalam pelatihan.\n",
        "\n",
        "2. Evaluasi Performa Model: Performa model dievaluasi menggunakan berbagai metrik seperti precision, recall, dan f1-score. Hasil evaluasi menunjukkan kinerja yang memuaskan dan konsisten, menegaskan kemampuan model dalam mengenali karakter dengan tepat dan komprehensif.\n",
        "\n",
        "3. Penggunaan Teknik Augmentasi Data: Penerapan teknik augmentasi data, seperti rotasi, pergeseran, dan zoom, memberikan kontribusi signifikan terhadap peningkatan kualitas model. Dengan memperkenalkan variasi pada dataset, model dapat mengenali karakter dalam situasi yang lebih beragam.\n",
        "\n",
        "4. Penanganan Ketidakseimbangan Kelas: Strategi untuk menangani ketidakseimbangan jumlah sampel antar kelas juga memberikan dampak positif. Dengan memberikan penekanan lebih pada kelas yang kurang representatif, model mampu belajar dengan lebih baik dari kelas yang memiliki sampel yang lebih sedikit.\n",
        "\n",
        "5. Kemampuan untuk Disimpan dan Dimuat Ulang: Model yang telah dilatih dapat disimpan dan dimuat ulang dengan mudah untuk penggunaan di masa mendatang. Kemampuan ini memungkinkan model untuk diterapkan pada berbagai aplikasi pengenalan karakter, seperti dalam pengenalan plat nomor kendaraan, pengenalan tulisan tangan, dan skenario lain yang memerlukan pengenalan karakter dalam citra atau gambar."
      ],
      "metadata": {
        "id": "ip_i0bTX2ouw"
      }
    }
  ]
}