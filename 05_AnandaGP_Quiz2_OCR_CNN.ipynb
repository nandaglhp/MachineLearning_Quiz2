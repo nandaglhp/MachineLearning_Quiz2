{
  "nbformat": 4,
  "nbformat_minor": 0,
  "metadata": {
    "colab": {
      "provenance": [],
      "gpuType": "T4",
      "include_colab_link": true
    },
    "kernelspec": {
      "name": "python3",
      "display_name": "Python 3"
    },
    "language_info": {
      "name": "python"
    },
    "accelerator": "GPU"
  },
  "cells": [
    {
      "cell_type": "markdown",
      "metadata": {
        "id": "view-in-github",
        "colab_type": "text"
      },
      "source": [
        "<a href=\"https://colab.research.google.com/github/nandaglhp/MachineLearning_Quiz2/blob/main/05_AnandaGP_Quiz2_OCR_CNN.ipynb\" target=\"_parent\"><img src=\"https://colab.research.google.com/assets/colab-badge.svg\" alt=\"Open In Colab\"/></a>"
      ]
    },
    {
      "cell_type": "markdown",
      "source": [
        "# Data Diri Mahasiswa\n",
        "\n",
        "Nama: Ananda Galih Pratiwi\n",
        "\n",
        "Kelas: TI-3F\n",
        "\n",
        "Absen: 05\n",
        "\n",
        "NIM: 2141720045"
      ],
      "metadata": {
        "id": "akRDgqiX_Np9"
      }
    },
    {
      "cell_type": "markdown",
      "source": [
        "# Import Library"
      ],
      "metadata": {
        "id": "fLV1Z5_Za3Ni"
      }
    },
    {
      "cell_type": "markdown",
      "source": [
        "Tahap ini melibatkan impor semua pustaka dan modul yang diperlukan untuk pengembangan dan pelatihan model CNN. Pustaka ini digunakan untuk berbagai tujuan seperti pemrosesan gambar, pembuatan model, evaluasi, dan visualisasi, dll."
      ],
      "metadata": {
        "id": "5h1yqtA0ocwP"
      }
    },
    {
      "cell_type": "code",
      "execution_count": null,
      "metadata": {
        "id": "TUhYpAeEarrV"
      },
      "outputs": [],
      "source": [
        "import tensorflow as tf  # Mengimpor library TensorFlow untuk machine learning.\n",
        "import numpy as np  # Mengimpor library NumPy untuk operasi numerik.\n",
        "import pandas as pd  # Mengimpor library Pandas untuk manipulasi data.\n",
        "import matplotlib.pyplot as plt  # Mengimpor library Matplotlib untuk visualisasi data.\n",
        "import seaborn as sns  # Mengimpor library Seaborn untuk visualisasi data statistik.\n",
        "from sklearn.preprocessing import LabelBinarizer  # Mengimpor LabelBinarizer untuk encoding variabel target.\n",
        "from sklearn.model_selection import train_test_split  # Mengimpor train_test_split untuk membagi data menjadi set pelatihan dan pengujian.\n",
        "from sklearn.metrics import classification_report  # Mengimpor classification_report untuk mengevaluasi klasifikasi model.\n",
        "import zipfile  # Mengimpor library zipfile untuk bekerja dengan file zip."
      ]
    },
    {
      "cell_type": "markdown",
      "source": [
        "# Load Dataset"
      ],
      "metadata": {
        "id": "N95oXMaTcnMH"
      }
    },
    {
      "cell_type": "markdown",
      "source": [
        "## Load MNIST"
      ],
      "metadata": {
        "id": "dT8TY908cpCK"
      }
    },
    {
      "cell_type": "markdown",
      "source": [
        "Proses load dataset MNIST akan melibatkan penggunaan pustaka atau fungsi yang tersedia dalam pustaka seperti Keras atau TensorFlow untuk mengambil dataset dari sumbernya dan memuatnya ke dalam lingkungan pengembangan seperti Google Colab."
      ],
      "metadata": {
        "id": "xn1AFP9mpLIm"
      }
    },
    {
      "cell_type": "code",
      "source": [
        "# Mengimpor dataset MNIST dari library TensorFlow Keras\n",
        "from tensorflow.keras.datasets import mnist"
      ],
      "metadata": {
        "id": "OIZx2pkUcfDe"
      },
      "execution_count": null,
      "outputs": []
    },
    {
      "cell_type": "code",
      "source": [
        "# Memuat data latih dan data uji dari dataset MNIST ke dalam variabel\n",
        "# Variabel train_data dan train_labels berisi data gambar dan label-labelnya untuk data latih\n",
        "# Variabel test_data dan test_labels berisi data gambar dan label-labelnya untuk data uji\n",
        "(train_data, train_labels), (test_data, test_labels) = mnist.load_data()"
      ],
      "metadata": {
        "id": "3GLkzBi6czj4",
        "outputId": "a7ea665c-355c-49e7-f3f3-15174870009c",
        "colab": {
          "base_uri": "https://localhost:8080/"
        }
      },
      "execution_count": null,
      "outputs": [
        {
          "output_type": "stream",
          "name": "stdout",
          "text": [
            "Downloading data from https://storage.googleapis.com/tensorflow/tf-keras-datasets/mnist.npz\n",
            "11490434/11490434 [==============================] - 2s 0us/step\n"
          ]
        }
      ]
    },
    {
      "cell_type": "code",
      "source": [
        "# Check shape data\n",
        "(train_data.shape, test_data.shape)"
      ],
      "metadata": {
        "id": "oVQTyPgAc5Zw",
        "outputId": "8a408f1b-7de5-46c1-b84f-bcc63c0ab04a",
        "colab": {
          "base_uri": "https://localhost:8080/"
        }
      },
      "execution_count": null,
      "outputs": [
        {
          "output_type": "execute_result",
          "data": {
            "text/plain": [
              "((60000, 28, 28), (10000, 28, 28))"
            ]
          },
          "metadata": {},
          "execution_count": 14
        }
      ]
    },
    {
      "cell_type": "code",
      "source": [
        "# Check shape labels\n",
        "(train_labels.shape, test_labels.shape)"
      ],
      "metadata": {
        "id": "grUhLPwJc-un",
        "outputId": "3daea0ba-43be-46d0-aa0e-637d1be9809d",
        "colab": {
          "base_uri": "https://localhost:8080/"
        }
      },
      "execution_count": null,
      "outputs": [
        {
          "output_type": "execute_result",
          "data": {
            "text/plain": [
              "((60000,), (10000,))"
            ]
          },
          "metadata": {},
          "execution_count": 15
        }
      ]
    },
    {
      "cell_type": "code",
      "source": [
        "# Check each data shape --> should be 28*28\n",
        "train_data[0].shape"
      ],
      "metadata": {
        "id": "AwsTEu6xdNKX",
        "outputId": "49c4cc47-6756-4a7a-cf49-ab8e07e21321",
        "colab": {
          "base_uri": "https://localhost:8080/"
        }
      },
      "execution_count": null,
      "outputs": [
        {
          "output_type": "execute_result",
          "data": {
            "text/plain": [
              "(28, 28)"
            ]
          },
          "metadata": {},
          "execution_count": 16
        }
      ]
    },
    {
      "cell_type": "code",
      "source": [
        "# Check the label\n",
        "train_labels.shape"
      ],
      "metadata": {
        "id": "KHZesdnBdXKX",
        "outputId": "172a0c5f-b713-4f44-ed99-266f54af70ad",
        "colab": {
          "base_uri": "https://localhost:8080/"
        }
      },
      "execution_count": null,
      "outputs": [
        {
          "output_type": "execute_result",
          "data": {
            "text/plain": [
              "(60000,)"
            ]
          },
          "metadata": {},
          "execution_count": 17
        }
      ]
    },
    {
      "cell_type": "markdown",
      "source": [
        "### Combine Train and Test Data"
      ],
      "metadata": {
        "id": "SYz8IjnOdfsV"
      }
    },
    {
      "cell_type": "markdown",
      "source": [
        "Pada dataset MNIST, terdapat dua set data: data latih (train) dan data uji (test). Kedua set data ini biasanya digunakan terpisah untuk keperluan latihan dan pengujian model.\n",
        "\n",
        "Namun, dalam beberapa kasus, ada kebutuhan untuk menggabungkan kedua set data menjadi satu dataset tunggal. Ini bisa dilakukan dengan tujuan tertentu, seperti untuk menggabungkan data latih dan data uji menjadi satu dataset yang lebih besar untuk pelatihan model yang lebih baik."
      ],
      "metadata": {
        "id": "JsbeZNc9pnzz"
      }
    },
    {
      "cell_type": "code",
      "source": [
        "# Menggabungkan data latih dan data uji dari dataset MNIST ke dalam satu array menggunakan np.vstack\n",
        "# Variabel digits_data akan berisi gabungan dari data gambar dari train_data dan test_data\n",
        "digits_data = np.vstack([train_data, test_data])\n",
        "# Menggabungkan label-label dari data latih dan data uji dari dataset MNIST ke dalam satu array menggunakan np.hstack\n",
        "# Variabel digits_labels akan berisi gabungan dari label-label dari train_labels dan test_labels\n",
        "digits_labels = np.hstack([train_labels, test_labels])"
      ],
      "metadata": {
        "id": "yacSZjdPdbhs"
      },
      "execution_count": null,
      "outputs": []
    },
    {
      "cell_type": "code",
      "source": [
        "# Check data shape\n",
        "digits_data.shape"
      ],
      "metadata": {
        "id": "oRBvQNVUeHZn",
        "outputId": "c6ead34e-080d-4fb5-bfdd-2e0c29d768ee",
        "colab": {
          "base_uri": "https://localhost:8080/"
        }
      },
      "execution_count": null,
      "outputs": [
        {
          "output_type": "execute_result",
          "data": {
            "text/plain": [
              "(70000, 28, 28)"
            ]
          },
          "metadata": {},
          "execution_count": 19
        }
      ]
    },
    {
      "cell_type": "code",
      "source": [
        "# Check label shape\n",
        "digits_labels.shape"
      ],
      "metadata": {
        "id": "MZbUcu0MeLSG",
        "outputId": "6e833d7a-eb80-40e5-d688-a1ec912eb5d9",
        "colab": {
          "base_uri": "https://localhost:8080/"
        }
      },
      "execution_count": null,
      "outputs": [
        {
          "output_type": "execute_result",
          "data": {
            "text/plain": [
              "(70000,)"
            ]
          },
          "metadata": {},
          "execution_count": 20
        }
      ]
    },
    {
      "cell_type": "code",
      "source": [
        "# Randomly checking the data\n",
        "# Menghasilkan indeks acak antara 0 dan jumlah total gambar dalam dataset `digits_data`\n",
        "idx = np.random.randint(0, digits_data.shape[0])\n",
        "# Menampilkan gambar dengan indeks yang dihasilkan secara acak menggunakan plt.imshow()\n",
        "# cmap='gray' digunakan untuk menampilkan gambar dalam skala abu-abu karena dataset MNIST adalah gambar grayscale\n",
        "plt.imshow(digits_data[idx], cmap='gray')\n",
        "# Menampilkan judul plot yang berisi kelas atau label dari gambar yang dipilih secara acak\n",
        "# Menggunakan str() untuk mengonversi label ke dalam string sebelum menambahkannya ke judul plot\n",
        "plt.title('Class: ' + str(digits_labels[idx]))"
      ],
      "metadata": {
        "id": "uqaiC0pGePF-",
        "outputId": "958a81c7-23f4-433e-842e-2af300abb97b",
        "colab": {
          "base_uri": "https://localhost:8080/",
          "height": 469
        }
      },
      "execution_count": null,
      "outputs": [
        {
          "output_type": "execute_result",
          "data": {
            "text/plain": [
              "Text(0.5, 1.0, 'Class: 1')"
            ]
          },
          "metadata": {},
          "execution_count": 21
        },
        {
          "output_type": "display_data",
          "data": {
            "text/plain": [
              "<Figure size 640x480 with 1 Axes>"
            ],
            "image/png": "[encoded data removed]"
          },
          "metadata": {}
        }
      ]
    },
    {
      "cell_type": "code",
      "source": [
        "# Check data distribution\n",
        "# Membuat DataFrame dari label-label (digits_labels) dengan satu kolom bernama 'Labels'\n",
        "df_labels = pd.DataFrame(digits_labels, columns=['Labels'])\n",
        "# Menggunakan Seaborn untuk membuat plot distribusi label menggunakan countplot\n",
        "# x='Labels' menunjukkan bahwa sumbu x akan berisi data dari kolom 'Labels' pada DataFrame\n",
        "sns.countplot(df_labels, x='Labels')"
      ],
      "metadata": {
        "id": "FrLWteorevqd",
        "outputId": "ed190e9f-7afd-4867-bd50-8b8e14b437b1",
        "colab": {
          "base_uri": "https://localhost:8080/",
          "height": 466
        }
      },
      "execution_count": null,
      "outputs": [
        {
          "output_type": "execute_result",
          "data": {
            "text/plain": [
              "<Axes: xlabel='Labels', ylabel='count'>"
            ]
          },
          "metadata": {},
          "execution_count": 22
        },
        {
          "output_type": "display_data",
          "data": {
            "text/plain": [
              "<Figure size 640x480 with 1 Axes>"
            ],
            "image/png": "[encoded data removed]"
          },
          "metadata": {}
        }
      ]
    },
    {
      "cell_type": "markdown",
      "source": [
        "## Load Kaggle A-Z"
      ],
      "metadata": {
        "id": "uqeJT2ytogB_"
      }
    },
    {
      "cell_type": "markdown",
      "source": [
        "Dataset A-Z Handwritten Data adalah dataset yang berisi gambar tulisan tangan dari huruf A sampai Z. Setiap gambar menunjukkan satu huruf. Dataset ini dapat ditemukan di platform seperti Kaggle dan dapat digunakan untuk tugas-tugas pengenalan karakter atau OCR."
      ],
      "metadata": {
        "id": "kS15gxa9qQe1"
      }
    },
    {
      "cell_type": "code",
      "source": [
        "!wget https://iaexpert.academy/arquivos/alfabeto_A-Z.zip"
      ],
      "metadata": {
        "id": "tQ95CkdfjO7P",
        "outputId": "0c81a561-384c-4b9f-a98a-66ab149b9bba",
        "colab": {
          "base_uri": "https://localhost:8080/"
        }
      },
      "execution_count": null,
      "outputs": [
        {
          "output_type": "stream",
          "name": "stdout",
          "text": [
            "--2023-12-04 11:38:49--  https://iaexpert.academy/arquivos/alfabeto_A-Z.zip\n",
            "Resolving iaexpert.academy (iaexpert.academy)... 162.159.134.42\n",
            "Connecting to iaexpert.academy (iaexpert.academy)|162.159.134.42|:443... connected.\n",
            "HTTP request sent, awaiting response... 200 OK\n",
            "Length: 193643888 (185M) [application/zip]\n",
            "Saving to: ‘alfabeto_A-Z.zip’\n",
            "\n",
            "alfabeto_A-Z.zip    100%[===================>] 184.67M   268MB/s    in 0.7s    \n",
            "\n",
            "2023-12-04 11:38:50 (268 MB/s) - ‘alfabeto_A-Z.zip’ saved [193643888/193643888]\n",
            "\n"
          ]
        }
      ]
    },
    {
      "cell_type": "code",
      "source": [
        "# Extract zip file\n",
        "# Membuka file zip dengan mode 'read' (mode='r')\n",
        "zip_object = zipfile.ZipFile(file = 'alfabeto_A-Z.zip', mode = 'r')\n",
        "# Mengekstrak seluruh isi dari file zip ke dalam direktori saat ini (./)\n",
        "zip_object.extractall('./')\n",
        "# Menutup file zip setelah selesai diekstrak\n",
        "zip_object.close()"
      ],
      "metadata": {
        "id": "TobpFNSsojcv"
      },
      "execution_count": null,
      "outputs": []
    },
    {
      "cell_type": "code",
      "source": [
        "# Menghubungkan Google Drive (pada lingkungan Colab)\n",
        "from google.colab import drive\n",
        "drive.mount('/content/drive')"
      ],
      "metadata": {
        "id": "oormdmvLmP-a",
        "outputId": "51016458-b078-4bf7-dca1-b03ea9c3a077",
        "colab": {
          "base_uri": "https://localhost:8080/"
        }
      },
      "execution_count": null,
      "outputs": [
        {
          "output_type": "stream",
          "name": "stdout",
          "text": [
            "Drive already mounted at /content/drive; to attempt to forcibly remount, call drive.mount(\"/content/drive\", force_remount=True).\n"
          ]
        }
      ]
    },
    {
      "cell_type": "code",
      "source": [
        "# Membaca file CSV 'A_Z Handwritten Data.csv' dan menyimpannya ke dalam sebuah DataFrame dengan nama dataset_az\n",
        "# Kemudian, mengonversi tipe data di dalam DataFrame tersebut menjadi float32\n",
        "dataset_az = pd.read_csv('A_Z Handwritten Data.csv').astype('float32')\n",
        "# Menampilkan DataFrame dataset_az yang telah dibaca dan dikonversi tipenya\n",
        "dataset_az"
      ],
      "metadata": {
        "id": "ScBURU_4o5bB",
        "outputId": "8bb7eb35-61e7-4384-b4f9-1475cd200e1f",
        "colab": {
          "base_uri": "https://localhost:8080/",
          "height": 423
        }
      },
      "execution_count": null,
      "outputs": [
        {
          "output_type": "execute_result",
          "data": {
            "text/plain": [
              "           0  0.1  0.2  0.3  0.4  0.5  0.6  0.7  0.8  0.9  ...  0.639  0.640  \\\n",
              "0        0.0  0.0  0.0  0.0  0.0  0.0  0.0  0.0  0.0  0.0  ...    0.0    0.0   \n",
              "1        0.0  0.0  0.0  0.0  0.0  0.0  0.0  0.0  0.0  0.0  ...    0.0    0.0   \n",
              "2        0.0  0.0  0.0  0.0  0.0  0.0  0.0  0.0  0.0  0.0  ...    0.0    0.0   \n",
              "3        0.0  0.0  0.0  0.0  0.0  0.0  0.0  0.0  0.0  0.0  ...    0.0    0.0   \n",
              "4        0.0  0.0  0.0  0.0  0.0  0.0  0.0  0.0  0.0  0.0  ...    0.0    0.0   \n",
              "...      ...  ...  ...  ...  ...  ...  ...  ...  ...  ...  ...    ...    ...   \n",
              "372445  25.0  0.0  0.0  0.0  0.0  0.0  0.0  0.0  0.0  0.0  ...    0.0    0.0   \n",
              "372446  25.0  0.0  0.0  0.0  0.0  0.0  0.0  0.0  0.0  0.0  ...    0.0    0.0   \n",
              "372447  25.0  0.0  0.0  0.0  0.0  0.0  0.0  0.0  0.0  0.0  ...    0.0    0.0   \n",
              "372448  25.0  0.0  0.0  0.0  0.0  0.0  0.0  0.0  0.0  0.0  ...    0.0    0.0   \n",
              "372449  25.0  0.0  0.0  0.0  0.0  0.0  0.0  0.0  0.0  0.0  ...    0.0    0.0   \n",
              "\n",
              "        0.641  0.642  0.643  0.644  0.645  0.646  0.647  0.648  \n",
              "0         0.0    0.0    0.0    0.0    0.0    0.0    0.0    0.0  \n",
              "1         0.0    0.0    0.0    0.0    0.0    0.0    0.0    0.0  \n",
              "2         0.0    0.0    0.0    0.0    0.0    0.0    0.0    0.0  \n",
              "3         0.0    0.0    0.0    0.0    0.0    0.0    0.0    0.0  \n",
              "4         0.0    0.0    0.0    0.0    0.0    0.0    0.0    0.0  \n",
              "...       ...    ...    ...    ...    ...    ...    ...    ...  \n",
              "372445    0.0    0.0    0.0    0.0    0.0    0.0    0.0    0.0  \n",
              "372446    0.0    0.0    0.0    0.0    0.0    0.0    0.0    0.0  \n",
              "372447    0.0    0.0    0.0    0.0    0.0    0.0    0.0    0.0  \n",
              "372448    0.0    0.0    0.0    0.0    0.0    0.0    0.0    0.0  \n",
              "372449    0.0    0.0    0.0    0.0    0.0    0.0    0.0    0.0  \n",
              "\n",
              "[372450 rows x 785 columns]"
            ],
            "text/html": [
              "\n",
              "  <div id=\"df-ec16a6a9-57bf-487a-bd3b-76eae3fc602a\" class=\"colab-df-container\">\n",
              "    <div>\n",
              "<style scoped>\n",
              "    .dataframe tbody tr th:only-of-type {\n",
              "        vertical-align: middle;\n",
              "    }\n",
              "\n",
              "    .dataframe tbody tr th {\n",
              "        vertical-align: top;\n",
              "    }\n",
              "\n",
              "    .dataframe thead th {\n",
              "        text-align: right;\n",
              "    }\n",
              "</style>\n",
              "<table border=\"1\" class=\"dataframe\">\n",
              "  <thead>\n",
              "    <tr style=\"text-align: right;\">\n",
              "      <th></th>\n",
              "      <th>0</th>\n",
              "      <th>0.1</th>\n",
              "      <th>0.2</th>\n",
              "      <th>0.3</th>\n",
              "      <th>0.4</th>\n",
              "      <th>0.5</th>\n",
              "      <th>0.6</th>\n",
              "      <th>0.7</th>\n",
              "      <th>0.8</th>\n",
              "      <th>0.9</th>\n",
              "      <th>...</th>\n",
              "      <th>0.639</th>\n",
              "      <th>0.640</th>\n",
              "      <th>0.641</th>\n",
              "      <th>0.642</th>\n",
              "      <th>0.643</th>\n",
              "      <th>0.644</th>\n",
              "      <th>0.645</th>\n",
              "      <th>0.646</th>\n",
              "      <th>0.647</th>\n",
              "      <th>0.648</th>\n",
              "    </tr>\n",
              "  </thead>\n",
              "  <tbody>\n",
              "    <tr>\n",
              "      <th>0</th>\n",
              "      <td>0.0</td>\n",
              "      <td>0.0</td>\n",
              "      <td>0.0</td>\n",
              "      <td>0.0</td>\n",
              "      <td>0.0</td>\n",
              "      <td>0.0</td>\n",
              "      <td>0.0</td>\n",
              "      <td>0.0</td>\n",
              "      <td>0.0</td>\n",
              "      <td>0.0</td>\n",
              "      <td>...</td>\n",
              "      <td>0.0</td>\n",
              "      <td>0.0</td>\n",
              "      <td>0.0</td>\n",
              "      <td>0.0</td>\n",
              "      <td>0.0</td>\n",
              "      <td>0.0</td>\n",
              "      <td>0.0</td>\n",
              "      <td>0.0</td>\n",
              "      <td>0.0</td>\n",
              "      <td>0.0</td>\n",
              "    </tr>\n",
              "    <tr>\n",
              "      <th>1</th>\n",
              "      <td>0.0</td>\n",
              "      <td>0.0</td>\n",
              "      <td>0.0</td>\n",
              "      <td>0.0</td>\n",
              "      <td>0.0</td>\n",
              "      <td>0.0</td>\n",
              "      <td>0.0</td>\n",
              "      <td>0.0</td>\n",
              "      <td>0.0</td>\n",
              "      <td>0.0</td>\n",
              "      <td>...</td>\n",
              "      <td>0.0</td>\n",
              "      <td>0.0</td>\n",
              "      <td>0.0</td>\n",
              "      <td>0.0</td>\n",
              "      <td>0.0</td>\n",
              "      <td>0.0</td>\n",
              "      <td>0.0</td>\n",
              "      <td>0.0</td>\n",
              "      <td>0.0</td>\n",
              "      <td>0.0</td>\n",
              "    </tr>\n",
              "    <tr>\n",
              "      <th>2</th>\n",
              "      <td>0.0</td>\n",
              "      <td>0.0</td>\n",
              "      <td>0.0</td>\n",
              "      <td>0.0</td>\n",
              "      <td>0.0</td>\n",
              "      <td>0.0</td>\n",
              "      <td>0.0</td>\n",
              "      <td>0.0</td>\n",
              "      <td>0.0</td>\n",
              "      <td>0.0</td>\n",
              "      <td>...</td>\n",
              "      <td>0.0</td>\n",
              "      <td>0.0</td>\n",
              "      <td>0.0</td>\n",
              "      <td>0.0</td>\n",
              "      <td>0.0</td>\n",
              "      <td>0.0</td>\n",
              "      <td>0.0</td>\n",
              "      <td>0.0</td>\n",
              "      <td>0.0</td>\n",
              "      <td>0.0</td>\n",
              "    </tr>\n",
              "    <tr>\n",
              "      <th>3</th>\n",
              "      <td>0.0</td>\n",
              "      <td>0.0</td>\n",
              "      <td>0.0</td>\n",
              "      <td>0.0</td>\n",
              "      <td>0.0</td>\n",
              "      <td>0.0</td>\n",
              "      <td>0.0</td>\n",
              "      <td>0.0</td>\n",
              "      <td>0.0</td>\n",
              "      <td>0.0</td>\n",
              "      <td>...</td>\n",
              "      <td>0.0</td>\n",
              "      <td>0.0</td>\n",
              "      <td>0.0</td>\n",
              "      <td>0.0</td>\n",
              "      <td>0.0</td>\n",
              "      <td>0.0</td>\n",
              "      <td>0.0</td>\n",
              "      <td>0.0</td>\n",
              "      <td>0.0</td>\n",
              "      <td>0.0</td>\n",
              "    </tr>\n",
              "    <tr>\n",
              "      <th>4</th>\n",
              "      <td>0.0</td>\n",
              "      <td>0.0</td>\n",
              "      <td>0.0</td>\n",
              "      <td>0.0</td>\n",
              "      <td>0.0</td>\n",
              "      <td>0.0</td>\n",
              "      <td>0.0</td>\n",
              "      <td>0.0</td>\n",
              "      <td>0.0</td>\n",
              "      <td>0.0</td>\n",
              "      <td>...</td>\n",
              "      <td>0.0</td>\n",
              "      <td>0.0</td>\n",
              "      <td>0.0</td>\n",
              "      <td>0.0</td>\n",
              "      <td>0.0</td>\n",
              "      <td>0.0</td>\n",
              "      <td>0.0</td>\n",
              "      <td>0.0</td>\n",
              "      <td>0.0</td>\n",
              "      <td>0.0</td>\n",
              "    </tr>\n",
              "    <tr>\n",
              "      <th>...</th>\n",
              "      <td>...</td>\n",
              "      <td>...</td>\n",
              "      <td>...</td>\n",
              "      <td>...</td>\n",
              "      <td>...</td>\n",
              "      <td>...</td>\n",
              "      <td>...</td>\n",
              "      <td>...</td>\n",
              "      <td>...</td>\n",
              "      <td>...</td>\n",
              "      <td>...</td>\n",
              "      <td>...</td>\n",
              "      <td>...</td>\n",
              "      <td>...</td>\n",
              "      <td>...</td>\n",
              "      <td>...</td>\n",
              "      <td>...</td>\n",
              "      <td>...</td>\n",
              "      <td>...</td>\n",
              "      <td>...</td>\n",
              "      <td>...</td>\n",
              "    </tr>\n",
              "    <tr>\n",
              "      <th>372445</th>\n",
              "      <td>25.0</td>\n",
              "      <td>0.0</td>\n",
              "      <td>0.0</td>\n",
              "      <td>0.0</td>\n",
              "      <td>0.0</td>\n",
              "      <td>0.0</td>\n",
              "      <td>0.0</td>\n",
              "      <td>0.0</td>\n",
              "      <td>0.0</td>\n",
              "      <td>0.0</td>\n",
              "      <td>...</td>\n",
              "      <td>0.0</td>\n",
              "      <td>0.0</td>\n",
              "      <td>0.0</td>\n",
              "      <td>0.0</td>\n",
              "      <td>0.0</td>\n",
              "      <td>0.0</td>\n",
              "      <td>0.0</td>\n",
              "      <td>0.0</td>\n",
              "      <td>0.0</td>\n",
              "      <td>0.0</td>\n",
              "    </tr>\n",
              "    <tr>\n",
              "      <th>372446</th>\n",
              "      <td>25.0</td>\n",
              "      <td>0.0</td>\n",
              "      <td>0.0</td>\n",
              "      <td>0.0</td>\n",
              "      <td>0.0</td>\n",
              "      <td>0.0</td>\n",
              "      <td>0.0</td>\n",
              "      <td>0.0</td>\n",
              "      <td>0.0</td>\n",
              "      <td>0.0</td>\n",
              "      <td>...</td>\n",
              "      <td>0.0</td>\n",
              "      <td>0.0</td>\n",
              "      <td>0.0</td>\n",
              "      <td>0.0</td>\n",
              "      <td>0.0</td>\n",
              "      <td>0.0</td>\n",
              "      <td>0.0</td>\n",
              "      <td>0.0</td>\n",
              "      <td>0.0</td>\n",
              "      <td>0.0</td>\n",
              "    </tr>\n",
              "    <tr>\n",
              "      <th>372447</th>\n",
              "      <td>25.0</td>\n",
              "      <td>0.0</td>\n",
              "      <td>0.0</td>\n",
              "      <td>0.0</td>\n",
              "      <td>0.0</td>\n",
              "      <td>0.0</td>\n",
              "      <td>0.0</td>\n",
              "      <td>0.0</td>\n",
              "      <td>0.0</td>\n",
              "      <td>0.0</td>\n",
              "      <td>...</td>\n",
              "      <td>0.0</td>\n",
              "      <td>0.0</td>\n",
              "      <td>0.0</td>\n",
              "      <td>0.0</td>\n",
              "      <td>0.0</td>\n",
              "      <td>0.0</td>\n",
              "      <td>0.0</td>\n",
              "      <td>0.0</td>\n",
              "      <td>0.0</td>\n",
              "      <td>0.0</td>\n",
              "    </tr>\n",
              "    <tr>\n",
              "      <th>372448</th>\n",
              "      <td>25.0</td>\n",
              "      <td>0.0</td>\n",
              "      <td>0.0</td>\n",
              "      <td>0.0</td>\n",
              "      <td>0.0</td>\n",
              "      <td>0.0</td>\n",
              "      <td>0.0</td>\n",
              "      <td>0.0</td>\n",
              "      <td>0.0</td>\n",
              "      <td>0.0</td>\n",
              "      <td>...</td>\n",
              "      <td>0.0</td>\n",
              "      <td>0.0</td>\n",
              "      <td>0.0</td>\n",
              "      <td>0.0</td>\n",
              "      <td>0.0</td>\n",
              "      <td>0.0</td>\n",
              "      <td>0.0</td>\n",
              "      <td>0.0</td>\n",
              "      <td>0.0</td>\n",
              "      <td>0.0</td>\n",
              "    </tr>\n",
              "    <tr>\n",
              "      <th>372449</th>\n",
              "      <td>25.0</td>\n",
              "      <td>0.0</td>\n",
              "      <td>0.0</td>\n",
              "      <td>0.0</td>\n",
              "      <td>0.0</td>\n",
              "      <td>0.0</td>\n",
              "      <td>0.0</td>\n",
              "      <td>0.0</td>\n",
              "      <td>0.0</td>\n",
              "      <td>0.0</td>\n",
              "      <td>...</td>\n",
              "      <td>0.0</td>\n",
              "      <td>0.0</td>\n",
              "      <td>0.0</td>\n",
              "      <td>0.0</td>\n",
              "      <td>0.0</td>\n",
              "      <td>0.0</td>\n",
              "      <td>0.0</td>\n",
              "      <td>0.0</td>\n",
              "      <td>0.0</td>\n",
              "      <td>0.0</td>\n",
              "    </tr>\n",
              "  </tbody>\n",
              "</table>\n",
              "<p>372450 rows × 785 columns</p>\n",
              "</div>\n",
              "    <div class=\"colab-df-buttons\">\n",
              "\n",
              "  <div class=\"colab-df-container\">\n",
              "    <button class=\"colab-df-convert\" onclick=\"convertToInteractive('df-ec16a6a9-57bf-487a-bd3b-76eae3fc602a')\"\n",
              "            title=\"Convert this dataframe to an interactive table.\"\n",
              "            style=\"display:none;\">\n",
              "\n",
              "  <svg xmlns=\"http://www.w3.org/2000/svg\" height=\"24px\" viewBox=\"0 -960 960 960\">\n",
              "    <path d=\"M120-120v-720h720v720H120Zm60-500h600v-160H180v160Zm220 220h160v-160H400v160Zm0 220h160v-160H400v160ZM180-400h160v-160H180v160Zm440 0h160v-160H620v160ZM180-180h160v-160H180v160Zm440 0h160v-160H620v160Z\"/>\n",
              "  </svg>\n",
              "    </button>\n",
              "\n",
              "  <style>\n",
              "    .colab-df-container {\n",
              "      display:flex;\n",
              "      gap: 12px;\n",
              "    }\n",
              "\n",
              "    .colab-df-convert {\n",
              "      background-color: #E8F0FE;\n",
              "      border: none;\n",
              "      border-radius: 50%;\n",
              "      cursor: pointer;\n",
              "      display: none;\n",
              "      fill: #1967D2;\n",
              "      height: 32px;\n",
              "      padding: 0 0 0 0;\n",
              "      width: 32px;\n",
              "    }\n",
              "\n",
              "    .colab-df-convert:hover {\n",
              "      background-color: #E2EBFA;\n",
              "      box-shadow: 0px 1px 2px rgba(60, 64, 67, 0.3), 0px 1px 3px 1px rgba(60, 64, 67, 0.15);\n",
              "      fill: #174EA6;\n",
              "    }\n",
              "\n",
              "    .colab-df-buttons div {\n",
              "      margin-bottom: 4px;\n",
              "    }\n",
              "\n",
              "    [theme=dark] .colab-df-convert {\n",
              "      background-color: #3B4455;\n",
              "      fill: #D2E3FC;\n",
              "    }\n",
              "\n",
              "    [theme=dark] .colab-df-convert:hover {\n",
              "      background-color: #434B5C;\n",
              "      box-shadow: 0px 1px 3px 1px rgba(0, 0, 0, 0.15);\n",
              "      filter: drop-shadow(0px 1px 2px rgba(0, 0, 0, 0.3));\n",
              "      fill: #FFFFFF;\n",
              "    }\n",
              "  </style>\n",
              "\n",
              "    <script>\n",
              "      const buttonEl =\n",
              "        document.querySelector('#df-ec16a6a9-57bf-487a-bd3b-76eae3fc602a button.colab-df-convert');\n",
              "      buttonEl.style.display =\n",
              "        google.colab.kernel.accessAllowed ? 'block' : 'none';\n",
              "\n",
              "      async function convertToInteractive(key) {\n",
              "        const element = document.querySelector('#df-ec16a6a9-57bf-487a-bd3b-76eae3fc602a');\n",
              "        const dataTable =\n",
              "          await google.colab.kernel.invokeFunction('convertToInteractive',\n",
              "                                                    [key], {});\n",
              "        if (!dataTable) return;\n",
              "\n",
              "        const docLinkHtml = 'Like what you see? Visit the ' +\n",
              "          '<a target=\"_blank\" href=https://colab.research.google.com/notebooks/data_table.ipynb>data table notebook</a>'\n",
              "          + ' to learn more about interactive tables.';\n",
              "        element.innerHTML = '';\n",
              "        dataTable['output_type'] = 'display_data';\n",
              "        await google.colab.output.renderOutput(dataTable, element);\n",
              "        const docLink = document.createElement('div');\n",
              "        docLink.innerHTML = docLinkHtml;\n",
              "        element.appendChild(docLink);\n",
              "      }\n",
              "    </script>\n",
              "  </div>\n",
              "\n",
              "\n",
              "<div id=\"df-d6ce3c31-9cd5-452a-8bfd-bd0a769ffdbe\">\n",
              "  <button class=\"colab-df-quickchart\" onclick=\"quickchart('df-d6ce3c31-9cd5-452a-8bfd-bd0a769ffdbe')\"\n",
              "            title=\"Suggest charts\"\n",
              "            style=\"display:none;\">\n",
              "\n",
              "<svg xmlns=\"http://www.w3.org/2000/svg\" height=\"24px\"viewBox=\"0 0 24 24\"\n",
              "     width=\"24px\">\n",
              "    <g>\n",
              "        <path d=\"M19 3H5c-1.1 0-2 .9-2 2v14c0 1.1.9 2 2 2h14c1.1 0 2-.9 2-2V5c0-1.1-.9-2-2-2zM9 17H7v-7h2v7zm4 0h-2V7h2v10zm4 0h-2v-4h2v4z\"/>\n",
              "    </g>\n",
              "</svg>\n",
              "  </button>\n",
              "\n",
              "<style>\n",
              "  .colab-df-quickchart {\n",
              "      --bg-color: #E8F0FE;\n",
              "      --fill-color: #1967D2;\n",
              "      --hover-bg-color: #E2EBFA;\n",
              "      --hover-fill-color: #174EA6;\n",
              "      --disabled-fill-color: #AAA;\n",
              "      --disabled-bg-color: #DDD;\n",
              "  }\n",
              "\n",
              "  [theme=dark] .colab-df-quickchart {\n",
              "      --bg-color: #3B4455;\n",
              "      --fill-color: #D2E3FC;\n",
              "      --hover-bg-color: #434B5C;\n",
              "      --hover-fill-color: #FFFFFF;\n",
              "      --disabled-bg-color: #3B4455;\n",
              "      --disabled-fill-color: #666;\n",
              "  }\n",
              "\n",
              "  .colab-df-quickchart {\n",
              "    background-color: var(--bg-color);\n",
              "    border: none;\n",
              "    border-radius: 50%;\n",
              "    cursor: pointer;\n",
              "    display: none;\n",
              "    fill: var(--fill-color);\n",
              "    height: 32px;\n",
              "    padding: 0;\n",
              "    width: 32px;\n",
              "  }\n",
              "\n",
              "  .colab-df-quickchart:hover {\n",
              "    background-color: var(--hover-bg-color);\n",
              "    box-shadow: 0 1px 2px rgba(60, 64, 67, 0.3), 0 1px 3px 1px rgba(60, 64, 67, 0.15);\n",
              "    fill: var(--button-hover-fill-color);\n",
              "  }\n",
              "\n",
              "  .colab-df-quickchart-complete:disabled,\n",
              "  .colab-df-quickchart-complete:disabled:hover {\n",
              "    background-color: var(--disabled-bg-color);\n",
              "    fill: var(--disabled-fill-color);\n",
              "    box-shadow: none;\n",
              "  }\n",
              "\n",
              "  .colab-df-spinner {\n",
              "    border: 2px solid var(--fill-color);\n",
              "    border-color: transparent;\n",
              "    border-bottom-color: var(--fill-color);\n",
              "    animation:\n",
              "      spin 1s steps(1) infinite;\n",
              "  }\n",
              "\n",
              "  @keyframes spin {\n",
              "    0% {\n",
              "      border-color: transparent;\n",
              "      border-bottom-color: var(--fill-color);\n",
              "      border-left-color: var(--fill-color);\n",
              "    }\n",
              "    20% {\n",
              "      border-color: transparent;\n",
              "      border-left-color: var(--fill-color);\n",
              "      border-top-color: var(--fill-color);\n",
              "    }\n",
              "    30% {\n",
              "      border-color: transparent;\n",
              "      border-left-color: var(--fill-color);\n",
              "      border-top-color: var(--fill-color);\n",
              "      border-right-color: var(--fill-color);\n",
              "    }\n",
              "    40% {\n",
              "      border-color: transparent;\n",
              "      border-right-color: var(--fill-color);\n",
              "      border-top-color: var(--fill-color);\n",
              "    }\n",
              "    60% {\n",
              "      border-color: transparent;\n",
              "      border-right-color: var(--fill-color);\n",
              "    }\n",
              "    80% {\n",
              "      border-color: transparent;\n",
              "      border-right-color: var(--fill-color);\n",
              "      border-bottom-color: var(--fill-color);\n",
              "    }\n",
              "    90% {\n",
              "      border-color: transparent;\n",
              "      border-bottom-color: var(--fill-color);\n",
              "    }\n",
              "  }\n",
              "</style>\n",
              "\n",
              "  <script>\n",
              "    async function quickchart(key) {\n",
              "      const quickchartButtonEl =\n",
              "        document.querySelector('#' + key + ' button');\n",
              "      quickchartButtonEl.disabled = true;  // To prevent multiple clicks.\n",
              "      quickchartButtonEl.classList.add('colab-df-spinner');\n",
              "      try {\n",
              "        const charts = await google.colab.kernel.invokeFunction(\n",
              "            'suggestCharts', [key], {});\n",
              "      } catch (error) {\n",
              "        console.error('Error during call to suggestCharts:', error);\n",
              "      }\n",
              "      quickchartButtonEl.classList.remove('colab-df-spinner');\n",
              "      quickchartButtonEl.classList.add('colab-df-quickchart-complete');\n",
              "    }\n",
              "    (() => {\n",
              "      let quickchartButtonEl =\n",
              "        document.querySelector('#df-d6ce3c31-9cd5-452a-8bfd-bd0a769ffdbe button');\n",
              "      quickchartButtonEl.style.display =\n",
              "        google.colab.kernel.accessAllowed ? 'block' : 'none';\n",
              "    })();\n",
              "  </script>\n",
              "</div>\n",
              "    </div>\n",
              "  </div>\n"
            ]
          },
          "metadata": {},
          "execution_count": 26
        }
      ]
    },
    {
      "cell_type": "code",
      "source": [
        "# Get pixel data only\n",
        "alphabet_data = dataset_az.drop('0', axis=1)\n",
        "# Get labels only\n",
        "alphabet_labels = dataset_az['0']"
      ],
      "metadata": {
        "id": "dK6pP0b-o81T"
      },
      "execution_count": null,
      "outputs": []
    },
    {
      "cell_type": "code",
      "source": [
        "# Check shape data\n",
        "alphabet_data.shape, alphabet_labels.shape"
      ],
      "metadata": {
        "id": "NllEoaiLpZhI",
        "outputId": "75f4a06f-6de6-4e65-efd7-e4f04b8ca352",
        "colab": {
          "base_uri": "https://localhost:8080/"
        }
      },
      "execution_count": null,
      "outputs": [
        {
          "output_type": "execute_result",
          "data": {
            "text/plain": [
              "((372450, 784), (372450,))"
            ]
          },
          "metadata": {},
          "execution_count": 28
        }
      ]
    },
    {
      "cell_type": "code",
      "source": [
        "# Check shape labels\n",
        "alphabet_labels.shape"
      ],
      "metadata": {
        "id": "UvE88zSkpe5e",
        "outputId": "5909d48d-851b-40bb-ccd4-69a229b0eff9",
        "colab": {
          "base_uri": "https://localhost:8080/"
        }
      },
      "execution_count": null,
      "outputs": [
        {
          "output_type": "execute_result",
          "data": {
            "text/plain": [
              "(372450,)"
            ]
          },
          "metadata": {},
          "execution_count": 29
        }
      ]
    },
    {
      "cell_type": "code",
      "source": [
        "# Reshape pixel data to 28*28\n",
        "alphabet_data = np.reshape(alphabet_data.values, (alphabet_data.shape[0], 28, 28))\n",
        "# Check the result by its shape\n",
        "alphabet_data.shape"
      ],
      "metadata": {
        "id": "9xps-5kjpio_",
        "outputId": "d51b42dd-84ee-4b46-a4ee-31474bcd7af5",
        "colab": {
          "base_uri": "https://localhost:8080/"
        }
      },
      "execution_count": null,
      "outputs": [
        {
          "output_type": "execute_result",
          "data": {
            "text/plain": [
              "(372450, 28, 28)"
            ]
          },
          "metadata": {},
          "execution_count": 30
        }
      ]
    },
    {
      "cell_type": "code",
      "source": [
        "# Randomly checking A-Z dataset\n",
        "index = np.random.randint(0, alphabet_data.shape[0])\n",
        "plt.imshow(alphabet_data[index], cmap = 'gray')\n",
        "plt.title('Class: ' + str(alphabet_labels[index]));"
      ],
      "metadata": {
        "id": "tDTBbWSoqloX",
        "outputId": "0ea6060c-4d24-4c04-bc9e-858c9b8ee020",
        "colab": {
          "base_uri": "https://localhost:8080/",
          "height": 452
        }
      },
      "execution_count": null,
      "outputs": [
        {
          "output_type": "display_data",
          "data": {
            "text/plain": [
              "<Figure size 640x480 with 1 Axes>"
            ],
            "image/png": "[encoded data removed]"
          },
          "metadata": {}
        }
      ]
    },
    {
      "cell_type": "code",
      "source": [
        "# Check data distribution\n",
        "# Membuat DataFrame dari label-label (alphabet_labels) dengan satu kolom bernama 'Labels'\n",
        "df_az_labels = pd.DataFrame({\n",
        "    'Labels': alphabet_labels.values\n",
        "})\n",
        "# Menggunakan Seaborn untuk membuat plot distribusi label menggunakan countplot\n",
        "# x='Labels' menunjukkan bahwa sumbu x akan berisi data dari kolom 'Labels' pada DataFrame\n",
        "sns.countplot(df_az_labels, x='Labels')"
      ],
      "metadata": {
        "id": "72frSp_uqrjm",
        "outputId": "35e8c29a-9aec-4b2b-f4e7-be57ecd6a01b",
        "colab": {
          "base_uri": "https://localhost:8080/",
          "height": 468
        }
      },
      "execution_count": null,
      "outputs": [
        {
          "output_type": "execute_result",
          "data": {
            "text/plain": [
              "<Axes: xlabel='Labels', ylabel='count'>"
            ]
          },
          "metadata": {},
          "execution_count": 32
        },
        {
          "output_type": "display_data",
          "data": {
            "text/plain": [
              "<Figure size 640x480 with 1 Axes>"
            ],
            "image/png": "[encoded data removed]"
          },
          "metadata": {}
        }
      ]
    },
    {
      "cell_type": "markdown",
      "source": [
        "## Combine Dataset (MNIST + Kaggel A-Z)"
      ],
      "metadata": {
        "id": "YZf14K79sdEC"
      }
    },
    {
      "cell_type": "markdown",
      "source": [
        "Langkah ini melibatkan penggabungan dataset MNIST (digit tulisan tangan) dan dataset Kaggle A-Z (huruf tulisan tangan) menjadi satu dataset yang lebih besar dan beragam. Tujuannya adalah untuk melatih model yang lebih kuat dan beragam dengan menyatukan informasi dari dua dataset yang berbeda."
      ],
      "metadata": {
        "id": "EO2rEo2mqjID"
      }
    },
    {
      "cell_type": "code",
      "source": [
        "# Check unique value from digits_labels (cek nilai unik dari digits_labels)\n",
        "np.unique(digits_labels)"
      ],
      "metadata": {
        "id": "9voZzZ8Krqk4",
        "outputId": "d5102803-b491-4a4d-b645-586d74e3e35d",
        "colab": {
          "base_uri": "https://localhost:8080/"
        }
      },
      "execution_count": null,
      "outputs": [
        {
          "output_type": "execute_result",
          "data": {
            "text/plain": [
              "array([0, 1, 2, 3, 4, 5, 6, 7, 8, 9], dtype=uint8)"
            ]
          },
          "metadata": {},
          "execution_count": 33
        }
      ]
    },
    {
      "cell_type": "code",
      "source": [
        "# Check unique value from alphabet_labels (cek nilai unik dari alphabet_labels)\n",
        "np.unique(alphabet_labels)"
      ],
      "metadata": {
        "id": "9ZzBJFKxs1AF",
        "outputId": "4c1714a8-b4fa-46d4-c116-b21c06130579",
        "colab": {
          "base_uri": "https://localhost:8080/"
        }
      },
      "execution_count": null,
      "outputs": [
        {
          "output_type": "execute_result",
          "data": {
            "text/plain": [
              "array([ 0.,  1.,  2.,  3.,  4.,  5.,  6.,  7.,  8.,  9., 10., 11., 12.,\n",
              "       13., 14., 15., 16., 17., 18., 19., 20., 21., 22., 23., 24., 25.],\n",
              "      dtype=float32)"
            ]
          },
          "metadata": {},
          "execution_count": 34
        }
      ]
    },
    {
      "cell_type": "code",
      "source": [
        "# We already know that digits labels containt labels from 0-9 (10 labels)\n",
        "# We also know that alphabet labels start from 0-25 which represent A-Z\n",
        "# If we want to combine them, the A-Z labels should continuing the digits label\n",
        "\n",
        "alphabet_labels += 10 # Menambahkan 10 ke setiap label pada alphabet_labels\n",
        "# untuk melanjutkan dari 10 ke atas (untuk A-Z)"
      ],
      "metadata": {
        "id": "dM0GV8lIsnzf"
      },
      "execution_count": null,
      "outputs": []
    },
    {
      "cell_type": "code",
      "source": [
        "# cek kembali nilai unik dari alphabet_labels\n",
        "np.unique(alphabet_labels)"
      ],
      "metadata": {
        "id": "42YKtJB-tQC6",
        "outputId": "85af8e9a-6573-4eb5-ab10-124bceb5f934",
        "colab": {
          "base_uri": "https://localhost:8080/"
        }
      },
      "execution_count": null,
      "outputs": [
        {
          "output_type": "execute_result",
          "data": {
            "text/plain": [
              "array([10., 11., 12., 13., 14., 15., 16., 17., 18., 19., 20., 21., 22.,\n",
              "       23., 24., 25., 26., 27., 28., 29., 30., 31., 32., 33., 34., 35.],\n",
              "      dtype=float32)"
            ]
          },
          "metadata": {},
          "execution_count": 36
        }
      ]
    },
    {
      "cell_type": "code",
      "source": [
        "# Menggabungkan kedua dataset (alphabet_data dan digits_data)\n",
        "data = np.vstack([alphabet_data, digits_data])\n",
        "labels = np.hstack([alphabet_labels, digits_labels])"
      ],
      "metadata": {
        "id": "1ydXPXiItVVS"
      },
      "execution_count": null,
      "outputs": []
    },
    {
      "cell_type": "code",
      "source": [
        "# Cek bentuk dari data yang telah digabungkan\n",
        "data.shape, labels.shape"
      ],
      "metadata": {
        "id": "-vYLoXFjuLz7",
        "outputId": "747f250a-a2a6-4265-8e78-6607ea34fde2",
        "colab": {
          "base_uri": "https://localhost:8080/"
        }
      },
      "execution_count": null,
      "outputs": [
        {
          "output_type": "execute_result",
          "data": {
            "text/plain": [
              "((442450, 28, 28), (442450,))"
            ]
          },
          "metadata": {},
          "execution_count": 38
        }
      ]
    },
    {
      "cell_type": "code",
      "source": [
        "# Cek nilai-nilai yang unik dari labels yang baru digabungkan\n",
        "np.unique(labels)"
      ],
      "metadata": {
        "id": "biyM6WueuRG6",
        "outputId": "43bac549-d9d8-423f-8153-4742ba74a332",
        "colab": {
          "base_uri": "https://localhost:8080/"
        }
      },
      "execution_count": null,
      "outputs": [
        {
          "output_type": "execute_result",
          "data": {
            "text/plain": [
              "array([ 0.,  1.,  2.,  3.,  4.,  5.,  6.,  7.,  8.,  9., 10., 11., 12.,\n",
              "       13., 14., 15., 16., 17., 18., 19., 20., 21., 22., 23., 24., 25.,\n",
              "       26., 27., 28., 29., 30., 31., 32., 33., 34., 35.], dtype=float32)"
            ]
          },
          "metadata": {},
          "execution_count": 39
        }
      ]
    },
    {
      "cell_type": "code",
      "source": [
        "# Mengonversi data menjadi float32\n",
        "data = np.array(data, dtype = 'float32')"
      ],
      "metadata": {
        "id": "vuEt24lhuVfy"
      },
      "execution_count": null,
      "outputs": []
    },
    {
      "cell_type": "code",
      "source": [
        "# Since Convolutional need 3d data (including depth)\n",
        "# and our images only in 2d data (because in grayscale format)\n",
        "# we need to add \"the depth\" to the data\n",
        "data = np.expand_dims(data, axis=-1)\n",
        "\n",
        "# Cek bentuk dari data setelah ditambah dimensi kedalaman\n",
        "data.shape"
      ],
      "metadata": {
        "id": "UC6Vhz59ucdR",
        "outputId": "31e90c31-b05b-49f5-e941-449b92db7f0f",
        "colab": {
          "base_uri": "https://localhost:8080/"
        }
      },
      "execution_count": null,
      "outputs": [
        {
          "output_type": "execute_result",
          "data": {
            "text/plain": [
              "(442450, 28, 28, 1)"
            ]
          },
          "metadata": {},
          "execution_count": 41
        }
      ]
    },
    {
      "cell_type": "markdown",
      "source": [
        "# Preprocessing"
      ],
      "metadata": {
        "id": "xF71lXtSu3YE"
      }
    },
    {
      "cell_type": "markdown",
      "source": [
        "Langkah ini termasuk berbagai teknik untuk mempersiapkan data sebelum dimasukkan ke dalam model."
      ],
      "metadata": {
        "id": "LgXWFSWksGII"
      }
    },
    {
      "cell_type": "code",
      "source": [
        "# Normalisasi data\n",
        "# Membagi setiap nilai dalam variabel data dengan 255.0.\n",
        "data /= 255.0"
      ],
      "metadata": {
        "id": "kFjjP_JLuzbm"
      },
      "execution_count": null,
      "outputs": []
    },
    {
      "cell_type": "code",
      "source": [
        "# Check range value of data\n",
        "# mengecek rentang nilai dari elemen-elemen pada indeks pertama dari variabel 'data'.\n",
        "data[0].min(), data[0].max()"
      ],
      "metadata": {
        "id": "zztStKZOu-Dy",
        "outputId": "8791bd0a-e417-4e79-fef8-d4bc7a866506",
        "colab": {
          "base_uri": "https://localhost:8080/"
        }
      },
      "execution_count": null,
      "outputs": [
        {
          "output_type": "execute_result",
          "data": {
            "text/plain": [
              "(0.0, 1.0)"
            ]
          },
          "metadata": {},
          "execution_count": 43
        }
      ]
    },
    {
      "cell_type": "code",
      "source": [
        "# Enconde the labels\n",
        "# LabelBinarizer similar with OneHotEncoder\n",
        "# menggunakan LabelBinarizer untuk mengkodekan label-label dalam variabel 'labels'\n",
        "# menjadi bentuk biner. LabelBinarizer digunakan untuk mengubah label kategori menjadi representasi biner.\n",
        "le = LabelBinarizer()\n",
        "labels = le.fit_transform(labels)"
      ],
      "metadata": {
        "id": "s2C5yKEGu7vt"
      },
      "execution_count": null,
      "outputs": []
    },
    {
      "cell_type": "code",
      "source": [
        "# Check labels shape\n",
        "# menampilkan bentuk (shape) dari variabel 'labels' setelah dilakukan proses\n",
        "# transformasi dengan LabelBinarizer.\n",
        "labels.shape"
      ],
      "metadata": {
        "id": "Bo1M5YEmvg5x",
        "outputId": "ed784ba8-8ef9-4509-d802-13c151ad0978",
        "colab": {
          "base_uri": "https://localhost:8080/"
        }
      },
      "execution_count": null,
      "outputs": [
        {
          "output_type": "execute_result",
          "data": {
            "text/plain": [
              "(442450, 36)"
            ]
          },
          "metadata": {},
          "execution_count": 45
        }
      ]
    },
    {
      "cell_type": "code",
      "source": [
        "# Check data with label binarizer's label\n",
        "plt.imshow(data[30000].reshape(28,28), cmap='gray')\n",
        "plt.title(str(labels[0]))\n",
        "# menampilkan gambar dari data pada indeks ke-30000 (asumsi data berbentuk\n",
        "# gambar dengan dimensi 28x28) beserta label biner yang sesuai."
      ],
      "metadata": {
        "id": "jCL5ipbsvjpw",
        "outputId": "fde118a1-5fe0-4a40-9e52-f34237943af8",
        "colab": {
          "base_uri": "https://localhost:8080/",
          "height": 469
        }
      },
      "execution_count": null,
      "outputs": [
        {
          "output_type": "execute_result",
          "data": {
            "text/plain": [
              "Text(0.5, 1.0, '[0 0 0 0 0 0 0 0 0 0 1 0 0 0 0 0 0 0 0 0 0 0 0 0 0 0 0 0 0 0 0 0 0 0 0 0]')"
            ]
          },
          "metadata": {},
          "execution_count": 46
        },
        {
          "output_type": "display_data",
          "data": {
            "text/plain": [
              "<Figure size 640x480 with 1 Axes>"
            ],
            "image/png": "[encoded data removed]"
          },
          "metadata": {}
        }
      ]
    },
    {
      "cell_type": "code",
      "source": [
        "# Since our data is not balance, we will handle it by giving weight for 'small' data\n",
        "\n",
        "# Check number of data for each labels first\n",
        "classes_total = labels.sum(axis = 0)\n",
        "classes_total\n",
        "\n",
        "# menghitung jumlah data untuk setiap label pertama dengan menjumlahkan\n",
        "# nilai-nilai pada setiap kolom dari variabel 'labels'."
      ],
      "metadata": {
        "id": "njDbZXKzvsx2",
        "outputId": "f30c4906-a1e7-4380-ff50-ba2b957fe255",
        "colab": {
          "base_uri": "https://localhost:8080/"
        }
      },
      "execution_count": null,
      "outputs": [
        {
          "output_type": "execute_result",
          "data": {
            "text/plain": [
              "array([ 6903,  7877,  6990,  7141,  6824,  6313,  6876,  7293,  6825,\n",
              "        6958, 13869,  8668, 23409, 10134, 11440,  1163,  5762,  7218,\n",
              "        1120,  8493,  5603, 11586, 12336, 19010, 57825, 19341,  5812,\n",
              "       11566, 48419, 22495, 29008,  4182, 10784,  6272, 10859,  6076])"
            ]
          },
          "metadata": {},
          "execution_count": 47
        }
      ]
    },
    {
      "cell_type": "code",
      "source": [
        "# Check the biggest value of data\n",
        "classes_total.max()\n",
        "# menampilkan nilai maksimum dari jumlah data pada satu label tertentu."
      ],
      "metadata": {
        "id": "R1hHYtGLv_ZO",
        "outputId": "3b812b65-8e0f-4000-9719-a0dd1b472dc7",
        "colab": {
          "base_uri": "https://localhost:8080/"
        }
      },
      "execution_count": null,
      "outputs": [
        {
          "output_type": "execute_result",
          "data": {
            "text/plain": [
              "57825"
            ]
          },
          "metadata": {},
          "execution_count": 48
        }
      ]
    },
    {
      "cell_type": "code",
      "source": [
        "# Create a weight for each data\n",
        "classes_weights = {}\n",
        "for i in range(0, len(classes_total)):\n",
        "  #print(i)\n",
        "  classes_weights[i] = classes_total.max() / classes_total[i]\n",
        "# membuat bobot untuk setiap data dengan mengiterasi setiap label dan menghitung\n",
        "# bobotnya berdasarkan perbandingan jumlah data terbanyak dengan jumlah data pada setiap label.\n",
        "\n",
        "# Check the weight for each data\n",
        "classes_weights\n",
        "# menampilkan bobot yang telah dihitung untuk setiap data."
      ],
      "metadata": {
        "id": "7TJFrxS2wFTO",
        "outputId": "a94fca82-922b-498d-a3f1-f0c0dd92ba53",
        "colab": {
          "base_uri": "https://localhost:8080/"
        }
      },
      "execution_count": null,
      "outputs": [
        {
          "output_type": "execute_result",
          "data": {
            "text/plain": [
              "{0: 8.376792698826597,\n",
              " 1: 7.340992763742541,\n",
              " 2: 8.272532188841202,\n",
              " 3: 8.097605377398123,\n",
              " 4: 8.473769050410317,\n",
              " 5: 9.15967052114684,\n",
              " 6: 8.409685863874346,\n",
              " 7: 7.928835870012341,\n",
              " 8: 8.472527472527473,\n",
              " 9: 8.310577752227651,\n",
              " 10: 4.169370538611291,\n",
              " 11: 6.671089063221043,\n",
              " 12: 2.4702037677816224,\n",
              " 13: 5.7060390763765545,\n",
              " 14: 5.0546328671328675,\n",
              " 15: 49.72055030094583,\n",
              " 16: 10.035577924331829,\n",
              " 17: 8.011221945137157,\n",
              " 18: 51.629464285714285,\n",
              " 19: 6.808548216178029,\n",
              " 20: 10.320364090665715,\n",
              " 21: 4.990937338166753,\n",
              " 22: 4.6875,\n",
              " 23: 3.0418200946870066,\n",
              " 24: 1.0,\n",
              " 25: 2.989762680316426,\n",
              " 26: 9.94924294562973,\n",
              " 27: 4.999567698426422,\n",
              " 28: 1.1942625828703608,\n",
              " 29: 2.5705712380529007,\n",
              " 30: 1.993415609487038,\n",
              " 31: 13.827116212338593,\n",
              " 32: 5.362110534124629,\n",
              " 33: 9.21954719387755,\n",
              " 34: 5.3250759738465785,\n",
              " 35: 9.51695194206715}"
            ]
          },
          "metadata": {},
          "execution_count": 49
        }
      ]
    },
    {
      "cell_type": "markdown",
      "source": [
        "# Penjelasan\n",
        "\n",
        "Proses normalisasi data ini bertujuan untuk mengubah rentang nilai setiap fitur data menjadi kisaran antara 0 hingga 1. Dengan melakukan normalisasi ini, perbedaan skala nilai antar fitur bisa disamakan, mempermudah model dalam mempelajari pola-pola yang ada dalam dataset. Misalnya, jika dataset berisi gambar, normalisasi akan mengubah intensitas piksel dari rentang 0 hingga 255 menjadi rentang 0 hingga 1, yang umumnya diperlukan dalam proses pelatihan model.\n",
        "\n",
        "Proses encoding label menggunakan Label Binarizer memiliki tujuan untuk mengonversi label kategori menjadi representasi biner. Hasil dari encoding ini akan memberikan representasi biner untuk setiap label yang ada dalam dataset. Representasi ini biasanya berbentuk matriks dengan jumlah baris yang sama dengan jumlah sampel data dan jumlah kolom yang sesuai dengan jumlah kelas atau label yang ada dalam dataset. Sebagai contoh, jika terdapat 3 kelas label, hasil encoding akan membentuk matriks dengan 3 kolom, masing-masing mewakili salah satu label dengan nilai biner 0 atau 1.\n",
        "\n",
        "Tampilan gambar yang ditampilkan merupakan representasi visual dari data. Gambar yang ditampilkan adalah gambar dari dataset yang memiliki label biner tertentu. Misalnya, menampilkan gambar yang sesuai dengan label biner [0, 1, 0] dari dataset, kita akan melihat visualisasi gambar yang sesuai dengan label biner tersebut.\n",
        "\n",
        "Bobot yang diberikan untuk setiap label bertujuan untuk menangani ketidakseimbangan dalam dataset. Bobot ini memberikan penekanan lebih pada data yang jumlahnya lebih sedikit. Dengan memberikan bobot ini, model machine learning cenderung lebih memperhatikan data yang kurang representatif agar dapat mempelajari pola yang ada secara lebih baik.\n",
        "\n",
        "Jadi, hasil dari proses preprocessing ini meliputi normalisasi data guna menyamakan skala nilai, encoding label dengan menggunakan Label Binarizer untuk mendapatkan representasi biner, serta penggunaan bobot untuk menangani ketidakseimbangan data yang memungkinkan model untuk belajar dari data yang kurang representatif."
      ],
      "metadata": {
        "id": "4p-QG8oVJXQF"
      }
    },
    {
      "cell_type": "markdown",
      "source": [
        "# Split Data to Train and Test\n",
        "\n",
        "> Indented block\n",
        "\n"
      ],
      "metadata": {
        "id": "VtDS1O6JwSQ5"
      }
    },
    {
      "cell_type": "markdown",
      "source": [
        "Dataset yang telah dimuat dibagi menjadi data latih (train) dan data uji (test). Data latih digunakan untuk melatih model, sedangkan data uji digunakan untuk menguji kinerja model yang telah dilatih."
      ],
      "metadata": {
        "id": "obNMYg0huwPU"
      }
    },
    {
      "cell_type": "code",
      "source": [
        "# Split Data to Train and Test\n",
        "# Memisahkan data menjadi data latih dan data uji\n",
        "# `train_test_split` akan membagi data dan labelnya menjadi data latih (train) dan data uji (test)\n",
        "# test_size = 0.2 menandakan proporsi data yang dialokasikan untuk data uji sebesar 20%\n",
        "# random_state = 1 digunakan untuk menghasilkan pembagian yang sama jika kode ini dijalankan lebih dari satu kali\n",
        "# stratify = labels bertujuan untuk memastikan proporsi kelas yang sama di antara data latih dan data uji\n",
        "X_train, X_test, y_train, y_test = train_test_split(data, labels, test_size=0.2, random_state=1, stratify=labels)"
      ],
      "metadata": {
        "id": "rV62GJySwM2z"
      },
      "execution_count": null,
      "outputs": []
    },
    {
      "cell_type": "markdown",
      "source": [
        "## Create Data Augmentation"
      ],
      "metadata": {
        "id": "q7Hs5GwGxw4E"
      }
    },
    {
      "cell_type": "markdown",
      "source": [],
      "metadata": {
        "id": "Oyf1dv_hwpXY"
      }
    },
    {
      "cell_type": "code",
      "source": [
        "# Import library\n",
        "# Mengimpor library yang dibutuhkan untuk augmentasi data menggunakan ImageDataGenerator dari TensorFlow\n",
        "\n",
        "from tensorflow.keras.preprocessing.image import ImageDataGenerator"
      ],
      "metadata": {
        "id": "Xn1jiVn9x2Gx"
      },
      "execution_count": null,
      "outputs": []
    },
    {
      "cell_type": "code",
      "source": [
        "# ImageDataGenerator akan menghasilkan variasi data baru dari data yang ada dengan menerapkan transformasi tertentu\n",
        "# Berbagai parameter seperti rotasi, zoom, pergeseran, dan flip horizontal bisa diterapkan pada gambar\n",
        "augmentation = ImageDataGenerator(rotation_range = 10, zoom_range=0.05, width_shift_range=0.1,\n",
        "                                  height_shift_range=0.1, horizontal_flip = False)"
      ],
      "metadata": {
        "id": "su41P3box6Zm"
      },
      "execution_count": null,
      "outputs": []
    },
    {
      "cell_type": "markdown",
      "source": [
        "# Build CNN Model"
      ],
      "metadata": {
        "id": "GYwIT1TZw8SM"
      }
    },
    {
      "cell_type": "code",
      "source": [
        "# Import library\n",
        "\n",
        "# Import library yang diperlukan dari TensorFlow untuk membangun model\n",
        "from tensorflow.keras.models import Sequential\n",
        "from tensorflow.keras.layers import Conv2D, MaxPool2D, Flatten, Dense\n",
        "from tensorflow.keras.callbacks import ModelCheckpoint"
      ],
      "metadata": {
        "id": "nvQ2Ly4zwX8z"
      },
      "execution_count": null,
      "outputs": []
    },
    {
      "cell_type": "code",
      "source": [
        "# Build the network\n",
        "# Membangun arsitektur jaringan neural\n",
        "\n",
        "network = Sequential()  # Membuat model sequential dari Keras\n",
        "\n",
        "# Menambahkan lapisan konvolusi pertama dengan 32 filter, ukuran kernel 3x3, fungsi aktivasi ReLU, dan input berukuran (28,28,1)\n",
        "network.add(Conv2D(filters=32, kernel_size=(3, 3), activation='relu', input_shape=(28, 28, 1)))\n",
        "\n",
        "# Menambahkan lapisan max pooling dengan ukuran pool 2x2\n",
        "network.add(MaxPool2D(pool_size=(2, 2)))\n",
        "\n",
        "# Menambahkan lapisan konvolusi kedua dengan 64 filter, ukuran kernel 3x3, fungsi aktivasi ReLU, dan padding 'same'\n",
        "network.add(Conv2D(filters=64, kernel_size=(3, 3), activation='relu', padding='same'))\n",
        "\n",
        "# Menambahkan lapisan max pooling dengan ukuran pool 2x2\n",
        "network.add(MaxPool2D(pool_size=(2, 2)))\n",
        "\n",
        "# Menambahkan lapisan konvolusi ketiga dengan 128 filter, ukuran kernel 3x3, fungsi aktivasi ReLU, dan padding 'valid'\n",
        "network.add(Conv2D(filters=128, kernel_size=(3, 3), activation='relu', padding='valid'))\n",
        "\n",
        "# Menambahkan lapisan max pooling dengan ukuran pool 2x2\n",
        "network.add(MaxPool2D(pool_size=(2, 2)))\n",
        "\n",
        "# Meratakan data ke dalam vektor satu dimensi\n",
        "network.add(Flatten())\n",
        "\n",
        "# Menambahkan lapisan dense (fully connected) dengan 64 neuron dan fungsi aktivasi ReLU\n",
        "network.add(Dense(64, activation='relu'))\n",
        "\n",
        "# Menambahkan lapisan dense (fully connected) dengan 128 neuron dan fungsi aktivasi ReLU\n",
        "network.add(Dense(128, activation='relu'))\n",
        "\n",
        "# Menambahkan lapisan output dengan 36 neuron (sesuai dengan jumlah kelas) dan fungsi aktivasi softmax\n",
        "network.add(Dense(36, activation='softmax'))\n",
        "\n",
        "# Mengompilasi model dengan categorical crossentropy sebagai fungsi loss, adam sebagai optimizer, dan mengukur akurasi sebagai metrik\n",
        "network.compile(loss='categorical_crossentropy', optimizer='adam', metrics=['accuracy'])\n"
      ],
      "metadata": {
        "id": "icRreUChxAwF"
      },
      "execution_count": null,
      "outputs": []
    },
    {
      "cell_type": "code",
      "source": [
        "# melihat ringkasan atau struktur dari model jaringan\n",
        "network.summary()"
      ],
      "metadata": {
        "id": "nAuCYbRWxIKl",
        "outputId": "8774b2c9-cb9a-4f5d-8248-722a1d155ab4",
        "colab": {
          "base_uri": "https://localhost:8080/"
        }
      },
      "execution_count": null,
      "outputs": [
        {
          "output_type": "stream",
          "name": "stdout",
          "text": [
            "Model: \"sequential\"\n",
            "_________________________________________________________________\n",
            " Layer (type)                Output Shape              Param #   \n",
            "=================================================================\n",
            " conv2d (Conv2D)             (None, 26, 26, 32)        320       \n",
            "                                                                 \n",
            " max_pooling2d (MaxPooling2  (None, 13, 13, 32)        0         \n",
            " D)                                                              \n",
            "                                                                 \n",
            " conv2d_1 (Conv2D)           (None, 13, 13, 64)        18496     \n",
            "                                                                 \n",
            " max_pooling2d_1 (MaxPoolin  (None, 6, 6, 64)          0         \n",
            " g2D)                                                            \n",
            "                                                                 \n",
            " conv2d_2 (Conv2D)           (None, 4, 4, 128)         73856     \n",
            "                                                                 \n",
            " max_pooling2d_2 (MaxPoolin  (None, 2, 2, 128)         0         \n",
            " g2D)                                                            \n",
            "                                                                 \n",
            " flatten (Flatten)           (None, 512)               0         \n",
            "                                                                 \n",
            " dense (Dense)               (None, 64)                32832     \n",
            "                                                                 \n",
            " dense_1 (Dense)             (None, 128)               8320      \n",
            "                                                                 \n",
            " dense_2 (Dense)             (None, 36)                4644      \n",
            "                                                                 \n",
            "=================================================================\n",
            "Total params: 138468 (540.89 KB)\n",
            "Trainable params: 138468 (540.89 KB)\n",
            "Non-trainable params: 0 (0.00 Byte)\n",
            "_________________________________________________________________\n"
          ]
        }
      ]
    },
    {
      "cell_type": "code",
      "source": [
        "# Membuat label aktual\n",
        "name_labels = '0123456789'  # Mendefinisikan label dari angka 0 hingga 9\n",
        "\n",
        "# Menambahkan huruf besar dalam alfabet A-Z ke dalam variabel name_labels\n",
        "name_labels += 'ABCDEFGHIJKLMNOPQRSTUVWXYZ'\n",
        "\n",
        "# Mengonversi string menjadi list karakter dan menyimpannya di variabel name_labels\n",
        "name_labels = [l for l in name_labels]\n",
        "\n",
        "# Menampilkan label aktual yang telah dibuat\n",
        "print(name_labels)"
      ],
      "metadata": {
        "id": "o7Vc4ly2xMhk",
        "outputId": "9a5c2260-f015-4a78-ec1d-42af73566a85",
        "colab": {
          "base_uri": "https://localhost:8080/"
        }
      },
      "execution_count": null,
      "outputs": [
        {
          "output_type": "stream",
          "name": "stdout",
          "text": [
            "['0', '1', '2', '3', '4', '5', '6', '7', '8', '9', 'A', 'B', 'C', 'D', 'E', 'F', 'G', 'H', 'I', 'J', 'K', 'L', 'M', 'N', 'O', 'P', 'Q', 'R', 'S', 'T', 'U', 'V', 'W', 'X', 'Y', 'Z']\n"
          ]
        }
      ]
    },
    {
      "cell_type": "markdown",
      "source": [
        "## Train model"
      ],
      "metadata": {
        "id": "DH7hSW38xX6e"
      }
    },
    {
      "cell_type": "code",
      "source": [
        "# Set model name, epoch, and batch size\n",
        "file_model = 'custom_ocr.model'  # Nama file untuk menyimpan model\n",
        "epochs = 20  # Jumlah iterasi melalui seluruh dataset yang akan dilakukan saat pelatihan\n",
        "batch_size = 128  # Jumlah sampel yang akan digunakan dalam satu iterasi"
      ],
      "metadata": {
        "id": "rNQ_-PY7xVRD"
      },
      "execution_count": null,
      "outputs": []
    },
    {
      "cell_type": "code",
      "source": [
        "# Setup checkpoint\n",
        "# Mengatur callback ModelCheckpoint untuk menyimpan model dengan performa terbaik selama pelatihan\n",
        "checkpointer = ModelCheckpoint(file_model, monitor = 'val_loss', verbose = 1, save_best_only=True)"
      ],
      "metadata": {
        "id": "F8Orj5UQxdtr"
      },
      "execution_count": null,
      "outputs": []
    },
    {
      "cell_type": "code",
      "source": [
        "# Fit the model\n",
        "history = network.fit(\n",
        "    augmentation.flow(X_train, y_train, batch_size=batch_size),  # Data augmentasi sebagai generator untuk data latih\n",
        "    validation_data=(X_test, y_test),  # Data validasi yang digunakan untuk mengevaluasi performa model\n",
        "    steps_per_epoch=len(X_train) // batch_size,  # Jumlah langkah per epoch yang dilakukan dalam setiap iterasi pelatihan\n",
        "    epochs=epochs,  # Jumlah iterasi melalui seluruh dataset\n",
        "    class_weight=classes_weights,  # Menentukan bobot kelas untuk menangani ketidakseimbangan data\n",
        "    verbose=1,  # Level detail output saat pelatihan\n",
        "    callbacks=[checkpointer]  # Daftar callback yang akan digunakan saat pelatihan\n",
        ")"
      ],
      "metadata": {
        "id": "enFAwiaxxkgx",
        "outputId": "a54f0580-74bf-4b33-a147-d978eef634b5",
        "colab": {
          "base_uri": "https://localhost:8080/"
        }
      },
      "execution_count": 49,
      "outputs": [
        {
          "metadata": {
            "tags": null
          },
          "name": "stdout",
          "output_type": "stream",
          "text": [
            "Epoch 1/20\n",
            "2765/2765 [==============================] - ETA: 0s - loss: 2.1620 - accuracy: 0.8283\n",
            "Epoch 1: val_loss improved from inf to 0.20115, saving model to custom_ocr.model\n",
            "2765/2765 [==============================] - 147s 49ms/step - loss: 2.1620 - accuracy: 0.8283 - val_loss: 0.2011 - val_accuracy: 0.9330\n",
            "Epoch 2/20\n",
            "2765/2765 [==============================] - ETA: 0s - loss: 0.9719 - accuracy: 0.9039\n",
            "Epoch 2: val_loss did not improve from 0.20115\n",
            "2765/2765 [==============================] - 148s 53ms/step - loss: 0.9719 - accuracy: 0.9039 - val_loss: 0.2145 - val_accuracy: 0.9117\n",
            "Epoch 3/20\n",
            "2765/2765 [==============================] - ETA: 0s - loss: 0.8122 - accuracy: 0.9149\n",
            "Epoch 3: val_loss improved from 0.20115 to 0.18757, saving model to custom_ocr.model\n",
            "2765/2765 [==============================] - 138s 50ms/step - loss: 0.8122 - accuracy: 0.9149 - val_loss: 0.1876 - val_accuracy: 0.9240\n",
            "Epoch 4/20\n",
            "2765/2765 [==============================] - ETA: 0s - loss: 0.7145 - accuracy: 0.9221\n",
            "Epoch 4: val_loss did not improve from 0.18757\n",
            "2765/2765 [==============================] - 149s 54ms/step - loss: 0.7145 - accuracy: 0.9221 - val_loss: 0.2467 - val_accuracy: 0.8902\n",
            "Epoch 5/20\n",
            "2765/2765 [==============================] - ETA: 0s - loss: 0.6579 - accuracy: 0.9269\n",
            "Epoch 5: val_loss did not improve from 0.18757\n",
            "2765/2765 [==============================] - 141s 51ms/step - loss: 0.6579 - accuracy: 0.9269 - val_loss: 0.2766 - val_accuracy: 0.8864\n",
            "Epoch 6/20\n",
            "2765/2765 [==============================] - ETA: 0s - loss: 0.6115 - accuracy: 0.9304\n",
            "Epoch 6: val_loss did not improve from 0.18757\n",
            "2765/2765 [==============================] - 140s 51ms/step - loss: 0.6115 - accuracy: 0.9304 - val_loss: 0.3025 - val_accuracy: 0.8760\n",
            "Epoch 7/20\n",
            "2764/2765 [============================>.] - ETA: 0s - loss: 0.5758 - accuracy: 0.9332\n",
            "Epoch 7: val_loss did not improve from 0.18757\n",
            "2765/2765 [==============================] - 141s 51ms/step - loss: 0.5759 - accuracy: 0.9332 - val_loss: 0.2733 - val_accuracy: 0.8838\n",
            "Epoch 8/20\n",
            "2765/2765 [==============================] - ETA: 0s - loss: 0.5533 - accuracy: 0.9346\n",
            "Epoch 8: val_loss did not improve from 0.18757\n",
            "2765/2765 [==============================] - 147s 53ms/step - loss: 0.5533 - accuracy: 0.9346 - val_loss: 0.2966 - val_accuracy: 0.8733\n",
            "Epoch 9/20\n",
            "2764/2765 [============================>.] - ETA: 0s - loss: 0.5236 - accuracy: 0.9373\n",
            "Epoch 9: val_loss did not improve from 0.18757\n",
            "2765/2765 [==============================] - 144s 52ms/step - loss: 0.5237 - accuracy: 0.9373 - val_loss: 0.2519 - val_accuracy: 0.8921\n",
            "Epoch 10/20\n",
            "2765/2765 [==============================] - ETA: 0s - loss: 0.5075 - accuracy: 0.9379\n",
            "Epoch 10: val_loss did not improve from 0.18757\n",
            "2765/2765 [==============================] - 137s 50ms/step - loss: 0.5075 - accuracy: 0.9379 - val_loss: 0.2684 - val_accuracy: 0.8818\n",
            "Epoch 11/20\n",
            "2765/2765 [==============================] - ETA: 0s - loss: 0.4913 - accuracy: 0.9396\n",
            "Epoch 11: val_loss did not improve from 0.18757\n",
            "2765/2765 [==============================] - 144s 52ms/step - loss: 0.4913 - accuracy: 0.9396 - val_loss: 0.2162 - val_accuracy: 0.9018\n",
            "Epoch 12/20\n",
            "2765/2765 [==============================] - ETA: 0s - loss: 0.4809 - accuracy: 0.9404\n",
            "Epoch 12: val_loss did not improve from 0.18757\n",
            "2765/2765 [==============================] - 138s 50ms/step - loss: 0.4809 - accuracy: 0.9404 - val_loss: 0.2335 - val_accuracy: 0.8995\n",
            "Epoch 13/20\n",
            "2765/2765 [==============================] - ETA: 0s - loss: 0.4609 - accuracy: 0.9426\n",
            "Epoch 13: val_loss did not improve from 0.18757\n",
            "2765/2765 [==============================] - 145s 52ms/step - loss: 0.4609 - accuracy: 0.9426 - val_loss: 0.2919 - val_accuracy: 0.8771\n",
            "Epoch 14/20\n",
            "2764/2765 [============================>.] - ETA: 0s - loss: 0.4567 - accuracy: 0.9427\n",
            "Epoch 14: val_loss did not improve from 0.18757\n",
            "2765/2765 [==============================] - 138s 50ms/step - loss: 0.4567 - accuracy: 0.9427 - val_loss: 0.2130 - val_accuracy: 0.9106\n",
            "Epoch 15/20\n",
            "2764/2765 [============================>.] - ETA: 0s - loss: 0.4474 - accuracy: 0.9446\n",
            "Epoch 15: val_loss did not improve from 0.18757\n",
            "2765/2765 [==============================] - 146s 53ms/step - loss: 0.4474 - accuracy: 0.9446 - val_loss: 0.2599 - val_accuracy: 0.8771\n",
            "Epoch 16/20\n",
            "2765/2765 [==============================] - ETA: 0s - loss: 0.4430 - accuracy: 0.9444\n",
            "Epoch 16: val_loss did not improve from 0.18757\n",
            "2765/2765 [==============================] - 143s 52ms/step - loss: 0.4430 - accuracy: 0.9444 - val_loss: 0.2269 - val_accuracy: 0.8996\n",
            "Epoch 17/20\n",
            "2765/2765 [==============================] - ETA: 0s - loss: 0.4299 - accuracy: 0.9460\n",
            "Epoch 17: val_loss did not improve from 0.18757\n",
            "2765/2765 [==============================] - 137s 50ms/step - loss: 0.4299 - accuracy: 0.9460 - val_loss: 0.1969 - val_accuracy: 0.9228\n",
            "Epoch 18/20\n",
            "2765/2765 [==============================] - ETA: 0s - loss: 0.4274 - accuracy: 0.9468\n",
            "Epoch 18: val_loss improved from 0.18757 to 0.18183, saving model to custom_ocr.model\n",
            "2765/2765 [==============================] - 144s 52ms/step - loss: 0.4274 - accuracy: 0.9468 - val_loss: 0.1818 - val_accuracy: 0.9321\n",
            "Epoch 19/20\n",
            "2765/2765 [==============================] - ETA: 0s - loss: 0.4161 - accuracy: 0.9469\n",
            "Epoch 19: val_loss improved from 0.18183 to 0.17394, saving model to custom_ocr.model\n",
            "2765/2765 [==============================] - 148s 54ms/step - loss: 0.4161 - accuracy: 0.9469 - val_loss: 0.1739 - val_accuracy: 0.9324\n",
            "Epoch 20/20\n",
            "2765/2765 [==============================] - ETA: 0s - loss: 0.4156 - accuracy: 0.9482\n",
            "Epoch 20: val_loss improved from 0.17394 to 0.17296, saving model to custom_ocr.model\n",
            "2765/2765 [==============================] - 140s 51ms/step - loss: 0.4156 - accuracy: 0.9482 - val_loss: 0.1730 - val_accuracy: 0.9347\n"
          ]
        }
      ]
    },
    {
      "cell_type": "markdown",
      "source": [
        "# Penjelasan\n",
        "\n",
        "Hasil dari proses ini adalah pelatihan model jaringan saraf menggunakan teknik augmentasi data pada dataset pelatihan. Augmentasi data memungkinkan dataset asli diperluas dengan variasi tambahan, seperti rotasi, pergeseran, dan perbesaran gambar, yang diterapkan secara dinamis saat proses pelatihan. Data latih akan mengalir melalui langkah-langkah (batches) yang dibentuk oleh aliran data augmentasi.\n",
        "\n",
        "Selama proses pelatihan, model akan diperbarui secara berulang melalui jumlah epoch yang telah ditentukan. Setiap epoch merupakan satu iterasi melalui keseluruhan dataset latih. Dengan penggunaan bobot kelas, model diberi kesadaran lebih terhadap kelas-kelas yang jumlahnya lebih sedikit dalam dataset. Hal ini membantu model untuk lebih fokus dan memperoleh pemahaman yang lebih baik terhadap kelas-kelas yang kurang representatif.\n",
        "\n",
        "Hasil akhir dari pelatihan ini dapat diamati melalui objek history yang terbentuk. Objek ini berisi metrik yang diukur, seperti akurasi atau kehilangan (loss), yang terakumulasi selama proses pelatihan model. Melalui analisis dari objek history, kita dapat mengevaluasi performa dan tingkat pembelajaran model pada setiap iterasi (epoch) pelatihan.\n",
        "\n",
        "Secara keseluruhan, hasil yang diperoleh adalah melatih model jaringan saraf dengan memanfaatkan teknik augmentasi data untuk memperluas variasi dataset, penerapan bobot kelas untuk penekanan pada kelas-kelas minor, serta pemantauan dan evaluasi pelatihan model menggunakan callback yang mengamati performa selama proses pelatihan."
      ],
      "metadata": {
        "id": "34I1OEqxS89d"
      }
    },
    {
      "cell_type": "markdown",
      "source": [
        "# Evaluate Model"
      ],
      "metadata": {
        "id": "bM4mGoWL6jxk"
      }
    },
    {
      "cell_type": "markdown",
      "source": [
        "## Make a Single Prediction"
      ],
      "metadata": {
        "id": "ig0TiV6N7V29"
      }
    },
    {
      "cell_type": "markdown",
      "source": [],
      "metadata": {
        "id": "5pbMkmvg7V0i"
      }
    },
    {
      "cell_type": "code",
      "source": [
        "# make a prediction\n",
        "# Melakukan prediksi menggunakan model neural network terhadap data uji (X_test)\n",
        "# network.predict() digunakan untuk membuat prediksi\n",
        "# batch_size=batch_size menunjukkan ukuran batch yang digunakan saat melakukan prediksi\n",
        "predictions = network.predict(X_test, batch_size=batch_size)"
      ],
      "metadata": {
        "id": "WDJUSW-l6lEl",
        "outputId": "954bd7e2-5004-4fac-cd89-430722ce8f84",
        "colab": {
          "base_uri": "https://localhost:8080/"
        }
      },
      "execution_count": 50,
      "outputs": [
        {
          "metadata": {
            "tags": null
          },
          "name": "stdout",
          "output_type": "stream",
          "text": [
            "692/692 [==============================] - 2s 3ms/step\n"
          ]
        }
      ]
    },
    {
      "cell_type": "code",
      "source": [
        "# Menampilkan prediksi dari model untuk data dengan indeks ke-1 dari data uji (X_test)\n",
        "# predictions[1] digunakan untuk mengakses prediksi untuk data dengan indeks ke-1\n",
        "# Ini akan menampilkan probabilitas untuk setiap label\n",
        "predictions[1]"
      ],
      "metadata": {
        "id": "tQ5Ta4b96pEt",
        "outputId": "061f8d8d-bfc2-48df-d6f2-71ee54d88939",
        "colab": {
          "base_uri": "https://localhost:8080/"
        }
      },
      "execution_count": 51,
      "outputs": [
        {
          "data": {
            "text/plain": [
              "array([4.6095754e-20, 1.2422656e-12, 2.2996793e-13, 7.0233637e-16,\n",
              "       3.0283227e-18, 5.0425235e-13, 6.4957858e-27, 4.0582589e-15,\n",
              "       3.5616817e-14, 7.1376562e-19, 3.6638886e-13, 1.4637709e-13,\n",
              "       7.6462309e-12, 6.9142699e-11, 5.8068580e-12, 3.7804346e-11,\n",
              "       1.8588926e-15, 2.7592834e-13, 9.9999726e-01, 2.6993562e-06,\n",
              "       5.8605390e-14, 2.6802132e-11, 3.1313470e-19, 5.3589389e-14,\n",
              "       1.3749376e-11, 5.6778383e-13, 3.7913612e-18, 1.0274365e-14,\n",
              "       1.2174001e-11, 1.5733212e-08, 1.2953083e-14, 1.0785519e-16,\n",
              "       1.7196101e-20, 4.8053944e-12, 1.5221099e-13, 2.8086665e-12],\n",
              "      dtype=float32)"
            ]
          },
          "execution_count": 51,
          "metadata": {},
          "output_type": "execute_result"
        }
      ]
    },
    {
      "cell_type": "code",
      "source": [
        "# Menggunakan np.argmax() untuk mendapatkan label dengan nilai probabilitas tertinggi dari prediksi pada data dengan indeks ke-1 dari X_test\n",
        "np.argmax(predictions[1])"
      ],
      "metadata": {
        "id": "9THTrYAH64g8",
        "outputId": "96d5e2e5-bbf9-42a7-af39-e9d6d51c9537",
        "colab": {
          "base_uri": "https://localhost:8080/"
        }
      },
      "execution_count": 52,
      "outputs": [
        {
          "data": {
            "text/plain": [
              "18"
            ]
          },
          "execution_count": 52,
          "metadata": {},
          "output_type": "execute_result"
        }
      ]
    },
    {
      "cell_type": "code",
      "source": [
        "# Check label for 24\n",
        "name_labels[18]"
      ],
      "metadata": {
        "id": "pG6n2eTI6-Ly",
        "outputId": "46646611-028a-47ee-eaa1-f99bacf8be67",
        "colab": {
          "base_uri": "https://localhost:8080/",
          "height": 36
        }
      },
      "execution_count": 53,
      "outputs": [
        {
          "data": {
            "application/vnd.google.colaboratory.intrinsic+json": {
              "type": "string"
            },
            "text/plain": [
              "'I'"
            ]
          },
          "execution_count": 53,
          "metadata": {},
          "output_type": "execute_result"
        }
      ]
    },
    {
      "cell_type": "code",
      "source": [
        "# Check y_test label for 0\n",
        "y_test[1]"
      ],
      "metadata": {
        "id": "chDSvyYq7Bxq",
        "outputId": "8756c23d-8185-476c-d7d2-121c2a616bdb",
        "colab": {
          "base_uri": "https://localhost:8080/"
        }
      },
      "execution_count": 54,
      "outputs": [
        {
          "data": {
            "text/plain": [
              "array([0, 0, 0, 0, 0, 0, 0, 0, 0, 0, 0, 0, 0, 0, 0, 0, 0, 0, 1, 0, 0, 0,\n",
              "       0, 0, 0, 0, 0, 0, 0, 0, 0, 0, 0, 0, 0, 0])"
            ]
          },
          "execution_count": 54,
          "metadata": {},
          "output_type": "execute_result"
        }
      ]
    },
    {
      "cell_type": "code",
      "source": [
        "# Mencari indeks nilai tertinggi dari vektor label y_test pada indeks ke-1\n",
        "np.argmax(y_test[1])"
      ],
      "metadata": {
        "id": "BpoE99Us7KpZ",
        "outputId": "0ea21c03-dbd0-4fa8-d158-76a2ea9fabce",
        "colab": {
          "base_uri": "https://localhost:8080/"
        }
      },
      "execution_count": 55,
      "outputs": [
        {
          "data": {
            "text/plain": [
              "18"
            ]
          },
          "execution_count": 55,
          "metadata": {},
          "output_type": "execute_result"
        }
      ]
    },
    {
      "cell_type": "code",
      "source": [
        "# Mencari label dari nilai tertinggi dalam vektor label y_test pada indeks ke-18\n",
        "name_labels[np.argmax(y_test[18])]"
      ],
      "metadata": {
        "id": "KjJRX1lC7Ppw",
        "outputId": "7500425f-6d4e-4ad6-9fae-486098054357",
        "colab": {
          "base_uri": "https://localhost:8080/",
          "height": 36
        }
      },
      "execution_count": 56,
      "outputs": [
        {
          "data": {
            "application/vnd.google.colaboratory.intrinsic+json": {
              "type": "string"
            },
            "text/plain": [
              "'S'"
            ]
          },
          "execution_count": 56,
          "metadata": {},
          "output_type": "execute_result"
        }
      ]
    },
    {
      "cell_type": "markdown",
      "source": [
        "## Make an Evaluation on Test Data"
      ],
      "metadata": {
        "id": "_xFS3-cs7a0x"
      }
    },
    {
      "cell_type": "code",
      "source": [
        "# Mengevaluasi model neural network menggunakan data uji (X_test dan y_test)\n",
        "network.evaluate(X_test, y_test)"
      ],
      "metadata": {
        "id": "t-rko8WP7TYA",
        "outputId": "70ac4c09-52fa-4758-fada-de943d3248a3",
        "colab": {
          "base_uri": "https://localhost:8080/"
        }
      },
      "execution_count": 57,
      "outputs": [
        {
          "metadata": {
            "tags": null
          },
          "name": "stdout",
          "output_type": "stream",
          "text": [
            "2766/2766 [==============================] - 10s 4ms/step - loss: 0.1730 - accuracy: 0.9347\n"
          ]
        },
        {
          "data": {
            "text/plain": [
              "[0.1729571372270584, 0.9347158074378967]"
            ]
          },
          "execution_count": 57,
          "metadata": {},
          "output_type": "execute_result"
        }
      ]
    },
    {
      "cell_type": "code",
      "source": [
        "# Print Classification Report\n",
        "print(classification_report(y_test.argmax(axis=1), predictions.argmax(axis=1), target_names = name_labels))"
      ],
      "metadata": {
        "id": "VkQtgoCq7gx2",
        "outputId": "864613df-1dab-45bb-f1f3-da9b7c86c6d3",
        "colab": {
          "base_uri": "https://localhost:8080/"
        }
      },
      "execution_count": 58,
      "outputs": [
        {
          "metadata": {
            "tags": null
          },
          "name": "stdout",
          "output_type": "stream",
          "text": [
            "              precision    recall  f1-score   support\n",
            "\n",
            "           0       0.27      0.79      0.41      1381\n",
            "           1       0.97      0.99      0.98      1575\n",
            "           2       0.92      0.97      0.94      1398\n",
            "           3       0.95      0.99      0.97      1428\n",
            "           4       0.92      0.96      0.94      1365\n",
            "           5       0.58      0.95      0.72      1263\n",
            "           6       0.97      0.94      0.96      1375\n",
            "           7       0.96      0.99      0.98      1459\n",
            "           8       0.97      0.98      0.98      1365\n",
            "           9       0.98      0.99      0.98      1392\n",
            "           A       0.99      0.99      0.99      2774\n",
            "           B       0.96      0.99      0.97      1734\n",
            "           C       0.99      0.99      0.99      4682\n",
            "           D       0.84      0.98      0.90      2027\n",
            "           E       0.99      0.99      0.99      2288\n",
            "           F       0.96      1.00      0.98       233\n",
            "           G       0.91      0.97      0.94      1152\n",
            "           H       0.96      0.99      0.98      1444\n",
            "           I       0.99      0.99      0.99       224\n",
            "           J       0.98      0.97      0.98      1698\n",
            "           K       0.97      0.99      0.98      1121\n",
            "           L       0.99      0.98      0.98      2317\n",
            "           M       0.99      1.00      0.99      2467\n",
            "           N       0.99      0.98      0.99      3802\n",
            "           O       0.97      0.72      0.83     11565\n",
            "           P       1.00      0.99      0.99      3868\n",
            "           Q       0.95      0.99      0.97      1162\n",
            "           R       0.99      0.98      0.99      2313\n",
            "           S       0.99      0.90      0.94      9684\n",
            "           T       1.00      0.99      0.99      4499\n",
            "           U       0.99      0.98      0.98      5801\n",
            "           V       0.98      1.00      0.99       836\n",
            "           W       0.98      0.99      0.99      2157\n",
            "           X       0.99      0.99      0.99      1254\n",
            "           Y       0.98      0.95      0.97      2172\n",
            "           Z       0.97      0.92      0.94      1215\n",
            "\n",
            "    accuracy                           0.93     88490\n",
            "   macro avg       0.94      0.97      0.95     88490\n",
            "weighted avg       0.96      0.93      0.94     88490\n",
            "\n"
          ]
        }
      ]
    },
    {
      "cell_type": "code",
      "source": [
        "# Menggunakan matplotlib untuk membuat plot nilai loss pada set data validasi\n",
        "# ('val_loss') untuk setiap epoch\n",
        "plt.plot(history.history['val_loss'])"
      ],
      "metadata": {
        "id": "mIETfqMu7nv1",
        "outputId": "45593bab-21e1-410b-a5c8-24972aa1b4b3",
        "colab": {
          "base_uri": "https://localhost:8080/",
          "height": 447
        }
      },
      "execution_count": 59,
      "outputs": [
        {
          "data": {
            "text/plain": [
              "[<matplotlib.lines.Line2D at 0x7e828bdec100>]"
            ]
          },
          "execution_count": 59,
          "metadata": {},
          "output_type": "execute_result"
        },
        {
          "data": {
            "image/png": "[encoded data removed]",
            "text/plain": [
              "<Figure size 640x480 with 1 Axes>"
            ]
          },
          "metadata": {},
          "output_type": "display_data"
        }
      ]
    },
    {
      "cell_type": "code",
      "source": [
        "# Melihat kunci-kunci (keys) yang tersedia dalam variabel history.history\n",
        "history.history.keys()"
      ],
      "metadata": {
        "id": "mNUP1QP17vas",
        "outputId": "fe36e1b0-1fcb-4a60-c647-daef481a0c63",
        "colab": {
          "base_uri": "https://localhost:8080/"
        }
      },
      "execution_count": 60,
      "outputs": [
        {
          "data": {
            "text/plain": [
              "dict_keys(['loss', 'accuracy', 'val_loss', 'val_accuracy'])"
            ]
          },
          "execution_count": 60,
          "metadata": {},
          "output_type": "execute_result"
        }
      ]
    },
    {
      "cell_type": "code",
      "source": [
        "# Memvisualisasikan metrik 'val_accuracy' (akurasi pada set data validasi) dari\n",
        "# hasil pelatihan model\n",
        "plt.plot(history.history['val_accuracy'])"
      ],
      "metadata": {
        "id": "VwEZzjEa716s",
        "outputId": "5567252e-9e5b-4548-f292-33836dfb6390",
        "colab": {
          "base_uri": "https://localhost:8080/",
          "height": 447
        }
      },
      "execution_count": 61,
      "outputs": [
        {
          "data": {
            "text/plain": [
              "[<matplotlib.lines.Line2D at 0x7e828beb4be0>]"
            ]
          },
          "execution_count": 61,
          "metadata": {},
          "output_type": "execute_result"
        },
        {
          "data": {
            "image/png": "[encoded data removed]",
            "text/plain": [
              "<Figure size 640x480 with 1 Axes>"
            ]
          },
          "metadata": {},
          "output_type": "display_data"
        }
      ]
    },
    {
      "cell_type": "markdown",
      "source": [
        "\n",
        "\n",
        "# Save The Model"
      ],
      "metadata": {
        "id": "D0rviDyl79Bk"
      }
    },
    {
      "cell_type": "code",
      "source": [
        "# The result will show in colab directory\n",
        "network.save('network', save_format= 'h5')\n",
        "# Menyimpan model yang telah dilatih dalam format h5 dengan nama 'network'"
      ],
      "metadata": {
        "id": "QZ4ftlmq76nC",
        "outputId": "a6bf5c83-0f1f-4937-d326-bdcabd12c268",
        "colab": {
          "base_uri": "https://localhost:8080/"
        }
      },
      "execution_count": 62,
      "outputs": [
        {
          "metadata": {
            "tags": null
          },
          "name": "stderr",
          "output_type": "stream",
          "text": [
            "/usr/local/lib/python3.10/dist-packages/keras/src/engine/training.py:3079: UserWarning: You are saving your model as an HDF5 file via `model.save()`. This file format is considered legacy. We recommend using instead the native Keras format, e.g. `model.save('my_model.keras')`.\n",
            "  saving_api.save_model(\n"
          ]
        }
      ]
    },
    {
      "cell_type": "markdown",
      "source": [
        "# Testing on Real Image"
      ],
      "metadata": {
        "id": "A3EWZVrz0YDV"
      }
    },
    {
      "cell_type": "code",
      "source": [
        "# Import library\n",
        "from tensorflow.keras.models import load_model"
      ],
      "metadata": {
        "id": "1wUedJB-0Z_q"
      },
      "execution_count": 63,
      "outputs": []
    },
    {
      "cell_type": "code",
      "source": [
        "# Load saved network\n",
        "# Memuat kembali jaringan yang telah disimpan sebelumnya\n",
        "load_network = load_model('network')"
      ],
      "metadata": {
        "id": "D6E24QOm0hiB"
      },
      "execution_count": 64,
      "outputs": []
    },
    {
      "cell_type": "code",
      "source": [
        "# Check summary\n",
        "# Menampilkan ringkasan atau struktur dari model yang dimuat kembali\n",
        "load_network.summary()"
      ],
      "metadata": {
        "id": "0cB7lmOc0nlR",
        "outputId": "9a1b4a93-3c55-432b-d67a-c68e0bb68b17",
        "colab": {
          "base_uri": "https://localhost:8080/"
        }
      },
      "execution_count": 65,
      "outputs": [
        {
          "metadata": {
            "tags": null
          },
          "name": "stdout",
          "output_type": "stream",
          "text": [
            "Model: \"sequential\"\n",
            "_________________________________________________________________\n",
            " Layer (type)                Output Shape              Param #   \n",
            "=================================================================\n",
            " conv2d (Conv2D)             (None, 26, 26, 32)        320       \n",
            "                                                                 \n",
            " max_pooling2d (MaxPooling2  (None, 13, 13, 32)        0         \n",
            " D)                                                              \n",
            "                                                                 \n",
            " conv2d_1 (Conv2D)           (None, 13, 13, 64)        18496     \n",
            "                                                                 \n",
            " max_pooling2d_1 (MaxPoolin  (None, 6, 6, 64)          0         \n",
            " g2D)                                                            \n",
            "                                                                 \n",
            " conv2d_2 (Conv2D)           (None, 4, 4, 128)         73856     \n",
            "                                                                 \n",
            " max_pooling2d_2 (MaxPoolin  (None, 2, 2, 128)         0         \n",
            " g2D)                                                            \n",
            "                                                                 \n",
            " flatten (Flatten)           (None, 512)               0         \n",
            "                                                                 \n",
            " dense (Dense)               (None, 64)                32832     \n",
            "                                                                 \n",
            " dense_1 (Dense)             (None, 128)               8320      \n",
            "                                                                 \n",
            " dense_2 (Dense)             (None, 36)                4644      \n",
            "                                                                 \n",
            "=================================================================\n",
            "Total params: 138468 (540.89 KB)\n",
            "Trainable params: 138468 (540.89 KB)\n",
            "Non-trainable params: 0 (0.00 Byte)\n",
            "_________________________________________________________________\n"
          ]
        }
      ]
    },
    {
      "cell_type": "code",
      "source": [
        "# Load Image\n",
        "import cv2\n",
        "from google.colab.patches import cv2_imshow\n",
        "\n",
        "# Membaca gambar dengan nama 'b_small.png' menggunakan OpenCV\n",
        "img = cv2.imread('/content/drive/MyDrive/College/05 - Semester 5/ML/Quiz_2/b_small.png')\n",
        "\n",
        "# Menampilkan gambar menggunakan cv2_imshow dari Google Colab\n",
        "cv2_imshow(img)"
      ],
      "metadata": {
        "id": "hbnaTxZK07JW",
        "outputId": "f7081f4a-a6e6-4ddd-d6c3-01a114dcacda",
        "colab": {
          "base_uri": "https://localhost:8080/",
          "height": 317
        }
      },
      "execution_count": 66,
      "outputs": [
        {
          "data": {
            "image/png": "[encoded data removed]",
            "text/plain": [
              "<PIL.Image.Image image mode=RGB size=300x300>"
            ]
          },
          "metadata": {},
          "output_type": "display_data"
        }
      ]
    },
    {
      "cell_type": "code",
      "source": [
        "# Check shape dari gambar\n",
        "img.shape"
      ],
      "metadata": {
        "id": "EfDOYN6D1OZ9",
        "outputId": "6ca7a0f0-1dc5-406c-91db-b3df3b4780eb",
        "colab": {
          "base_uri": "https://localhost:8080/"
        }
      },
      "execution_count": 67,
      "outputs": [
        {
          "data": {
            "text/plain": [
              "(300, 300, 3)"
            ]
          },
          "execution_count": 67,
          "metadata": {},
          "output_type": "execute_result"
        }
      ]
    },
    {
      "cell_type": "code",
      "source": [
        "# Mengonversi gambar ke skala abu-abu (grayscale)\n",
        "gray_img = cv2.cvtColor(img, cv2.COLOR_BGR2GRAY)\n",
        "\n",
        "# Check shape dari gambar grayscale\n",
        "gray_img.shape"
      ],
      "metadata": {
        "id": "7e6w1zaL1RW7",
        "outputId": "47c19948-7929-4b67-fcda-20e0224594ea",
        "colab": {
          "base_uri": "https://localhost:8080/"
        }
      },
      "execution_count": 68,
      "outputs": [
        {
          "data": {
            "text/plain": [
              "(300, 300)"
            ]
          },
          "execution_count": 68,
          "metadata": {},
          "output_type": "execute_result"
        }
      ]
    },
    {
      "cell_type": "code",
      "source": [
        "# Pre-process\n",
        "# Binary Thresholding menggunakan metode Otsu\n",
        "value, thresh = cv2.threshold(gray_img, 0, 255, cv2.THRESH_BINARY + cv2.THRESH_OTSU)\n",
        "\n",
        "# Menampilkan hasil dari proses Binary Thresholding\n",
        "cv2_imshow(thresh)\n",
        "\n",
        "# Menampilkan nilai threshold yang dihitung oleh metode Otsu\n",
        "print(value)"
      ],
      "metadata": {
        "id": "9_al0IF01c3q",
        "outputId": "9ad0e37e-e9d1-4d65-d6c3-eeb2c64e6f1a",
        "colab": {
          "base_uri": "https://localhost:8080/",
          "height": 334
        }
      },
      "execution_count": 69,
      "outputs": [
        {
          "data": {
            "image/png": "[encoded data removed]",
            "text/plain": [
              "<PIL.Image.Image image mode=L size=300x300>"
            ]
          },
          "metadata": {},
          "output_type": "display_data"
        },
        {
          "metadata": {
            "tags": null
          },
          "name": "stdout",
          "output_type": "stream",
          "text": [
            "120.0\n"
          ]
        }
      ]
    },
    {
      "cell_type": "code",
      "source": [
        "# Meresize gambar agar sesuai dengan ukuran input jaringan (28*28)\n",
        "img_resize = cv2.resize(gray_img, (28,28))\n",
        "# Menampilkan gambar yang sudah di-resize\n",
        "cv2_imshow(img_resize)"
      ],
      "metadata": {
        "id": "dmjHswqd1wB5",
        "outputId": "24f10c89-cb0e-4bd9-9fab-762611b506d4",
        "colab": {
          "base_uri": "https://localhost:8080/",
          "height": 45
        }
      },
      "execution_count": 70,
      "outputs": [
        {
          "data": {
            "image/png": "[encoded data removed]",
            "text/plain": [
              "<PIL.Image.Image image mode=L size=28x28>"
            ]
          },
          "metadata": {},
          "output_type": "display_data"
        }
      ]
    },
    {
      "cell_type": "code",
      "source": [
        "# Convert to float 32\n",
        "# and extend the dimension since network input shape is 28*28*1\n",
        "# Mengonversi gambar menjadi float32 dan melakukan normalisasi\n",
        "img_input = img_resize.astype('float32') / 255 # also perform normalization\n",
        "# Menambahkan dimensi ke gambar agar sesuai dengan input jaringan (28*28*1)\n",
        "img_input = np.expand_dims(img_input, axis=-1) # insert depth\n",
        "\n",
        "# Check shape dari gambar yang akan digunakan sebagai input jaringan\n",
        "img_input.shape"
      ],
      "metadata": {
        "id": "bZStKgUl2Kk_",
        "outputId": "90f604d1-aee1-4960-a0b9-10964cd29024",
        "colab": {
          "base_uri": "https://localhost:8080/"
        }
      },
      "execution_count": 71,
      "outputs": [
        {
          "data": {
            "text/plain": [
              "(28, 28, 1)"
            ]
          },
          "execution_count": 71,
          "metadata": {},
          "output_type": "execute_result"
        }
      ]
    },
    {
      "cell_type": "code",
      "source": [
        "# Menambahkan dimensi \"jumlah data\" sebagai batch untuk input jaringan\n",
        "img_input = np.reshape(img_input, (1,28,28,1))\n",
        "img_input.shape"
      ],
      "metadata": {
        "id": "7Xs7JwKj2lxr",
        "outputId": "cea96c42-af77-4166-d4e9-fffff12b5521",
        "colab": {
          "base_uri": "https://localhost:8080/"
        }
      },
      "execution_count": 72,
      "outputs": [
        {
          "data": {
            "text/plain": [
              "(1, 28, 28, 1)"
            ]
          },
          "execution_count": 72,
          "metadata": {},
          "output_type": "execute_result"
        }
      ]
    },
    {
      "cell_type": "code",
      "source": [
        "# Melakukan prediksi menggunakan model jaringan yang telah dimuat sebelumnya\n",
        "prediction = load_network.predict(img_input)\n",
        "# Mendapatkan label prediksi dari hasil prediksi\n",
        "pred_label = np.argmax(prediction) # predict actual label\n",
        "pred_label"
      ],
      "metadata": {
        "id": "fZLWIWLs2yuX",
        "outputId": "b23861b8-fff9-403b-cad3-0e7ea7f0ba82",
        "colab": {
          "base_uri": "https://localhost:8080/"
        }
      },
      "execution_count": 73,
      "outputs": [
        {
          "metadata": {
            "tags": null
          },
          "name": "stdout",
          "output_type": "stream",
          "text": [
            "1/1 [==============================] - 0s 168ms/step\n"
          ]
        },
        {
          "data": {
            "text/plain": [
              "6"
            ]
          },
          "execution_count": 73,
          "metadata": {},
          "output_type": "execute_result"
        }
      ]
    },
    {
      "cell_type": "code",
      "source": [
        "# Mengecek label untuk angka 6\n",
        "name_labels[6]"
      ],
      "metadata": {
        "id": "72Pl04hq3WNz",
        "outputId": "70f37077-2758-4c0b-a783-4fd1fb6b458b",
        "colab": {
          "base_uri": "https://localhost:8080/",
          "height": 36
        }
      },
      "execution_count": 74,
      "outputs": [
        {
          "data": {
            "application/vnd.google.colaboratory.intrinsic+json": {
              "type": "string"
            },
            "text/plain": [
              "'6'"
            ]
          },
          "execution_count": 74,
          "metadata": {},
          "output_type": "execute_result"
        }
      ]
    },
    {
      "cell_type": "markdown",
      "source": [
        "# Kesimpulan\n",
        "\n",
        "1. Kinerja Model CNN: Model yang dikembangkan mampu dengan baik dalam mengenali karakter huruf dan angka. Hasil evaluasi pada data uji menunjukkan tingkat akurasi yang tinggi, menandakan kemampuan model dalam menggeneralisasi pada data yang tidak terlibat dalam pelatihan.\n",
        "\n",
        "2. Evaluasi Performa Model: Performa model dievaluasi menggunakan berbagai metrik seperti precision, recall, dan f1-score. Hasil evaluasi menunjukkan kinerja yang memuaskan dan konsisten, menegaskan kemampuan model dalam mengenali karakter dengan tepat dan komprehensif.\n",
        "\n",
        "3. Penggunaan Teknik Augmentasi Data: Penerapan teknik augmentasi data, seperti rotasi, pergeseran, dan zoom, memberikan kontribusi signifikan terhadap peningkatan kualitas model. Dengan memperkenalkan variasi pada dataset, model dapat mengenali karakter dalam situasi yang lebih beragam.\n",
        "\n",
        "4. Penanganan Ketidakseimbangan Kelas: Strategi untuk menangani ketidakseimbangan jumlah sampel antar kelas juga memberikan dampak positif. Dengan memberikan penekanan lebih pada kelas yang kurang representatif, model mampu belajar dengan lebih baik dari kelas yang memiliki sampel yang lebih sedikit.\n",
        "\n",
        "5. Kemampuan untuk Disimpan dan Dimuat Ulang: Model yang telah dilatih dapat disimpan dan dimuat ulang dengan mudah untuk penggunaan di masa mendatang. Kemampuan ini memungkinkan model untuk diterapkan pada berbagai aplikasi pengenalan karakter, seperti dalam pengenalan plat nomor kendaraan, pengenalan tulisan tangan, dan skenario lain yang memerlukan pengenalan karakter dalam citra atau gambar."
      ],
      "metadata": {
        "id": "ip_i0bTX2ouw"
      }
    }
  ]
}